{
 "cells": [
  {
   "cell_type": "code",
   "execution_count": 2,
   "metadata": {},
   "outputs": [],
   "source": [
    "import os\n",
    "import pandas as pd\n",
    "import numpy as np\n",
    "import networkx as nx\n",
    "import matplotlib.pyplot as plt"
   ]
  },
  {
   "cell_type": "code",
   "execution_count": 3,
   "metadata": {},
   "outputs": [
    {
     "data": {
      "text/plain": [
       "'\\nAnother way to import the data without os.path.join:\\n\\ndf = pd.read_csv(\"../../project_data/BIOGRID-ORGANISM-Arabidopsis_thaliana_Columbia-3.5.181.tab2.txt\", sep = \\'\\t\\')\\n'"
      ]
     },
     "execution_count": 3,
     "metadata": {},
     "output_type": "execute_result"
    }
   ],
   "source": [
    "path = os.path.join('C:\\\\Users\\\\ysman\\\\OneDrive\\\\Desktop\\\\project_data\\\\BIOGRID-ORGANISM-Arabidopsis_thaliana_Columbia-3.5.181.tab2.txt')\n",
    "bioGRID_file = open(path, \"r\") \n",
    "testFile = open(os.path.join('C:\\\\Users\\\\ysman\\\\OneDrive\\\\Desktop\\\\project_directory\\\\data\\\\test.txt'), 'r')\n",
    "bioGRID_DF = pd.read_csv(bioGRID_file, sep = '\\t')\n",
    "testFile_DF = pd.read_csv(testFile, sep = '\\t')\n",
    "'''\n",
    "Another way to import the data without os.path.join:\n",
    "\n",
    "df = pd.read_csv(\"../../project_data/BIOGRID-ORGANISM-Arabidopsis_thaliana_Columbia-3.5.181.tab2.txt\", sep = '\\t')\n",
    "'''"
   ]
  },
  {
   "cell_type": "markdown",
   "metadata": {},
   "source": [
    "\n",
    "### Interaction File Column Definitions\n",
    "* **BioGRID Interaction ID:** A unique identifier for each interaction within the BioGRID database. Can be used to link to BioGRID interaction pages. For example: http://thebiogrid.org/interaction/616539\n",
    "* **Entrez Gene ID for Interactor A:** The identifier from the Entrez-Gene database that corresponds to Interactor A. If no Entrez Gene ID is available, this will be a “-”.\n",
    "* **Entrez Gene ID for Interactor B:** Same structure as column 2.\n",
    "* **BioGRID ID for Interactor A:** The identifier in the BioGRID database that corresponds to Interactor A. These identifiers are best used for creating links to the BioGRID from your own websites or applications. To link to a page within our site, simply append the URL: http://thebiogrid.org/ID/ to each ID. For example, http://thebiogrid.org/31623/.\n",
    "* **BioGRID ID for Interactor B:** Same structure as column 4.\n",
    "* **Systematic name for Interactor A:** A plain text systematic name if known for interactor A. Will be a “-” if no name is available.\n",
    "* **Systematic name for Interactor B:** Same structure as column 6.\n",
    "* **Official symbol for Interactor A:** A common gene name/official symbol for interactor A. Will be a “-” if no name is available.\n",
    "* **Official symbol for Interactor B:** Same structure as column 8.\n",
    "* **Synonyms/Aliases for Interactor A:** A “|” separated list of alternate identifiers for interactor A. Will be “-” if no aliases are available.\n",
    "* **Synonyms/Aliases for Interactor B:** Same stucture as column 10.\n",
    "* **Experimental System Name:** One of the many Experimental Evidence Codes supported by the BioGRID.\n",
    "* **Experimental System Type:** This will be either “physical” or “genetic” as a classification of the Experimental System Name.\n",
    "* **Author:** First author surname of the publication in which the interaction has been shown, optionally followed by additional indicators, e.g. Stephenson A (2005)\n",
    "* **Pubmed ID:** Pubmed ID of the publication in which the interaction has been shown.\n",
    "* **Organism ID for Interactor A:** This is the NCBI Taxonomy ID for Interactor A.\n",
    "* **Organism ID for Interactor B:** Same structure as 16.\n",
    "* **Interaction Throughput:** This will be either High Throughput, Low Throughput or Both (separated by “|”).\n",
    "* **Quantitative Score:** This will be a positive for negative value recorded by the original publication depicting P-Values, Confidence Score, SGA Score, etc. Will be “-” if no score is reported.\n",
    "* **Post Translational Modification:** For any Biochemical Activity experiments, this field will be filled with the associated post translational modification. Will be “-” if no modification is reported.\n",
    "* **Phenotypes:** If any phenotype info is recorded, it will be provided here separated by “|”. Each phenotype will be of the format <phenotype>[<phenotype qualifier>]:<phenotype type>. Note that the phenotype types and qualifiers are optional and will only be present where recorded. Phenotypes may also have multiple qualifiers in which case unique qualifiers will be separated by carat (^). If no phenotype information is available, this field will contain “-”.  \n",
    "* **Qualifications:** If additional plain text information was recorded for an interaction, it will be listed with unique qualifiers separated by “|”. If no qualification is available, this field will contain “-”.\n",
    "* **Tags:** If an interaction has been tagged with additional classifications, they will be provided in this column separated by “|”. If no tag information is available, this field will contain “-”.\n",
    "* **Source Database:** This field will contain the name of the database in which this interaction was provided."
   ]
  },
  {
   "cell_type": "code",
   "execution_count": 4,
   "metadata": {},
   "outputs": [
    {
     "name": "stdout",
     "output_type": "stream",
     "text": [
      "Index(['#BioGRID Interaction ID', 'Entrez Gene Interactor A',\n",
      "       'Entrez Gene Interactor B', 'BioGRID ID Interactor A',\n",
      "       'BioGRID ID Interactor B', 'Systematic Name Interactor A',\n",
      "       'Systematic Name Interactor B', 'Official Symbol Interactor A',\n",
      "       'Official Symbol Interactor B', 'Synonyms Interactor A',\n",
      "       'Synonyms Interactor B', 'Experimental System',\n",
      "       'Experimental System Type', 'Author', 'Pubmed ID',\n",
      "       'Organism Interactor A', 'Organism Interactor B', 'Throughput', 'Score',\n",
      "       'Modification', 'Phenotypes', 'Qualifications', 'Tags',\n",
      "       'Source Database'],\n",
      "      dtype='object')\n",
      "#BioGRID Interaction ID          int64\n",
      "Entrez Gene Interactor A         int64\n",
      "Entrez Gene Interactor B         int64\n",
      "BioGRID ID Interactor A          int64\n",
      "BioGRID ID Interactor B          int64\n",
      "Systematic Name Interactor A    object\n",
      "Systematic Name Interactor B    object\n",
      "Official Symbol Interactor A    object\n",
      "Official Symbol Interactor B    object\n",
      "Synonyms Interactor A           object\n",
      "Synonyms Interactor B           object\n",
      "Experimental System             object\n",
      "Experimental System Type        object\n",
      "Author                          object\n",
      "Pubmed ID                        int64\n",
      "Organism Interactor A            int64\n",
      "Organism Interactor B            int64\n",
      "Throughput                      object\n",
      "Score                           object\n",
      "Modification                    object\n",
      "Phenotypes                      object\n",
      "Qualifications                  object\n",
      "Tags                            object\n",
      "Source Database                 object\n",
      "dtype: object\n"
     ]
    },
    {
     "data": {
      "text/html": [
       "<div>\n",
       "<style scoped>\n",
       "    .dataframe tbody tr th:only-of-type {\n",
       "        vertical-align: middle;\n",
       "    }\n",
       "\n",
       "    .dataframe tbody tr th {\n",
       "        vertical-align: top;\n",
       "    }\n",
       "\n",
       "    .dataframe thead th {\n",
       "        text-align: right;\n",
       "    }\n",
       "</style>\n",
       "<table border=\"1\" class=\"dataframe\">\n",
       "  <thead>\n",
       "    <tr style=\"text-align: right;\">\n",
       "      <th></th>\n",
       "      <th>#BioGRID Interaction ID</th>\n",
       "      <th>Entrez Gene Interactor A</th>\n",
       "      <th>Entrez Gene Interactor B</th>\n",
       "      <th>BioGRID ID Interactor A</th>\n",
       "      <th>BioGRID ID Interactor B</th>\n",
       "      <th>Systematic Name Interactor A</th>\n",
       "      <th>Systematic Name Interactor B</th>\n",
       "      <th>Official Symbol Interactor A</th>\n",
       "      <th>Official Symbol Interactor B</th>\n",
       "      <th>Synonyms Interactor A</th>\n",
       "      <th>...</th>\n",
       "      <th>Pubmed ID</th>\n",
       "      <th>Organism Interactor A</th>\n",
       "      <th>Organism Interactor B</th>\n",
       "      <th>Throughput</th>\n",
       "      <th>Score</th>\n",
       "      <th>Modification</th>\n",
       "      <th>Phenotypes</th>\n",
       "      <th>Qualifications</th>\n",
       "      <th>Tags</th>\n",
       "      <th>Source Database</th>\n",
       "    </tr>\n",
       "  </thead>\n",
       "  <tbody>\n",
       "    <tr>\n",
       "      <th>0</th>\n",
       "      <td>251838</td>\n",
       "      <td>828230</td>\n",
       "      <td>832208</td>\n",
       "      <td>13519</td>\n",
       "      <td>17483</td>\n",
       "      <td>AT4G00020</td>\n",
       "      <td>AT5G20850</td>\n",
       "      <td>BRCA2(IV)</td>\n",
       "      <td>RAD51</td>\n",
       "      <td>BRCA2A|BREAST CANCER 2 like 2A|EDA20|EMBRYO SA...</td>\n",
       "      <td>...</td>\n",
       "      <td>15014444</td>\n",
       "      <td>3702</td>\n",
       "      <td>3702</td>\n",
       "      <td>Low Throughput</td>\n",
       "      <td>-</td>\n",
       "      <td>-</td>\n",
       "      <td>-</td>\n",
       "      <td>-</td>\n",
       "      <td>-</td>\n",
       "      <td>BIOGRID</td>\n",
       "    </tr>\n",
       "    <tr>\n",
       "      <th>1</th>\n",
       "      <td>251839</td>\n",
       "      <td>828230</td>\n",
       "      <td>821860</td>\n",
       "      <td>13519</td>\n",
       "      <td>7192</td>\n",
       "      <td>AT4G00020</td>\n",
       "      <td>AT3G22880</td>\n",
       "      <td>BRCA2(IV)</td>\n",
       "      <td>DMC1</td>\n",
       "      <td>BRCA2A|BREAST CANCER 2 like 2A|EDA20|EMBRYO SA...</td>\n",
       "      <td>...</td>\n",
       "      <td>15014444</td>\n",
       "      <td>3702</td>\n",
       "      <td>3702</td>\n",
       "      <td>Low Throughput</td>\n",
       "      <td>-</td>\n",
       "      <td>-</td>\n",
       "      <td>-</td>\n",
       "      <td>-</td>\n",
       "      <td>-</td>\n",
       "      <td>BIOGRID</td>\n",
       "    </tr>\n",
       "    <tr>\n",
       "      <th>2</th>\n",
       "      <td>265014</td>\n",
       "      <td>836259</td>\n",
       "      <td>818903</td>\n",
       "      <td>21503</td>\n",
       "      <td>4240</td>\n",
       "      <td>AT5G61380</td>\n",
       "      <td>AT2G43010</td>\n",
       "      <td>TOC1</td>\n",
       "      <td>PIF4</td>\n",
       "      <td>APRR1|AtTOC1|MFB13.13|MFB13_13|PRR1|PSEUDO-RES...</td>\n",
       "      <td>...</td>\n",
       "      <td>14634162</td>\n",
       "      <td>3702</td>\n",
       "      <td>3702</td>\n",
       "      <td>Low Throughput</td>\n",
       "      <td>-</td>\n",
       "      <td>-</td>\n",
       "      <td>-</td>\n",
       "      <td>-</td>\n",
       "      <td>-</td>\n",
       "      <td>BIOGRID</td>\n",
       "    </tr>\n",
       "    <tr>\n",
       "      <th>3</th>\n",
       "      <td>265015</td>\n",
       "      <td>836259</td>\n",
       "      <td>825075</td>\n",
       "      <td>21503</td>\n",
       "      <td>10390</td>\n",
       "      <td>AT5G61380</td>\n",
       "      <td>AT3G59060</td>\n",
       "      <td>TOC1</td>\n",
       "      <td>PIL6</td>\n",
       "      <td>APRR1|AtTOC1|MFB13.13|MFB13_13|PRR1|PSEUDO-RES...</td>\n",
       "      <td>...</td>\n",
       "      <td>14634162</td>\n",
       "      <td>3702</td>\n",
       "      <td>3702</td>\n",
       "      <td>Low Throughput</td>\n",
       "      <td>-</td>\n",
       "      <td>-</td>\n",
       "      <td>-</td>\n",
       "      <td>-</td>\n",
       "      <td>-</td>\n",
       "      <td>BIOGRID</td>\n",
       "    </tr>\n",
       "    <tr>\n",
       "      <th>4</th>\n",
       "      <td>265016</td>\n",
       "      <td>836259</td>\n",
       "      <td>836259</td>\n",
       "      <td>21503</td>\n",
       "      <td>21503</td>\n",
       "      <td>AT5G61380</td>\n",
       "      <td>AT5G61380</td>\n",
       "      <td>TOC1</td>\n",
       "      <td>TOC1</td>\n",
       "      <td>APRR1|AtTOC1|MFB13.13|MFB13_13|PRR1|PSEUDO-RES...</td>\n",
       "      <td>...</td>\n",
       "      <td>14634162</td>\n",
       "      <td>3702</td>\n",
       "      <td>3702</td>\n",
       "      <td>Low Throughput</td>\n",
       "      <td>-</td>\n",
       "      <td>-</td>\n",
       "      <td>-</td>\n",
       "      <td>-</td>\n",
       "      <td>-</td>\n",
       "      <td>BIOGRID</td>\n",
       "    </tr>\n",
       "  </tbody>\n",
       "</table>\n",
       "<p>5 rows × 24 columns</p>\n",
       "</div>"
      ],
      "text/plain": [
       "   #BioGRID Interaction ID  Entrez Gene Interactor A  \\\n",
       "0                   251838                    828230   \n",
       "1                   251839                    828230   \n",
       "2                   265014                    836259   \n",
       "3                   265015                    836259   \n",
       "4                   265016                    836259   \n",
       "\n",
       "   Entrez Gene Interactor B  BioGRID ID Interactor A  BioGRID ID Interactor B  \\\n",
       "0                    832208                    13519                    17483   \n",
       "1                    821860                    13519                     7192   \n",
       "2                    818903                    21503                     4240   \n",
       "3                    825075                    21503                    10390   \n",
       "4                    836259                    21503                    21503   \n",
       "\n",
       "  Systematic Name Interactor A Systematic Name Interactor B  \\\n",
       "0                    AT4G00020                    AT5G20850   \n",
       "1                    AT4G00020                    AT3G22880   \n",
       "2                    AT5G61380                    AT2G43010   \n",
       "3                    AT5G61380                    AT3G59060   \n",
       "4                    AT5G61380                    AT5G61380   \n",
       "\n",
       "  Official Symbol Interactor A Official Symbol Interactor B  \\\n",
       "0                    BRCA2(IV)                        RAD51   \n",
       "1                    BRCA2(IV)                         DMC1   \n",
       "2                         TOC1                         PIF4   \n",
       "3                         TOC1                         PIL6   \n",
       "4                         TOC1                         TOC1   \n",
       "\n",
       "                               Synonyms Interactor A  ... Pubmed ID  \\\n",
       "0  BRCA2A|BREAST CANCER 2 like 2A|EDA20|EMBRYO SA...  ...  15014444   \n",
       "1  BRCA2A|BREAST CANCER 2 like 2A|EDA20|EMBRYO SA...  ...  15014444   \n",
       "2  APRR1|AtTOC1|MFB13.13|MFB13_13|PRR1|PSEUDO-RES...  ...  14634162   \n",
       "3  APRR1|AtTOC1|MFB13.13|MFB13_13|PRR1|PSEUDO-RES...  ...  14634162   \n",
       "4  APRR1|AtTOC1|MFB13.13|MFB13_13|PRR1|PSEUDO-RES...  ...  14634162   \n",
       "\n",
       "  Organism Interactor A Organism Interactor B      Throughput  Score  \\\n",
       "0                  3702                  3702  Low Throughput      -   \n",
       "1                  3702                  3702  Low Throughput      -   \n",
       "2                  3702                  3702  Low Throughput      -   \n",
       "3                  3702                  3702  Low Throughput      -   \n",
       "4                  3702                  3702  Low Throughput      -   \n",
       "\n",
       "   Modification  Phenotypes Qualifications Tags Source Database  \n",
       "0             -           -              -    -         BIOGRID  \n",
       "1             -           -              -    -         BIOGRID  \n",
       "2             -           -              -    -         BIOGRID  \n",
       "3             -           -              -    -         BIOGRID  \n",
       "4             -           -              -    -         BIOGRID  \n",
       "\n",
       "[5 rows x 24 columns]"
      ]
     },
     "execution_count": 4,
     "metadata": {},
     "output_type": "execute_result"
    }
   ],
   "source": [
    "print(bioGRID_DF.columns)\n",
    "print(bioGRID_DF.dtypes)\n",
    "bioGRID_DF.head()"
   ]
  },
  {
   "cell_type": "code",
   "execution_count": 5,
   "metadata": {},
   "outputs": [],
   "source": [
    "OrganismTypesA = list(bioGRID_DF['Organism Interactor A'].unique())\n",
    "OrganismTypesB = list(bioGRID_DF['Organism Interactor B'].unique())\n",
    "OrganismTypesA.sort()\n",
    "OrganismTypesB.sort()\n",
    "OrganismTypes = list(set([*OrganismTypesA, *OrganismTypesB]))\n",
    "OrganismTypes.sort()"
   ]
  },
  {
   "cell_type": "code",
   "execution_count": 6,
   "metadata": {},
   "outputs": [
    {
     "name": "stdout",
     "output_type": "stream",
     "text": [
      "[3055, 3702, 3847, 4081, 4098, 4577, 9606, 9823, 9913, 10090, 10116, 10298, 12242, 39947, 284812, 316407, 559292]\n",
      "[3702, 4081, 4098, 4577, 9606, 9823, 9913, 10090, 10116, 12242, 39947, 316407, 559292]\n",
      "[3055, 3702, 3847, 4577, 9606, 9913, 10090, 10116, 10298, 12242, 39947, 284812, 316407, 559292]\n"
     ]
    }
   ],
   "source": [
    "print(OrganismTypes)\n",
    "print(OrganismTypesA)\n",
    "print(OrganismTypesB)"
   ]
  },
  {
   "cell_type": "code",
   "execution_count": 7,
   "metadata": {},
   "outputs": [
    {
     "data": {
      "text/html": [
       "<div>\n",
       "<style scoped>\n",
       "    .dataframe tbody tr th:only-of-type {\n",
       "        vertical-align: middle;\n",
       "    }\n",
       "\n",
       "    .dataframe tbody tr th {\n",
       "        vertical-align: top;\n",
       "    }\n",
       "\n",
       "    .dataframe thead th {\n",
       "        text-align: right;\n",
       "    }\n",
       "</style>\n",
       "<table border=\"1\" class=\"dataframe\">\n",
       "  <thead>\n",
       "    <tr style=\"text-align: right;\">\n",
       "      <th></th>\n",
       "      <th>taxid</th>\n",
       "      <th>taxname</th>\n",
       "    </tr>\n",
       "  </thead>\n",
       "  <tbody>\n",
       "    <tr>\n",
       "      <th>0</th>\n",
       "      <td>3055</td>\n",
       "      <td>Chlamydomonas reinhardtii</td>\n",
       "    </tr>\n",
       "    <tr>\n",
       "      <th>1</th>\n",
       "      <td>3702</td>\n",
       "      <td>Arabidopsis thaliana</td>\n",
       "    </tr>\n",
       "    <tr>\n",
       "      <th>2</th>\n",
       "      <td>3847</td>\n",
       "      <td>Glycine max</td>\n",
       "    </tr>\n",
       "    <tr>\n",
       "      <th>3</th>\n",
       "      <td>4081</td>\n",
       "      <td>Solanum lycopersicum</td>\n",
       "    </tr>\n",
       "    <tr>\n",
       "      <th>4</th>\n",
       "      <td>4098</td>\n",
       "      <td>Nicotiana tomentosiformis</td>\n",
       "    </tr>\n",
       "    <tr>\n",
       "      <th>5</th>\n",
       "      <td>4577</td>\n",
       "      <td>Zea mays</td>\n",
       "    </tr>\n",
       "    <tr>\n",
       "      <th>6</th>\n",
       "      <td>9606</td>\n",
       "      <td>Homo sapiens</td>\n",
       "    </tr>\n",
       "    <tr>\n",
       "      <th>7</th>\n",
       "      <td>9823</td>\n",
       "      <td>Sus scrofa</td>\n",
       "    </tr>\n",
       "    <tr>\n",
       "      <th>8</th>\n",
       "      <td>9913</td>\n",
       "      <td>Bos taurus</td>\n",
       "    </tr>\n",
       "    <tr>\n",
       "      <th>9</th>\n",
       "      <td>10090</td>\n",
       "      <td>Mus musculus</td>\n",
       "    </tr>\n",
       "    <tr>\n",
       "      <th>10</th>\n",
       "      <td>10116</td>\n",
       "      <td>Rattus norvegicus</td>\n",
       "    </tr>\n",
       "    <tr>\n",
       "      <th>11</th>\n",
       "      <td>10298</td>\n",
       "      <td>Human alphaherpesvirus 1</td>\n",
       "    </tr>\n",
       "    <tr>\n",
       "      <th>12</th>\n",
       "      <td>12242</td>\n",
       "      <td>Tobacco mosaic virus</td>\n",
       "    </tr>\n",
       "    <tr>\n",
       "      <th>13</th>\n",
       "      <td>39947</td>\n",
       "      <td>Oryza sativa Japonica Group</td>\n",
       "    </tr>\n",
       "    <tr>\n",
       "      <th>14</th>\n",
       "      <td>284812</td>\n",
       "      <td>Schizosaccharomyces pombe 972h-</td>\n",
       "    </tr>\n",
       "    <tr>\n",
       "      <th>15</th>\n",
       "      <td>316407</td>\n",
       "      <td>Escherichia coli str. K-12 substr. W3110</td>\n",
       "    </tr>\n",
       "    <tr>\n",
       "      <th>16</th>\n",
       "      <td>559292</td>\n",
       "      <td>Saccharomyces cerevisiae S288C</td>\n",
       "    </tr>\n",
       "  </tbody>\n",
       "</table>\n",
       "</div>"
      ],
      "text/plain": [
       "     taxid                                   taxname\n",
       "0     3055                 Chlamydomonas reinhardtii\n",
       "1     3702                      Arabidopsis thaliana\n",
       "2     3847                               Glycine max\n",
       "3     4081                      Solanum lycopersicum\n",
       "4     4098                 Nicotiana tomentosiformis\n",
       "5     4577                                  Zea mays\n",
       "6     9606                              Homo sapiens\n",
       "7     9823                                Sus scrofa\n",
       "8     9913                                Bos taurus\n",
       "9    10090                              Mus musculus\n",
       "10   10116                         Rattus norvegicus\n",
       "11   10298                  Human alphaherpesvirus 1\n",
       "12   12242                      Tobacco mosaic virus\n",
       "13   39947               Oryza sativa Japonica Group\n",
       "14  284812           Schizosaccharomyces pombe 972h-\n",
       "15  316407  Escherichia coli str. K-12 substr. W3110\n",
       "16  559292            Saccharomyces cerevisiae S288C"
      ]
     },
     "execution_count": 7,
     "metadata": {},
     "output_type": "execute_result"
    }
   ],
   "source": [
    "'''\n",
    "From https://www.ncbi.nlm.nih.gov/Taxonomy/TaxIdentifier/tax_identifier.cgi\n",
    "The \"tax_report.txt\" file tells us what organism each gene is from.\n",
    "'''\n",
    "organismIDs = pd.read_csv('../../project_data/tax_report.txt', sep = '\\t')\n",
    "organismIDs.drop(columns = ['|','|.1','|.2', 'code', 'primary taxid'],inplace = True)\n",
    "organismIDs # we know 3702 is Arabidopsis"
   ]
  },
  {
   "cell_type": "code",
   "execution_count": 8,
   "metadata": {},
   "outputs": [],
   "source": [
    "mask1 = bioGRID_DF['Organism Interactor A'] == 3702\n",
    "mask2 = bioGRID_DF['Organism Interactor B'] == 3702\n",
    "onlyArabDF = bioGRID_DF[mask1& mask2]\n",
    "oneArabDF = bioGRID_DF[~mask1|~mask2]\n",
    "noArabDF = bioGRID_DF[~mask1 & ~mask2]"
   ]
  },
  {
   "cell_type": "code",
   "execution_count": 9,
   "metadata": {},
   "outputs": [
    {
     "name": "stdout",
     "output_type": "stream",
     "text": [
      "There are 56198 interactions in the total database.\n",
      "There are 55814 interactions of just Arabidopsis: Arabidopsis in the database.\n",
      "There are 384 interactions of Arabidopsis: Other.\n",
      "There are 0 interactions that don't involve Arabidopsis.\n"
     ]
    }
   ],
   "source": [
    "print('There are {} interactions in the total database.'.format(bioGRID_DF.shape[0]))\n",
    "print('There are {} interactions of just Arabidopsis: Arabidopsis in the database.'.format(onlyArabDF.shape[0]))\n",
    "print('There are {} interactions of Arabidopsis: Other.'.format(oneArabDF.shape[0]))\n",
    "print('There are {} interactions that don\\'t involve Arabidopsis.'.format(noArabDF.shape[0]))"
   ]
  },
  {
   "cell_type": "code",
   "execution_count": 10,
   "metadata": {
    "scrolled": true
   },
   "outputs": [
    {
     "data": {
      "text/plain": [
       "10550"
      ]
     },
     "execution_count": 10,
     "metadata": {},
     "output_type": "execute_result"
    }
   ],
   "source": [
    "#get list of genes so I can import the necessary ATTED Data. Note that the ATTED data has a text file by Entrez gene ID\n",
    "#WholeData:\n",
    "wholeGenesA = list(bioGRID_DF['Entrez Gene Interactor A'].unique())\n",
    "wholeGenesB = list(bioGRID_DF['Entrez Gene Interactor B'].unique())\n",
    "wholeGenesA.sort()\n",
    "wholeGenesB.sort()\n",
    "wholeGenes = list(set([*wholeGenesA, *wholeGenesB]))\n",
    "wholeGenes.sort()\n",
    "len(wholeGenes)"
   ]
  },
  {
   "cell_type": "code",
   "execution_count": 11,
   "metadata": {
    "scrolled": false
   },
   "outputs": [
    {
     "data": {
      "text/plain": [
       "10367"
      ]
     },
     "execution_count": 11,
     "metadata": {},
     "output_type": "execute_result"
    }
   ],
   "source": [
    "ArabGenesA = list(onlyArabDF['Entrez Gene Interactor A'].unique())\n",
    "ArabGenesB = list(onlyArabDF['Entrez Gene Interactor B'].unique())\n",
    "ArabGenesA.sort()\n",
    "ArabGenesB.sort()\n",
    "ArabGenes = list(set([*ArabGenesA, *ArabGenesB]))\n",
    "ArabGenes.sort()\n",
    "len(ArabGenes)"
   ]
  },
  {
   "cell_type": "code",
   "execution_count": 12,
   "metadata": {},
   "outputs": [
    {
     "data": {
      "text/plain": [
       "True"
      ]
     },
     "execution_count": 12,
     "metadata": {},
     "output_type": "execute_result"
    }
   ],
   "source": [
    "attedpath = 'C:\\\\Users\\\\ysman\\\\OneDrive\\\\Desktop\\\\project_data\\\\Ath-mB.v17-08.G20819-S16033.rma_combat.mrgeo.d\\\\'\n",
    "os.path.exists(attedpath+'{}'.format(814630))"
   ]
  },
  {
   "cell_type": "code",
   "execution_count": 13,
   "metadata": {
    "scrolled": true
   },
   "outputs": [
    {
     "data": {
      "text/plain": [
       "8781"
      ]
     },
     "execution_count": 13,
     "metadata": {},
     "output_type": "execute_result"
    }
   ],
   "source": [
    "overlapGenes = []\n",
    "for i in range (len(wholeGenes)):\n",
    "    if os.path.exists(attedpath+'{}'.format(wholeGenes[i])):\n",
    "        overlapGenes.append(wholeGenes[i])\n",
    "len(overlapGenes)"
   ]
  },
  {
   "cell_type": "code",
   "execution_count": 14,
   "metadata": {},
   "outputs": [
    {
     "data": {
      "text/plain": [
       "array([ True,  True,  True, ...,  True,  True,  True])"
      ]
     },
     "execution_count": 14,
     "metadata": {},
     "output_type": "execute_result"
    }
   ],
   "source": [
    "atted = pd.read_csv('../../project_data/Ath-mB.v17-08.G20819-S16033.rma_combat.mrgeo.d/814630', sep = '\\t', header = None)\n",
    "atted = atted.sort_values(by = 0)\n",
    "atted.head()\n",
    "alist = list(atted[1])\n",
    "\n",
    "atted2 = pd.read_csv('../../project_data/Ath-mB.v17-08.G20819-S16033.rma_combat.mrgeo.d/814646', sep = '\\t', header = None)\n",
    "atted2 = atted2.sort_values(by = 0)\n",
    "atted2.head()\n",
    "alist2 = list(atted[1])\n",
    "a2= np.array(atted2[0])\n",
    "a1 = np.array(atted[0])\n",
    "attedGenes = list(a1)\n",
    "a1 == a2"
   ]
  },
  {
   "cell_type": "code",
   "execution_count": 89,
   "metadata": {},
   "outputs": [
    {
     "data": {
      "text/plain": [
       "float"
      ]
     },
     "execution_count": 89,
     "metadata": {},
     "output_type": "execute_result"
    }
   ],
   "source": [
    "type(alist2[1])"
   ]
  },
  {
   "cell_type": "code",
   "execution_count": 53,
   "metadata": {},
   "outputs": [
    {
     "data": {
      "text/plain": [
       "20819"
      ]
     },
     "execution_count": 53,
     "metadata": {},
     "output_type": "execute_result"
    }
   ],
   "source": [
    "len(a2)"
   ]
  },
  {
   "cell_type": "code",
   "execution_count": 58,
   "metadata": {},
   "outputs": [
    {
     "data": {
      "text/plain": [
       "[<matplotlib.lines.Line2D at 0x1e02f9b1f60>]"
      ]
     },
     "execution_count": 58,
     "metadata": {},
     "output_type": "execute_result"
    },
    {
     "data": {
      "image/png": "[encoded data removed]",
      "text/plain": [
       "<Figure size 432x288 with 1 Axes>"
      ]
     },
     "metadata": {
      "needs_background": "light"
     },
     "output_type": "display_data"
    }
   ],
   "source": [
    "plt.plot(a1-a2)"
   ]
  },
  {
   "cell_type": "code",
   "execution_count": 188,
   "metadata": {
    "scrolled": true
   },
   "outputs": [
    {
     "name": "stdout",
     "output_type": "stream",
     "text": [
      "Wall time: 5min 28s\n"
     ]
    },
    {
     "data": {
      "text/html": [
       "<div>\n",
       "<style scoped>\n",
       "    .dataframe tbody tr th:only-of-type {\n",
       "        vertical-align: middle;\n",
       "    }\n",
       "\n",
       "    .dataframe tbody tr th {\n",
       "        vertical-align: top;\n",
       "    }\n",
       "\n",
       "    .dataframe thead th {\n",
       "        text-align: right;\n",
       "    }\n",
       "</style>\n",
       "<table border=\"1\" class=\"dataframe\">\n",
       "  <thead>\n",
       "    <tr style=\"text-align: right;\">\n",
       "      <th></th>\n",
       "      <th>0</th>\n",
       "      <th>814630</th>\n",
       "      <th>814637</th>\n",
       "      <th>814641</th>\n",
       "      <th>814643</th>\n",
       "      <th>814644</th>\n",
       "      <th>814646</th>\n",
       "      <th>814647</th>\n",
       "      <th>814649</th>\n",
       "      <th>814651</th>\n",
       "      <th>...</th>\n",
       "      <th>3767983</th>\n",
       "      <th>3768737</th>\n",
       "      <th>3768753</th>\n",
       "      <th>3768908</th>\n",
       "      <th>3769417</th>\n",
       "      <th>3769951</th>\n",
       "      <th>3770075</th>\n",
       "      <th>3770503</th>\n",
       "      <th>5008312</th>\n",
       "      <th>6241019</th>\n",
       "    </tr>\n",
       "  </thead>\n",
       "  <tbody>\n",
       "    <tr>\n",
       "      <th>20814</th>\n",
       "      <td>7922380.0</td>\n",
       "      <td>3934.08</td>\n",
       "      <td>12540.97</td>\n",
       "      <td>631.42</td>\n",
       "      <td>3311.72</td>\n",
       "      <td>8173.86</td>\n",
       "      <td>18625.17</td>\n",
       "      <td>17939.69</td>\n",
       "      <td>2042.43</td>\n",
       "      <td>19472.06</td>\n",
       "      <td>...</td>\n",
       "      <td>16117.16</td>\n",
       "      <td>12212.44</td>\n",
       "      <td>7757.54</td>\n",
       "      <td>14924.08</td>\n",
       "      <td>2674.36</td>\n",
       "      <td>14268.04</td>\n",
       "      <td>12174.93</td>\n",
       "      <td>8428.76</td>\n",
       "      <td>962.87</td>\n",
       "      <td>10439.77</td>\n",
       "    </tr>\n",
       "    <tr>\n",
       "      <th>20815</th>\n",
       "      <td>7922387.0</td>\n",
       "      <td>14314.08</td>\n",
       "      <td>15917.68</td>\n",
       "      <td>17139.09</td>\n",
       "      <td>18110.16</td>\n",
       "      <td>16954.06</td>\n",
       "      <td>8598.57</td>\n",
       "      <td>8939.66</td>\n",
       "      <td>12155.66</td>\n",
       "      <td>456.49</td>\n",
       "      <td>...</td>\n",
       "      <td>258.32</td>\n",
       "      <td>2848.27</td>\n",
       "      <td>4106.48</td>\n",
       "      <td>691.14</td>\n",
       "      <td>20064.94</td>\n",
       "      <td>1804.25</td>\n",
       "      <td>12479.29</td>\n",
       "      <td>929.73</td>\n",
       "      <td>17930.25</td>\n",
       "      <td>15104.44</td>\n",
       "    </tr>\n",
       "    <tr>\n",
       "      <th>20816</th>\n",
       "      <td>7922407.0</td>\n",
       "      <td>7890.92</td>\n",
       "      <td>1697.09</td>\n",
       "      <td>2597.53</td>\n",
       "      <td>7402.64</td>\n",
       "      <td>7025.40</td>\n",
       "      <td>17176.15</td>\n",
       "      <td>16085.99</td>\n",
       "      <td>972.40</td>\n",
       "      <td>8908.89</td>\n",
       "      <td>...</td>\n",
       "      <td>11486.99</td>\n",
       "      <td>7985.50</td>\n",
       "      <td>6907.14</td>\n",
       "      <td>11772.55</td>\n",
       "      <td>1285.76</td>\n",
       "      <td>10178.05</td>\n",
       "      <td>20682.05</td>\n",
       "      <td>13692.40</td>\n",
       "      <td>6124.12</td>\n",
       "      <td>20691.11</td>\n",
       "    </tr>\n",
       "    <tr>\n",
       "      <th>20817</th>\n",
       "      <td>7922469.0</td>\n",
       "      <td>3637.87</td>\n",
       "      <td>18218.43</td>\n",
       "      <td>18409.24</td>\n",
       "      <td>19299.30</td>\n",
       "      <td>20135.36</td>\n",
       "      <td>938.07</td>\n",
       "      <td>5015.22</td>\n",
       "      <td>19254.29</td>\n",
       "      <td>5014.64</td>\n",
       "      <td>...</td>\n",
       "      <td>4526.38</td>\n",
       "      <td>9325.28</td>\n",
       "      <td>11860.94</td>\n",
       "      <td>4249.88</td>\n",
       "      <td>16130.56</td>\n",
       "      <td>5913.48</td>\n",
       "      <td>658.74</td>\n",
       "      <td>6906.02</td>\n",
       "      <td>11975.51</td>\n",
       "      <td>8548.29</td>\n",
       "    </tr>\n",
       "    <tr>\n",
       "      <th>20818</th>\n",
       "      <td>7922506.0</td>\n",
       "      <td>17100.19</td>\n",
       "      <td>18214.14</td>\n",
       "      <td>13952.84</td>\n",
       "      <td>17175.50</td>\n",
       "      <td>11877.87</td>\n",
       "      <td>4836.40</td>\n",
       "      <td>8935.94</td>\n",
       "      <td>12837.32</td>\n",
       "      <td>1197.25</td>\n",
       "      <td>...</td>\n",
       "      <td>4172.76</td>\n",
       "      <td>4542.78</td>\n",
       "      <td>5018.40</td>\n",
       "      <td>6635.07</td>\n",
       "      <td>15539.78</td>\n",
       "      <td>2243.20</td>\n",
       "      <td>5922.10</td>\n",
       "      <td>4366.72</td>\n",
       "      <td>14237.20</td>\n",
       "      <td>10984.32</td>\n",
       "    </tr>\n",
       "  </tbody>\n",
       "</table>\n",
       "<p>5 rows × 8782 columns</p>\n",
       "</div>"
      ],
      "text/plain": [
       "         0         814630    814637    814641    814643    814644    814646   \\\n",
       "20814  7922380.0   3934.08  12540.97    631.42   3311.72   8173.86  18625.17   \n",
       "20815  7922387.0  14314.08  15917.68  17139.09  18110.16  16954.06   8598.57   \n",
       "20816  7922407.0   7890.92   1697.09   2597.53   7402.64   7025.40  17176.15   \n",
       "20817  7922469.0   3637.87  18218.43  18409.24  19299.30  20135.36    938.07   \n",
       "20818  7922506.0  17100.19  18214.14  13952.84  17175.50  11877.87   4836.40   \n",
       "\n",
       "        814647    814649    814651   ...   3767983   3768737   3768753  \\\n",
       "20814  17939.69   2042.43  19472.06  ...  16117.16  12212.44   7757.54   \n",
       "20815   8939.66  12155.66    456.49  ...    258.32   2848.27   4106.48   \n",
       "20816  16085.99    972.40   8908.89  ...  11486.99   7985.50   6907.14   \n",
       "20817   5015.22  19254.29   5014.64  ...   4526.38   9325.28  11860.94   \n",
       "20818   8935.94  12837.32   1197.25  ...   4172.76   4542.78   5018.40   \n",
       "\n",
       "        3768908   3769417   3769951   3770075   3770503   5008312   6241019  \n",
       "20814  14924.08   2674.36  14268.04  12174.93   8428.76    962.87  10439.77  \n",
       "20815    691.14  20064.94   1804.25  12479.29    929.73  17930.25  15104.44  \n",
       "20816  11772.55   1285.76  10178.05  20682.05  13692.40   6124.12  20691.11  \n",
       "20817   4249.88  16130.56   5913.48    658.74   6906.02  11975.51   8548.29  \n",
       "20818   6635.07  15539.78   2243.20   5922.10   4366.72  14237.20  10984.32  \n",
       "\n",
       "[5 rows x 8782 columns]"
      ]
     },
     "execution_count": 188,
     "metadata": {},
     "output_type": "execute_result"
    }
   ],
   "source": [
    "%%time\n",
    "#import time\n",
    "#start = time.time()\n",
    "DF = {0:attedGenes}\n",
    "\n",
    "for x in overlapGenes:\n",
    "    tempAtted = pd.read_csv('../../project_data/Ath-mB.v17-08.G20819-S16033.rma_combat.mrgeo.d/{}'.format(x), sep = '\\t', header= None)\n",
    "    tempAtted = tempAtted.sort_values(by = 0)\n",
    "    templist = list(tempAtted[1])\n",
    "    DF.update({x:templist})\n",
    "\n",
    "attedData = pd.DataFrame(DF,dtype='float64')\n",
    "attedData.tail()\n",
    "#end = time.time()\n",
    "#print(end-start)"
   ]
  },
  {
   "cell_type": "code",
   "execution_count": 189,
   "metadata": {
    "collapsed": true
   },
   "outputs": [
    {
     "ename": "KeyboardInterrupt",
     "evalue": "",
     "output_type": "error",
     "traceback": [
      "\u001b[1;31m---------------------------------------------------------------------------\u001b[0m",
      "\u001b[1;31mKeyboardInterrupt\u001b[0m                         Traceback (most recent call last)",
      "\u001b[1;32m<ipython-input-189-fb98821e6a32>\u001b[0m in \u001b[0;36m<module>\u001b[1;34m\u001b[0m\n\u001b[1;32m----> 1\u001b[1;33m \u001b[0mattedData\u001b[0m\u001b[1;33m.\u001b[0m\u001b[0mdescribe\u001b[0m\u001b[1;33m(\u001b[0m\u001b[1;33m)\u001b[0m\u001b[1;33m\u001b[0m\u001b[1;33m\u001b[0m\u001b[0m\n\u001b[0m",
      "\u001b[1;32mC:\\ProgramData\\Anaconda3\\lib\\site-packages\\pandas\\core\\generic.py\u001b[0m in \u001b[0;36mdescribe\u001b[1;34m(self, percentiles, include, exclude)\u001b[0m\n\u001b[0;32m   9802\u001b[0m             \u001b[0mdata\u001b[0m \u001b[1;33m=\u001b[0m \u001b[0mself\u001b[0m\u001b[1;33m.\u001b[0m\u001b[0mselect_dtypes\u001b[0m\u001b[1;33m(\u001b[0m\u001b[0minclude\u001b[0m\u001b[1;33m=\u001b[0m\u001b[0minclude\u001b[0m\u001b[1;33m,\u001b[0m \u001b[0mexclude\u001b[0m\u001b[1;33m=\u001b[0m\u001b[0mexclude\u001b[0m\u001b[1;33m)\u001b[0m\u001b[1;33m\u001b[0m\u001b[1;33m\u001b[0m\u001b[0m\n\u001b[0;32m   9803\u001b[0m \u001b[1;33m\u001b[0m\u001b[0m\n\u001b[1;32m-> 9804\u001b[1;33m         \u001b[0mldesc\u001b[0m \u001b[1;33m=\u001b[0m \u001b[1;33m[\u001b[0m\u001b[0mdescribe_1d\u001b[0m\u001b[1;33m(\u001b[0m\u001b[0ms\u001b[0m\u001b[1;33m)\u001b[0m \u001b[1;32mfor\u001b[0m \u001b[0m_\u001b[0m\u001b[1;33m,\u001b[0m \u001b[0ms\u001b[0m \u001b[1;32min\u001b[0m \u001b[0mdata\u001b[0m\u001b[1;33m.\u001b[0m\u001b[0miteritems\u001b[0m\u001b[1;33m(\u001b[0m\u001b[1;33m)\u001b[0m\u001b[1;33m]\u001b[0m\u001b[1;33m\u001b[0m\u001b[1;33m\u001b[0m\u001b[0m\n\u001b[0m\u001b[0;32m   9805\u001b[0m         \u001b[1;31m# set a convenient order for rows\u001b[0m\u001b[1;33m\u001b[0m\u001b[1;33m\u001b[0m\u001b[1;33m\u001b[0m\u001b[0m\n\u001b[0;32m   9806\u001b[0m         \u001b[0mnames\u001b[0m \u001b[1;33m=\u001b[0m \u001b[1;33m[\u001b[0m\u001b[1;33m]\u001b[0m\u001b[1;33m\u001b[0m\u001b[1;33m\u001b[0m\u001b[0m\n",
      "\u001b[1;32mC:\\ProgramData\\Anaconda3\\lib\\site-packages\\pandas\\core\\generic.py\u001b[0m in \u001b[0;36m<listcomp>\u001b[1;34m(.0)\u001b[0m\n\u001b[0;32m   9802\u001b[0m             \u001b[0mdata\u001b[0m \u001b[1;33m=\u001b[0m \u001b[0mself\u001b[0m\u001b[1;33m.\u001b[0m\u001b[0mselect_dtypes\u001b[0m\u001b[1;33m(\u001b[0m\u001b[0minclude\u001b[0m\u001b[1;33m=\u001b[0m\u001b[0minclude\u001b[0m\u001b[1;33m,\u001b[0m \u001b[0mexclude\u001b[0m\u001b[1;33m=\u001b[0m\u001b[0mexclude\u001b[0m\u001b[1;33m)\u001b[0m\u001b[1;33m\u001b[0m\u001b[1;33m\u001b[0m\u001b[0m\n\u001b[0;32m   9803\u001b[0m \u001b[1;33m\u001b[0m\u001b[0m\n\u001b[1;32m-> 9804\u001b[1;33m         \u001b[0mldesc\u001b[0m \u001b[1;33m=\u001b[0m \u001b[1;33m[\u001b[0m\u001b[0mdescribe_1d\u001b[0m\u001b[1;33m(\u001b[0m\u001b[0ms\u001b[0m\u001b[1;33m)\u001b[0m \u001b[1;32mfor\u001b[0m \u001b[0m_\u001b[0m\u001b[1;33m,\u001b[0m \u001b[0ms\u001b[0m \u001b[1;32min\u001b[0m \u001b[0mdata\u001b[0m\u001b[1;33m.\u001b[0m\u001b[0miteritems\u001b[0m\u001b[1;33m(\u001b[0m\u001b[1;33m)\u001b[0m\u001b[1;33m]\u001b[0m\u001b[1;33m\u001b[0m\u001b[1;33m\u001b[0m\u001b[0m\n\u001b[0m\u001b[0;32m   9805\u001b[0m         \u001b[1;31m# set a convenient order for rows\u001b[0m\u001b[1;33m\u001b[0m\u001b[1;33m\u001b[0m\u001b[1;33m\u001b[0m\u001b[0m\n\u001b[0;32m   9806\u001b[0m         \u001b[0mnames\u001b[0m \u001b[1;33m=\u001b[0m \u001b[1;33m[\u001b[0m\u001b[1;33m]\u001b[0m\u001b[1;33m\u001b[0m\u001b[1;33m\u001b[0m\u001b[0m\n",
      "\u001b[1;32mC:\\ProgramData\\Anaconda3\\lib\\site-packages\\pandas\\core\\generic.py\u001b[0m in \u001b[0;36mdescribe_1d\u001b[1;34m(data)\u001b[0m\n\u001b[0;32m   9781\u001b[0m                 \u001b[1;32mreturn\u001b[0m \u001b[0mdescribe_categorical_1d\u001b[0m\u001b[1;33m(\u001b[0m\u001b[0mdata\u001b[0m\u001b[1;33m)\u001b[0m\u001b[1;33m\u001b[0m\u001b[1;33m\u001b[0m\u001b[0m\n\u001b[0;32m   9782\u001b[0m             \u001b[1;32melif\u001b[0m \u001b[0mis_numeric_dtype\u001b[0m\u001b[1;33m(\u001b[0m\u001b[0mdata\u001b[0m\u001b[1;33m)\u001b[0m\u001b[1;33m:\u001b[0m\u001b[1;33m\u001b[0m\u001b[1;33m\u001b[0m\u001b[0m\n\u001b[1;32m-> 9783\u001b[1;33m                 \u001b[1;32mreturn\u001b[0m \u001b[0mdescribe_numeric_1d\u001b[0m\u001b[1;33m(\u001b[0m\u001b[0mdata\u001b[0m\u001b[1;33m)\u001b[0m\u001b[1;33m\u001b[0m\u001b[1;33m\u001b[0m\u001b[0m\n\u001b[0m\u001b[0;32m   9784\u001b[0m             \u001b[1;32melif\u001b[0m \u001b[0mis_timedelta64_dtype\u001b[0m\u001b[1;33m(\u001b[0m\u001b[0mdata\u001b[0m\u001b[1;33m)\u001b[0m\u001b[1;33m:\u001b[0m\u001b[1;33m\u001b[0m\u001b[1;33m\u001b[0m\u001b[0m\n\u001b[0;32m   9785\u001b[0m                 \u001b[1;32mreturn\u001b[0m \u001b[0mdescribe_numeric_1d\u001b[0m\u001b[1;33m(\u001b[0m\u001b[0mdata\u001b[0m\u001b[1;33m)\u001b[0m\u001b[1;33m\u001b[0m\u001b[1;33m\u001b[0m\u001b[0m\n",
      "\u001b[1;32mC:\\ProgramData\\Anaconda3\\lib\\site-packages\\pandas\\core\\generic.py\u001b[0m in \u001b[0;36mdescribe_numeric_1d\u001b[1;34m(series)\u001b[0m\n\u001b[0;32m   9747\u001b[0m                           formatted_percentiles + ['max'])\n\u001b[0;32m   9748\u001b[0m             d = ([series.count(), series.mean(), series.std(), series.min()] +\n\u001b[1;32m-> 9749\u001b[1;33m                  series.quantile(percentiles).tolist() + [series.max()])\n\u001b[0m\u001b[0;32m   9750\u001b[0m             \u001b[1;32mreturn\u001b[0m \u001b[0mpd\u001b[0m\u001b[1;33m.\u001b[0m\u001b[0mSeries\u001b[0m\u001b[1;33m(\u001b[0m\u001b[0md\u001b[0m\u001b[1;33m,\u001b[0m \u001b[0mindex\u001b[0m\u001b[1;33m=\u001b[0m\u001b[0mstat_index\u001b[0m\u001b[1;33m,\u001b[0m \u001b[0mname\u001b[0m\u001b[1;33m=\u001b[0m\u001b[0mseries\u001b[0m\u001b[1;33m.\u001b[0m\u001b[0mname\u001b[0m\u001b[1;33m)\u001b[0m\u001b[1;33m\u001b[0m\u001b[1;33m\u001b[0m\u001b[0m\n\u001b[0;32m   9751\u001b[0m \u001b[1;33m\u001b[0m\u001b[0m\n",
      "\u001b[1;32mC:\\ProgramData\\Anaconda3\\lib\\site-packages\\pandas\\core\\series.py\u001b[0m in \u001b[0;36mquantile\u001b[1;34m(self, q, interpolation)\u001b[0m\n\u001b[0;32m   2053\u001b[0m \u001b[1;33m\u001b[0m\u001b[0m\n\u001b[0;32m   2054\u001b[0m         result = df.quantile(q=q, interpolation=interpolation,\n\u001b[1;32m-> 2055\u001b[1;33m                              numeric_only=False)\n\u001b[0m\u001b[0;32m   2056\u001b[0m         \u001b[1;32mif\u001b[0m \u001b[0mresult\u001b[0m\u001b[1;33m.\u001b[0m\u001b[0mndim\u001b[0m \u001b[1;33m==\u001b[0m \u001b[1;36m2\u001b[0m\u001b[1;33m:\u001b[0m\u001b[1;33m\u001b[0m\u001b[1;33m\u001b[0m\u001b[0m\n\u001b[0;32m   2057\u001b[0m             \u001b[0mresult\u001b[0m \u001b[1;33m=\u001b[0m \u001b[0mresult\u001b[0m\u001b[1;33m.\u001b[0m\u001b[0miloc\u001b[0m\u001b[1;33m[\u001b[0m\u001b[1;33m:\u001b[0m\u001b[1;33m,\u001b[0m \u001b[1;36m0\u001b[0m\u001b[1;33m]\u001b[0m\u001b[1;33m\u001b[0m\u001b[1;33m\u001b[0m\u001b[0m\n",
      "\u001b[1;32mC:\\ProgramData\\Anaconda3\\lib\\site-packages\\pandas\\core\\frame.py\u001b[0m in \u001b[0;36mquantile\u001b[1;34m(self, q, axis, numeric_only, interpolation)\u001b[0m\n\u001b[0;32m   7776\u001b[0m                                      \u001b[0maxis\u001b[0m\u001b[1;33m=\u001b[0m\u001b[1;36m1\u001b[0m\u001b[1;33m,\u001b[0m\u001b[1;33m\u001b[0m\u001b[1;33m\u001b[0m\u001b[0m\n\u001b[0;32m   7777\u001b[0m                                      \u001b[0minterpolation\u001b[0m\u001b[1;33m=\u001b[0m\u001b[0minterpolation\u001b[0m\u001b[1;33m,\u001b[0m\u001b[1;33m\u001b[0m\u001b[1;33m\u001b[0m\u001b[0m\n\u001b[1;32m-> 7778\u001b[1;33m                                      transposed=is_transposed)\n\u001b[0m\u001b[0;32m   7779\u001b[0m \u001b[1;33m\u001b[0m\u001b[0m\n\u001b[0;32m   7780\u001b[0m         \u001b[1;32mif\u001b[0m \u001b[0mresult\u001b[0m\u001b[1;33m.\u001b[0m\u001b[0mndim\u001b[0m \u001b[1;33m==\u001b[0m \u001b[1;36m2\u001b[0m\u001b[1;33m:\u001b[0m\u001b[1;33m\u001b[0m\u001b[1;33m\u001b[0m\u001b[0m\n",
      "\u001b[1;32mC:\\ProgramData\\Anaconda3\\lib\\site-packages\\pandas\\core\\internals\\managers.py\u001b[0m in \u001b[0;36mquantile\u001b[1;34m(self, axis, consolidate, transposed, interpolation, qs, numeric_only)\u001b[0m\n\u001b[0;32m    445\u001b[0m         \u001b[0maxes\u001b[0m\u001b[1;33m,\u001b[0m \u001b[0mblocks\u001b[0m \u001b[1;33m=\u001b[0m \u001b[1;33m[\u001b[0m\u001b[1;33m]\u001b[0m\u001b[1;33m,\u001b[0m \u001b[1;33m[\u001b[0m\u001b[1;33m]\u001b[0m\u001b[1;33m\u001b[0m\u001b[1;33m\u001b[0m\u001b[0m\n\u001b[0;32m    446\u001b[0m         \u001b[1;32mfor\u001b[0m \u001b[0mb\u001b[0m \u001b[1;32min\u001b[0m \u001b[0mself\u001b[0m\u001b[1;33m.\u001b[0m\u001b[0mblocks\u001b[0m\u001b[1;33m:\u001b[0m\u001b[1;33m\u001b[0m\u001b[1;33m\u001b[0m\u001b[0m\n\u001b[1;32m--> 447\u001b[1;33m             \u001b[0mblock\u001b[0m \u001b[1;33m=\u001b[0m \u001b[0mb\u001b[0m\u001b[1;33m.\u001b[0m\u001b[0mquantile\u001b[0m\u001b[1;33m(\u001b[0m\u001b[0maxis\u001b[0m\u001b[1;33m=\u001b[0m\u001b[0maxis\u001b[0m\u001b[1;33m,\u001b[0m \u001b[0mqs\u001b[0m\u001b[1;33m=\u001b[0m\u001b[0mqs\u001b[0m\u001b[1;33m,\u001b[0m \u001b[0minterpolation\u001b[0m\u001b[1;33m=\u001b[0m\u001b[0minterpolation\u001b[0m\u001b[1;33m)\u001b[0m\u001b[1;33m\u001b[0m\u001b[1;33m\u001b[0m\u001b[0m\n\u001b[0m\u001b[0;32m    448\u001b[0m \u001b[1;33m\u001b[0m\u001b[0m\n\u001b[0;32m    449\u001b[0m             \u001b[0maxe\u001b[0m \u001b[1;33m=\u001b[0m \u001b[0mget_axe\u001b[0m\u001b[1;33m(\u001b[0m\u001b[0mb\u001b[0m\u001b[1;33m,\u001b[0m \u001b[0mqs\u001b[0m\u001b[1;33m,\u001b[0m \u001b[0maxes\u001b[0m\u001b[1;33m=\u001b[0m\u001b[0mself\u001b[0m\u001b[1;33m.\u001b[0m\u001b[0maxes\u001b[0m\u001b[1;33m)\u001b[0m\u001b[1;33m\u001b[0m\u001b[1;33m\u001b[0m\u001b[0m\n",
      "\u001b[1;32mC:\\ProgramData\\Anaconda3\\lib\\site-packages\\pandas\\core\\internals\\blocks.py\u001b[0m in \u001b[0;36mquantile\u001b[1;34m(self, qs, interpolation, axis)\u001b[0m\n\u001b[0;32m   1461\u001b[0m         \u001b[1;32melse\u001b[0m\u001b[1;33m:\u001b[0m\u001b[1;33m\u001b[0m\u001b[1;33m\u001b[0m\u001b[0m\n\u001b[0;32m   1462\u001b[0m             \u001b[0mvalues\u001b[0m \u001b[1;33m=\u001b[0m \u001b[0mself\u001b[0m\u001b[1;33m.\u001b[0m\u001b[0mget_values\u001b[0m\u001b[1;33m(\u001b[0m\u001b[1;33m)\u001b[0m\u001b[1;33m\u001b[0m\u001b[1;33m\u001b[0m\u001b[0m\n\u001b[1;32m-> 1463\u001b[1;33m             \u001b[0mvalues\u001b[0m\u001b[1;33m,\u001b[0m \u001b[0m_\u001b[0m \u001b[1;33m=\u001b[0m \u001b[0mself\u001b[0m\u001b[1;33m.\u001b[0m\u001b[0m_try_coerce_args\u001b[0m\u001b[1;33m(\u001b[0m\u001b[0mvalues\u001b[0m\u001b[1;33m,\u001b[0m \u001b[0mvalues\u001b[0m\u001b[1;33m)\u001b[0m\u001b[1;33m\u001b[0m\u001b[1;33m\u001b[0m\u001b[0m\n\u001b[0m\u001b[0;32m   1464\u001b[0m \u001b[1;33m\u001b[0m\u001b[0m\n\u001b[0;32m   1465\u001b[0m         \u001b[0mis_empty\u001b[0m \u001b[1;33m=\u001b[0m \u001b[0mvalues\u001b[0m\u001b[1;33m.\u001b[0m\u001b[0mshape\u001b[0m\u001b[1;33m[\u001b[0m\u001b[0maxis\u001b[0m\u001b[1;33m]\u001b[0m \u001b[1;33m==\u001b[0m \u001b[1;36m0\u001b[0m\u001b[1;33m\u001b[0m\u001b[1;33m\u001b[0m\u001b[0m\n",
      "\u001b[1;32mC:\\ProgramData\\Anaconda3\\lib\\site-packages\\pandas\\core\\internals\\blocks.py\u001b[0m in \u001b[0;36m_try_coerce_args\u001b[1;34m(self, values, other)\u001b[0m\n\u001b[0;32m    710\u001b[0m         \u001b[1;34m\"\"\" provide coercion to our input arguments \"\"\"\u001b[0m\u001b[1;33m\u001b[0m\u001b[1;33m\u001b[0m\u001b[0m\n\u001b[0;32m    711\u001b[0m \u001b[1;33m\u001b[0m\u001b[0m\n\u001b[1;32m--> 712\u001b[1;33m         \u001b[1;32mif\u001b[0m \u001b[0mnp\u001b[0m\u001b[1;33m.\u001b[0m\u001b[0many\u001b[0m\u001b[1;33m(\u001b[0m\u001b[0mnotna\u001b[0m\u001b[1;33m(\u001b[0m\u001b[0mother\u001b[0m\u001b[1;33m)\u001b[0m\u001b[1;33m)\u001b[0m \u001b[1;32mand\u001b[0m \u001b[1;32mnot\u001b[0m \u001b[0mself\u001b[0m\u001b[1;33m.\u001b[0m\u001b[0m_can_hold_element\u001b[0m\u001b[1;33m(\u001b[0m\u001b[0mother\u001b[0m\u001b[1;33m)\u001b[0m\u001b[1;33m:\u001b[0m\u001b[1;33m\u001b[0m\u001b[1;33m\u001b[0m\u001b[0m\n\u001b[0m\u001b[0;32m    713\u001b[0m             \u001b[1;31m# coercion issues\u001b[0m\u001b[1;33m\u001b[0m\u001b[1;33m\u001b[0m\u001b[1;33m\u001b[0m\u001b[0m\n\u001b[0;32m    714\u001b[0m             \u001b[1;31m# let higher levels handle\u001b[0m\u001b[1;33m\u001b[0m\u001b[1;33m\u001b[0m\u001b[1;33m\u001b[0m\u001b[0m\n",
      "\u001b[1;32mC:\\ProgramData\\Anaconda3\\lib\\site-packages\\pandas\\core\\dtypes\\missing.py\u001b[0m in \u001b[0;36mnotna\u001b[1;34m(obj)\u001b[0m\n\u001b[0;32m    334\u001b[0m     \u001b[1;32mif\u001b[0m \u001b[0mis_scalar\u001b[0m\u001b[1;33m(\u001b[0m\u001b[0mres\u001b[0m\u001b[1;33m)\u001b[0m\u001b[1;33m:\u001b[0m\u001b[1;33m\u001b[0m\u001b[1;33m\u001b[0m\u001b[0m\n\u001b[0;32m    335\u001b[0m         \u001b[1;32mreturn\u001b[0m \u001b[1;32mnot\u001b[0m \u001b[0mres\u001b[0m\u001b[1;33m\u001b[0m\u001b[1;33m\u001b[0m\u001b[0m\n\u001b[1;32m--> 336\u001b[1;33m     \u001b[1;32mreturn\u001b[0m \u001b[1;33m~\u001b[0m\u001b[0mres\u001b[0m\u001b[1;33m\u001b[0m\u001b[1;33m\u001b[0m\u001b[0m\n\u001b[0m\u001b[0;32m    337\u001b[0m \u001b[1;33m\u001b[0m\u001b[0m\n\u001b[0;32m    338\u001b[0m \u001b[1;33m\u001b[0m\u001b[0m\n",
      "\u001b[1;31mKeyboardInterrupt\u001b[0m: "
     ]
    }
   ],
   "source": [
    "attedData.describe()"
   ]
  },
  {
   "cell_type": "code",
   "execution_count": 210,
   "metadata": {},
   "outputs": [
    {
     "data": {
      "image/png": "[encoded data removed]",
      "text/plain": [
       "<Figure size 1440x216 with 1 Axes>"
      ]
     },
     "metadata": {
      "needs_background": "light"
     },
     "output_type": "display_data"
    }
   ],
   "source": [
    "import seaborn as sns\n",
    "#ax = sns.violinplot(data = attedData[[814630,814637,814641,814643,814646]])\n",
    "vioColnames= list(attedData.columns)\n",
    "vioColnames = vioColnames[1:]\n",
    "vioColnames\n",
    "ax = plt.figure(figsize = (20,3))\n",
    "ax =sns.violinplot(data = attedData[vioColnames[:25]])"
   ]
  },
  {
   "cell_type": "code",
   "execution_count": 194,
   "metadata": {},
   "outputs": [
    {
     "name": "stderr",
     "output_type": "stream",
     "text": [
      "C:\\ProgramData\\Anaconda3\\lib\\site-packages\\ipykernel_launcher.py:1: RuntimeWarning: divide by zero encountered in log\n",
      "  \"\"\"Entry point for launching an IPython kernel.\n"
     ]
    },
    {
     "data": {
      "image/png": "[encoded data removed]",
      "text/plain": [
       "<Figure size 432x288 with 1 Axes>"
      ]
     },
     "metadata": {
      "needs_background": "light"
     },
     "output_type": "display_data"
    }
   ],
   "source": [
    "logATTEDdata = np.log(attedData[[814630,814637,814641,814643,814646]])\n",
    "loglist = [814630,814637,814641,814643,814646]\n",
    "logDF = {}\n",
    "for x in loglist: \n",
    "    logDF.update({x:list(logATTEDdata[logATTEDdata[x]!=-np.inf][x])})\n",
    "logATTED = pd.DataFrame(logDF)\n",
    "ax1 = sns.violinplot(logATTED, orient ='v')\n",
    "#sns.violinplot(logATTEDdata[logATTEDdata[814637]!=-np.inf][814637],orient ='v')"
   ]
  },
  {
   "cell_type": "code",
   "execution_count": 192,
   "metadata": {},
   "outputs": [
    {
     "data": {
      "text/html": [
       "<div>\n",
       "<style scoped>\n",
       "    .dataframe tbody tr th:only-of-type {\n",
       "        vertical-align: middle;\n",
       "    }\n",
       "\n",
       "    .dataframe tbody tr th {\n",
       "        vertical-align: top;\n",
       "    }\n",
       "\n",
       "    .dataframe thead th {\n",
       "        text-align: right;\n",
       "    }\n",
       "</style>\n",
       "<table border=\"1\" class=\"dataframe\">\n",
       "  <thead>\n",
       "    <tr style=\"text-align: right;\">\n",
       "      <th></th>\n",
       "      <th>814630</th>\n",
       "      <th>814637</th>\n",
       "      <th>814641</th>\n",
       "      <th>814643</th>\n",
       "      <th>814646</th>\n",
       "    </tr>\n",
       "  </thead>\n",
       "  <tbody>\n",
       "    <tr>\n",
       "      <th>20814</th>\n",
       "      <td>8.277432</td>\n",
       "      <td>9.436756</td>\n",
       "      <td>6.447971</td>\n",
       "      <td>8.105223</td>\n",
       "      <td>9.832269</td>\n",
       "    </tr>\n",
       "    <tr>\n",
       "      <th>20815</th>\n",
       "      <td>9.568999</td>\n",
       "      <td>9.675186</td>\n",
       "      <td>9.749117</td>\n",
       "      <td>9.804228</td>\n",
       "      <td>9.059351</td>\n",
       "    </tr>\n",
       "    <tr>\n",
       "      <th>20816</th>\n",
       "      <td>8.973468</td>\n",
       "      <td>7.436670</td>\n",
       "      <td>7.862316</td>\n",
       "      <td>8.909592</td>\n",
       "      <td>9.751277</td>\n",
       "    </tr>\n",
       "    <tr>\n",
       "      <th>20817</th>\n",
       "      <td>8.199154</td>\n",
       "      <td>9.810189</td>\n",
       "      <td>9.820608</td>\n",
       "      <td>9.867824</td>\n",
       "      <td>6.843825</td>\n",
       "    </tr>\n",
       "    <tr>\n",
       "      <th>20818</th>\n",
       "      <td>9.746845</td>\n",
       "      <td>9.809953</td>\n",
       "      <td>9.543438</td>\n",
       "      <td>9.751239</td>\n",
       "      <td>8.483926</td>\n",
       "    </tr>\n",
       "  </tbody>\n",
       "</table>\n",
       "</div>"
      ],
      "text/plain": [
       "         814630    814637    814641    814643    814646\n",
       "20814  8.277432  9.436756  6.447971  8.105223  9.832269\n",
       "20815  9.568999  9.675186  9.749117  9.804228  9.059351\n",
       "20816  8.973468  7.436670  7.862316  8.909592  9.751277\n",
       "20817  8.199154  9.810189  9.820608  9.867824  6.843825\n",
       "20818  9.746845  9.809953  9.543438  9.751239  8.483926"
      ]
     },
     "execution_count": 192,
     "metadata": {},
     "output_type": "execute_result"
    }
   ],
   "source": [
    "logATTEDdata.tail()"
   ]
  },
  {
   "cell_type": "code",
   "execution_count": 94,
   "metadata": {
    "collapsed": true
   },
   "outputs": [
    {
     "data": {
      "text/plain": [
       "0          float64\n",
       "814630     float64\n",
       "814637     float64\n",
       "814641     float64\n",
       "814643     float64\n",
       "814644     float64\n",
       "814646     float64\n",
       "814647     float64\n",
       "814649     float64\n",
       "814651     float64\n",
       "814652     float64\n",
       "814656     float64\n",
       "814657     float64\n",
       "814661     float64\n",
       "814663     float64\n",
       "814670     float64\n",
       "814671     float64\n",
       "814673     float64\n",
       "814675     float64\n",
       "814677     float64\n",
       "814681     float64\n",
       "814682     float64\n",
       "814683     float64\n",
       "814686     float64\n",
       "814687     float64\n",
       "814688     float64\n",
       "814691     float64\n",
       "814694     float64\n",
       "814695     float64\n",
       "814697     float64\n",
       "            ...   \n",
       "844398     float64\n",
       "844403     float64\n",
       "844405     float64\n",
       "844406     float64\n",
       "844411     float64\n",
       "844412     float64\n",
       "844415     float64\n",
       "844417     float64\n",
       "844422     float64\n",
       "844423     float64\n",
       "844430     float64\n",
       "844431     float64\n",
       "844433     float64\n",
       "2745844    float64\n",
       "2745879    float64\n",
       "3767664    float64\n",
       "3767728    float64\n",
       "3767798    float64\n",
       "3767954    float64\n",
       "3767968    float64\n",
       "3767983    float64\n",
       "3768737    float64\n",
       "3768753    float64\n",
       "3768908    float64\n",
       "3769417    float64\n",
       "3769951    float64\n",
       "3770075    float64\n",
       "3770503    float64\n",
       "5008312    float64\n",
       "6241019    float64\n",
       "Length: 8782, dtype: object"
      ]
     },
     "execution_count": 94,
     "metadata": {},
     "output_type": "execute_result"
    }
   ],
   "source": [
    "attedData.dtypes"
   ]
  },
  {
   "cell_type": "code",
   "execution_count": 109,
   "metadata": {},
   "outputs": [],
   "source": [
    "tempDF = attedData"
   ]
  },
  {
   "cell_type": "code",
   "execution_count": 110,
   "metadata": {},
   "outputs": [],
   "source": [
    "tempDF.loc[30000] = tempDF.sum()"
   ]
  },
  {
   "cell_type": "code",
   "execution_count": 113,
   "metadata": {},
   "outputs": [
    {
     "data": {
      "text/html": [
       "<div>\n",
       "<style scoped>\n",
       "    .dataframe tbody tr th:only-of-type {\n",
       "        vertical-align: middle;\n",
       "    }\n",
       "\n",
       "    .dataframe tbody tr th {\n",
       "        vertical-align: top;\n",
       "    }\n",
       "\n",
       "    .dataframe thead th {\n",
       "        text-align: right;\n",
       "    }\n",
       "</style>\n",
       "<table border=\"1\" class=\"dataframe\">\n",
       "  <thead>\n",
       "    <tr style=\"text-align: right;\">\n",
       "      <th></th>\n",
       "      <th>0</th>\n",
       "      <th>814630</th>\n",
       "      <th>814637</th>\n",
       "      <th>814641</th>\n",
       "      <th>814643</th>\n",
       "      <th>814644</th>\n",
       "      <th>814646</th>\n",
       "      <th>814647</th>\n",
       "      <th>814649</th>\n",
       "      <th>814651</th>\n",
       "      <th>...</th>\n",
       "      <th>3767983</th>\n",
       "      <th>3768737</th>\n",
       "      <th>3768753</th>\n",
       "      <th>3768908</th>\n",
       "      <th>3769417</th>\n",
       "      <th>3769951</th>\n",
       "      <th>3770075</th>\n",
       "      <th>3770503</th>\n",
       "      <th>5008312</th>\n",
       "      <th>6241019</th>\n",
       "    </tr>\n",
       "  </thead>\n",
       "  <tbody>\n",
       "    <tr>\n",
       "      <th>20815</th>\n",
       "      <td>7922387</td>\n",
       "      <td>1.431408e+04</td>\n",
       "      <td>1.591768e+04</td>\n",
       "      <td>1.713909e+04</td>\n",
       "      <td>1.811016e+04</td>\n",
       "      <td>1.695406e+04</td>\n",
       "      <td>8.598570e+03</td>\n",
       "      <td>8.939660e+03</td>\n",
       "      <td>1.215566e+04</td>\n",
       "      <td>4.564900e+02</td>\n",
       "      <td>...</td>\n",
       "      <td>2.583200e+02</td>\n",
       "      <td>2.848270e+03</td>\n",
       "      <td>4.106480e+03</td>\n",
       "      <td>6.911400e+02</td>\n",
       "      <td>2.006494e+04</td>\n",
       "      <td>1.804250e+03</td>\n",
       "      <td>1.247929e+04</td>\n",
       "      <td>9.297300e+02</td>\n",
       "      <td>1.793025e+04</td>\n",
       "      <td>1.510444e+04</td>\n",
       "    </tr>\n",
       "    <tr>\n",
       "      <th>20816</th>\n",
       "      <td>7922407</td>\n",
       "      <td>7.890920e+03</td>\n",
       "      <td>1.697090e+03</td>\n",
       "      <td>2.597530e+03</td>\n",
       "      <td>7.402640e+03</td>\n",
       "      <td>7.025400e+03</td>\n",
       "      <td>1.717615e+04</td>\n",
       "      <td>1.608599e+04</td>\n",
       "      <td>9.724000e+02</td>\n",
       "      <td>8.908890e+03</td>\n",
       "      <td>...</td>\n",
       "      <td>1.148699e+04</td>\n",
       "      <td>7.985500e+03</td>\n",
       "      <td>6.907140e+03</td>\n",
       "      <td>1.177255e+04</td>\n",
       "      <td>1.285760e+03</td>\n",
       "      <td>1.017805e+04</td>\n",
       "      <td>2.068205e+04</td>\n",
       "      <td>1.369240e+04</td>\n",
       "      <td>6.124120e+03</td>\n",
       "      <td>2.069111e+04</td>\n",
       "    </tr>\n",
       "    <tr>\n",
       "      <th>20817</th>\n",
       "      <td>7922469</td>\n",
       "      <td>3.637870e+03</td>\n",
       "      <td>1.821843e+04</td>\n",
       "      <td>1.840924e+04</td>\n",
       "      <td>1.929930e+04</td>\n",
       "      <td>2.013536e+04</td>\n",
       "      <td>9.380700e+02</td>\n",
       "      <td>5.015220e+03</td>\n",
       "      <td>1.925429e+04</td>\n",
       "      <td>5.014640e+03</td>\n",
       "      <td>...</td>\n",
       "      <td>4.526380e+03</td>\n",
       "      <td>9.325280e+03</td>\n",
       "      <td>1.186094e+04</td>\n",
       "      <td>4.249880e+03</td>\n",
       "      <td>1.613056e+04</td>\n",
       "      <td>5.913480e+03</td>\n",
       "      <td>6.587400e+02</td>\n",
       "      <td>6.906020e+03</td>\n",
       "      <td>1.197551e+04</td>\n",
       "      <td>8.548290e+03</td>\n",
       "    </tr>\n",
       "    <tr>\n",
       "      <th>20818</th>\n",
       "      <td>7922506</td>\n",
       "      <td>1.710019e+04</td>\n",
       "      <td>1.821414e+04</td>\n",
       "      <td>1.395284e+04</td>\n",
       "      <td>1.717550e+04</td>\n",
       "      <td>1.187787e+04</td>\n",
       "      <td>4.836400e+03</td>\n",
       "      <td>8.935940e+03</td>\n",
       "      <td>1.283732e+04</td>\n",
       "      <td>1.197250e+03</td>\n",
       "      <td>...</td>\n",
       "      <td>4.172760e+03</td>\n",
       "      <td>4.542780e+03</td>\n",
       "      <td>5.018400e+03</td>\n",
       "      <td>6.635070e+03</td>\n",
       "      <td>1.553978e+04</td>\n",
       "      <td>2.243200e+03</td>\n",
       "      <td>5.922100e+03</td>\n",
       "      <td>4.366720e+03</td>\n",
       "      <td>1.423720e+04</td>\n",
       "      <td>1.098432e+04</td>\n",
       "    </tr>\n",
       "    <tr>\n",
       "      <th>30000</th>\n",
       "      <td>-2147483648</td>\n",
       "      <td>4.342382e+08</td>\n",
       "      <td>4.391970e+08</td>\n",
       "      <td>4.352718e+08</td>\n",
       "      <td>4.454956e+08</td>\n",
       "      <td>4.318318e+08</td>\n",
       "      <td>4.460759e+08</td>\n",
       "      <td>4.258990e+08</td>\n",
       "      <td>4.103562e+08</td>\n",
       "      <td>4.102645e+08</td>\n",
       "      <td>...</td>\n",
       "      <td>4.020356e+08</td>\n",
       "      <td>4.093632e+08</td>\n",
       "      <td>4.028243e+08</td>\n",
       "      <td>4.126197e+08</td>\n",
       "      <td>4.407837e+08</td>\n",
       "      <td>4.109276e+08</td>\n",
       "      <td>4.522674e+08</td>\n",
       "      <td>3.978635e+08</td>\n",
       "      <td>4.315520e+08</td>\n",
       "      <td>4.419994e+08</td>\n",
       "    </tr>\n",
       "  </tbody>\n",
       "</table>\n",
       "<p>5 rows × 8782 columns</p>\n",
       "</div>"
      ],
      "text/plain": [
       "          0             814630        814637        814641        814643   \\\n",
       "20815     7922387  1.431408e+04  1.591768e+04  1.713909e+04  1.811016e+04   \n",
       "20816     7922407  7.890920e+03  1.697090e+03  2.597530e+03  7.402640e+03   \n",
       "20817     7922469  3.637870e+03  1.821843e+04  1.840924e+04  1.929930e+04   \n",
       "20818     7922506  1.710019e+04  1.821414e+04  1.395284e+04  1.717550e+04   \n",
       "30000 -2147483648  4.342382e+08  4.391970e+08  4.352718e+08  4.454956e+08   \n",
       "\n",
       "            814644        814646        814647        814649        814651   \\\n",
       "20815  1.695406e+04  8.598570e+03  8.939660e+03  1.215566e+04  4.564900e+02   \n",
       "20816  7.025400e+03  1.717615e+04  1.608599e+04  9.724000e+02  8.908890e+03   \n",
       "20817  2.013536e+04  9.380700e+02  5.015220e+03  1.925429e+04  5.014640e+03   \n",
       "20818  1.187787e+04  4.836400e+03  8.935940e+03  1.283732e+04  1.197250e+03   \n",
       "30000  4.318318e+08  4.460759e+08  4.258990e+08  4.103562e+08  4.102645e+08   \n",
       "\n",
       "       ...       3767983       3768737       3768753       3768908  \\\n",
       "20815  ...  2.583200e+02  2.848270e+03  4.106480e+03  6.911400e+02   \n",
       "20816  ...  1.148699e+04  7.985500e+03  6.907140e+03  1.177255e+04   \n",
       "20817  ...  4.526380e+03  9.325280e+03  1.186094e+04  4.249880e+03   \n",
       "20818  ...  4.172760e+03  4.542780e+03  5.018400e+03  6.635070e+03   \n",
       "30000  ...  4.020356e+08  4.093632e+08  4.028243e+08  4.126197e+08   \n",
       "\n",
       "            3769417       3769951       3770075       3770503       5008312  \\\n",
       "20815  2.006494e+04  1.804250e+03  1.247929e+04  9.297300e+02  1.793025e+04   \n",
       "20816  1.285760e+03  1.017805e+04  2.068205e+04  1.369240e+04  6.124120e+03   \n",
       "20817  1.613056e+04  5.913480e+03  6.587400e+02  6.906020e+03  1.197551e+04   \n",
       "20818  1.553978e+04  2.243200e+03  5.922100e+03  4.366720e+03  1.423720e+04   \n",
       "30000  4.407837e+08  4.109276e+08  4.522674e+08  3.978635e+08  4.315520e+08   \n",
       "\n",
       "            6241019  \n",
       "20815  1.510444e+04  \n",
       "20816  2.069111e+04  \n",
       "20817  8.548290e+03  \n",
       "20818  1.098432e+04  \n",
       "30000  4.419994e+08  \n",
       "\n",
       "[5 rows x 8782 columns]"
      ]
     },
     "execution_count": 113,
     "metadata": {},
     "output_type": "execute_result"
    }
   ],
   "source": [
    "tempDF =tempDF.astype({0: 'int32'})\n",
    "tempDF.tail()\n"
   ]
  },
  {
   "cell_type": "code",
   "execution_count": 17,
   "metadata": {
    "collapsed": true
   },
   "outputs": [
    {
     "data": {
      "text/html": [
       "<div>\n",
       "<style scoped>\n",
       "    .dataframe tbody tr th:only-of-type {\n",
       "        vertical-align: middle;\n",
       "    }\n",
       "\n",
       "    .dataframe tbody tr th {\n",
       "        vertical-align: top;\n",
       "    }\n",
       "\n",
       "    .dataframe thead th {\n",
       "        text-align: right;\n",
       "    }\n",
       "</style>\n",
       "<table border=\"1\" class=\"dataframe\">\n",
       "  <thead>\n",
       "    <tr style=\"text-align: right;\">\n",
       "      <th></th>\n",
       "      <th>Entrez Gene Interactor A</th>\n",
       "      <th>Entrez Gene Interactor B</th>\n",
       "    </tr>\n",
       "  </thead>\n",
       "  <tbody>\n",
       "    <tr>\n",
       "      <th>0</th>\n",
       "      <td>828230</td>\n",
       "      <td>832208</td>\n",
       "    </tr>\n",
       "    <tr>\n",
       "      <th>1</th>\n",
       "      <td>828230</td>\n",
       "      <td>821860</td>\n",
       "    </tr>\n",
       "    <tr>\n",
       "      <th>2</th>\n",
       "      <td>836259</td>\n",
       "      <td>818903</td>\n",
       "    </tr>\n",
       "    <tr>\n",
       "      <th>3</th>\n",
       "      <td>836259</td>\n",
       "      <td>825075</td>\n",
       "    </tr>\n",
       "    <tr>\n",
       "      <th>4</th>\n",
       "      <td>836259</td>\n",
       "      <td>836259</td>\n",
       "    </tr>\n",
       "    <tr>\n",
       "      <th>5</th>\n",
       "      <td>836259</td>\n",
       "      <td>819292</td>\n",
       "    </tr>\n",
       "    <tr>\n",
       "      <th>6</th>\n",
       "      <td>819292</td>\n",
       "      <td>819292</td>\n",
       "    </tr>\n",
       "    <tr>\n",
       "      <th>7</th>\n",
       "      <td>819292</td>\n",
       "      <td>836259</td>\n",
       "    </tr>\n",
       "    <tr>\n",
       "      <th>8</th>\n",
       "      <td>834224</td>\n",
       "      <td>816408</td>\n",
       "    </tr>\n",
       "    <tr>\n",
       "      <th>9</th>\n",
       "      <td>817111</td>\n",
       "      <td>816408</td>\n",
       "    </tr>\n",
       "    <tr>\n",
       "      <th>10</th>\n",
       "      <td>838604</td>\n",
       "      <td>816408</td>\n",
       "    </tr>\n",
       "    <tr>\n",
       "      <th>11</th>\n",
       "      <td>825172</td>\n",
       "      <td>816408</td>\n",
       "    </tr>\n",
       "    <tr>\n",
       "      <th>12</th>\n",
       "      <td>829569</td>\n",
       "      <td>816408</td>\n",
       "    </tr>\n",
       "    <tr>\n",
       "      <th>13</th>\n",
       "      <td>814846</td>\n",
       "      <td>816408</td>\n",
       "    </tr>\n",
       "    <tr>\n",
       "      <th>14</th>\n",
       "      <td>819203</td>\n",
       "      <td>816408</td>\n",
       "    </tr>\n",
       "    <tr>\n",
       "      <th>15</th>\n",
       "      <td>816408</td>\n",
       "      <td>816408</td>\n",
       "    </tr>\n",
       "    <tr>\n",
       "      <th>16</th>\n",
       "      <td>816408</td>\n",
       "      <td>835842</td>\n",
       "    </tr>\n",
       "    <tr>\n",
       "      <th>17</th>\n",
       "      <td>816408</td>\n",
       "      <td>843133</td>\n",
       "    </tr>\n",
       "    <tr>\n",
       "      <th>18</th>\n",
       "      <td>836259</td>\n",
       "      <td>835842</td>\n",
       "    </tr>\n",
       "    <tr>\n",
       "      <th>19</th>\n",
       "      <td>836259</td>\n",
       "      <td>816408</td>\n",
       "    </tr>\n",
       "    <tr>\n",
       "      <th>20</th>\n",
       "      <td>836259</td>\n",
       "      <td>843133</td>\n",
       "    </tr>\n",
       "    <tr>\n",
       "      <th>21</th>\n",
       "      <td>832518</td>\n",
       "      <td>835842</td>\n",
       "    </tr>\n",
       "    <tr>\n",
       "      <th>22</th>\n",
       "      <td>832518</td>\n",
       "      <td>816408</td>\n",
       "    </tr>\n",
       "    <tr>\n",
       "      <th>23</th>\n",
       "      <td>832518</td>\n",
       "      <td>843133</td>\n",
       "    </tr>\n",
       "    <tr>\n",
       "      <th>24</th>\n",
       "      <td>836132</td>\n",
       "      <td>836259</td>\n",
       "    </tr>\n",
       "    <tr>\n",
       "      <th>25</th>\n",
       "      <td>836259</td>\n",
       "      <td>836132</td>\n",
       "    </tr>\n",
       "    <tr>\n",
       "      <th>26</th>\n",
       "      <td>835842</td>\n",
       "      <td>838883</td>\n",
       "    </tr>\n",
       "    <tr>\n",
       "      <th>27</th>\n",
       "      <td>839625</td>\n",
       "      <td>838883</td>\n",
       "    </tr>\n",
       "    <tr>\n",
       "      <th>28</th>\n",
       "      <td>843133</td>\n",
       "      <td>838883</td>\n",
       "    </tr>\n",
       "    <tr>\n",
       "      <th>29</th>\n",
       "      <td>816408</td>\n",
       "      <td>838883</td>\n",
       "    </tr>\n",
       "    <tr>\n",
       "      <th>...</th>\n",
       "      <td>...</td>\n",
       "      <td>...</td>\n",
       "    </tr>\n",
       "    <tr>\n",
       "      <th>56168</th>\n",
       "      <td>838388</td>\n",
       "      <td>832327</td>\n",
       "    </tr>\n",
       "    <tr>\n",
       "      <th>56169</th>\n",
       "      <td>838388</td>\n",
       "      <td>832373</td>\n",
       "    </tr>\n",
       "    <tr>\n",
       "      <th>56170</th>\n",
       "      <td>838388</td>\n",
       "      <td>832523</td>\n",
       "    </tr>\n",
       "    <tr>\n",
       "      <th>56171</th>\n",
       "      <td>838388</td>\n",
       "      <td>832636</td>\n",
       "    </tr>\n",
       "    <tr>\n",
       "      <th>56172</th>\n",
       "      <td>838388</td>\n",
       "      <td>832697</td>\n",
       "    </tr>\n",
       "    <tr>\n",
       "      <th>56173</th>\n",
       "      <td>838388</td>\n",
       "      <td>833535</td>\n",
       "    </tr>\n",
       "    <tr>\n",
       "      <th>56174</th>\n",
       "      <td>838388</td>\n",
       "      <td>833856</td>\n",
       "    </tr>\n",
       "    <tr>\n",
       "      <th>56175</th>\n",
       "      <td>838388</td>\n",
       "      <td>834182</td>\n",
       "    </tr>\n",
       "    <tr>\n",
       "      <th>56176</th>\n",
       "      <td>838388</td>\n",
       "      <td>834314</td>\n",
       "    </tr>\n",
       "    <tr>\n",
       "      <th>56177</th>\n",
       "      <td>838388</td>\n",
       "      <td>834419</td>\n",
       "    </tr>\n",
       "    <tr>\n",
       "      <th>56178</th>\n",
       "      <td>838388</td>\n",
       "      <td>834546</td>\n",
       "    </tr>\n",
       "    <tr>\n",
       "      <th>56179</th>\n",
       "      <td>838388</td>\n",
       "      <td>834767</td>\n",
       "    </tr>\n",
       "    <tr>\n",
       "      <th>56180</th>\n",
       "      <td>838388</td>\n",
       "      <td>834770</td>\n",
       "    </tr>\n",
       "    <tr>\n",
       "      <th>56181</th>\n",
       "      <td>838388</td>\n",
       "      <td>835466</td>\n",
       "    </tr>\n",
       "    <tr>\n",
       "      <th>56182</th>\n",
       "      <td>838388</td>\n",
       "      <td>835531</td>\n",
       "    </tr>\n",
       "    <tr>\n",
       "      <th>56183</th>\n",
       "      <td>838388</td>\n",
       "      <td>835860</td>\n",
       "    </tr>\n",
       "    <tr>\n",
       "      <th>56184</th>\n",
       "      <td>838388</td>\n",
       "      <td>835934</td>\n",
       "    </tr>\n",
       "    <tr>\n",
       "      <th>56185</th>\n",
       "      <td>838388</td>\n",
       "      <td>836103</td>\n",
       "    </tr>\n",
       "    <tr>\n",
       "      <th>56186</th>\n",
       "      <td>838388</td>\n",
       "      <td>836281</td>\n",
       "    </tr>\n",
       "    <tr>\n",
       "      <th>56187</th>\n",
       "      <td>838388</td>\n",
       "      <td>836286</td>\n",
       "    </tr>\n",
       "    <tr>\n",
       "      <th>56188</th>\n",
       "      <td>838388</td>\n",
       "      <td>836528</td>\n",
       "    </tr>\n",
       "    <tr>\n",
       "      <th>56189</th>\n",
       "      <td>838388</td>\n",
       "      <td>836550</td>\n",
       "    </tr>\n",
       "    <tr>\n",
       "      <th>56190</th>\n",
       "      <td>838388</td>\n",
       "      <td>836652</td>\n",
       "    </tr>\n",
       "    <tr>\n",
       "      <th>56191</th>\n",
       "      <td>838388</td>\n",
       "      <td>836725</td>\n",
       "    </tr>\n",
       "    <tr>\n",
       "      <th>56192</th>\n",
       "      <td>838388</td>\n",
       "      <td>836789</td>\n",
       "    </tr>\n",
       "    <tr>\n",
       "      <th>56193</th>\n",
       "      <td>838388</td>\n",
       "      <td>827028</td>\n",
       "    </tr>\n",
       "    <tr>\n",
       "      <th>56194</th>\n",
       "      <td>838388</td>\n",
       "      <td>821921</td>\n",
       "    </tr>\n",
       "    <tr>\n",
       "      <th>56195</th>\n",
       "      <td>838388</td>\n",
       "      <td>828889</td>\n",
       "    </tr>\n",
       "    <tr>\n",
       "      <th>56196</th>\n",
       "      <td>838388</td>\n",
       "      <td>836652</td>\n",
       "    </tr>\n",
       "    <tr>\n",
       "      <th>56197</th>\n",
       "      <td>10367</td>\n",
       "      <td>829835</td>\n",
       "    </tr>\n",
       "  </tbody>\n",
       "</table>\n",
       "<p>56198 rows × 2 columns</p>\n",
       "</div>"
      ],
      "text/plain": [
       "       Entrez Gene Interactor A  Entrez Gene Interactor B\n",
       "0                        828230                    832208\n",
       "1                        828230                    821860\n",
       "2                        836259                    818903\n",
       "3                        836259                    825075\n",
       "4                        836259                    836259\n",
       "5                        836259                    819292\n",
       "6                        819292                    819292\n",
       "7                        819292                    836259\n",
       "8                        834224                    816408\n",
       "9                        817111                    816408\n",
       "10                       838604                    816408\n",
       "11                       825172                    816408\n",
       "12                       829569                    816408\n",
       "13                       814846                    816408\n",
       "14                       819203                    816408\n",
       "15                       816408                    816408\n",
       "16                       816408                    835842\n",
       "17                       816408                    843133\n",
       "18                       836259                    835842\n",
       "19                       836259                    816408\n",
       "20                       836259                    843133\n",
       "21                       832518                    835842\n",
       "22                       832518                    816408\n",
       "23                       832518                    843133\n",
       "24                       836132                    836259\n",
       "25                       836259                    836132\n",
       "26                       835842                    838883\n",
       "27                       839625                    838883\n",
       "28                       843133                    838883\n",
       "29                       816408                    838883\n",
       "...                         ...                       ...\n",
       "56168                    838388                    832327\n",
       "56169                    838388                    832373\n",
       "56170                    838388                    832523\n",
       "56171                    838388                    832636\n",
       "56172                    838388                    832697\n",
       "56173                    838388                    833535\n",
       "56174                    838388                    833856\n",
       "56175                    838388                    834182\n",
       "56176                    838388                    834314\n",
       "56177                    838388                    834419\n",
       "56178                    838388                    834546\n",
       "56179                    838388                    834767\n",
       "56180                    838388                    834770\n",
       "56181                    838388                    835466\n",
       "56182                    838388                    835531\n",
       "56183                    838388                    835860\n",
       "56184                    838388                    835934\n",
       "56185                    838388                    836103\n",
       "56186                    838388                    836281\n",
       "56187                    838388                    836286\n",
       "56188                    838388                    836528\n",
       "56189                    838388                    836550\n",
       "56190                    838388                    836652\n",
       "56191                    838388                    836725\n",
       "56192                    838388                    836789\n",
       "56193                    838388                    827028\n",
       "56194                    838388                    821921\n",
       "56195                    838388                    828889\n",
       "56196                    838388                    836652\n",
       "56197                     10367                    829835\n",
       "\n",
       "[56198 rows x 2 columns]"
      ]
     },
     "execution_count": 17,
     "metadata": {},
     "output_type": "execute_result"
    }
   ],
   "source": [
    "simplebGRID = bioGRID_DF[['Entrez Gene Interactor A','Entrez Gene Interactor B']]\n",
    "simplebGRID"
   ]
  },
  {
   "cell_type": "code",
   "execution_count": 150,
   "metadata": {},
   "outputs": [
    {
     "name": "stdout",
     "output_type": "stream",
     "text": [
      "   weight  0  b\n",
      "0     0.3  A  D\n",
      "1     0.3  B  A\n",
      "2     0.3  C  A\n"
     ]
    },
    {
     "data": {
      "text/plain": [
       "{('A', 'D'): 0.3, ('A', 'B'): 0.3, ('A', 'C'): 0.3}"
      ]
     },
     "execution_count": 150,
     "metadata": {},
     "output_type": "execute_result"
    },
    {
     "data": {
      "image/png": "[encoded data removed]",
      "text/plain": [
       "<Figure size 432x288 with 1 Axes>"
      ]
     },
     "metadata": {},
     "output_type": "display_data"
    }
   ],
   "source": [
    "rng = np.random.RandomState(seed=5)\n",
    "ints = [.3,.3,.3]\n",
    "a = ['A', 'B', 'C']\n",
    "b = ['D', 'A', 'A']\n",
    "c= [7,1,1]\n",
    "df = pd.DataFrame({'weight':ints})\n",
    "df[0] = a\n",
    "df['b'] = b\n",
    "print(df[['weight',  0, 'b']])\n",
    "testG = nx.from_pandas_edgelist(df, 0, 'b', ['weight'])\n",
    "nx.draw(testG, with_labels =True )\n",
    "nx.get_edge_attributes(testG, 'weight')"
   ]
  },
  {
   "cell_type": "code",
   "execution_count": 151,
   "metadata": {},
   "outputs": [
    {
     "data": {
      "text/plain": [
       "{3: 1.0, 1: 3.0}"
      ]
     },
     "execution_count": 151,
     "metadata": {},
     "output_type": "execute_result"
    }
   ],
   "source": [
    "nx.k_nearest_neighbors(testG, weight='weight')"
   ]
  },
  {
   "cell_type": "code",
   "execution_count": 133,
   "metadata": {},
   "outputs": [],
   "source": [
    "vsGRID = simplebGRID[:10]\n",
    "GenesA = list(simplebGRID['Entrez Gene Interactor A'].unique())\n",
    "GenesB = list(simplebGRID['Entrez Gene Interactor B'].unique())\n",
    "GenesA.sort()\n",
    "GenesB.sort()\n",
    "Genes = list(set([*GenesA, *GenesB]))"
   ]
  },
  {
   "cell_type": "code",
   "execution_count": 127,
   "metadata": {},
   "outputs": [
    {
     "name": "stdout",
     "output_type": "stream",
     "text": [
      "\n",
      "Wall time: 224 ms\n"
     ]
    }
   ],
   "source": [
    "%%time\n",
    "G = nx.from_pandas_edgelist(simplebGRID, source = 'Entrez Gene Interactor A', target = 'Entrez Gene Interactor B')\n",
    "#pos = nx.kamada_kawai_layout(G)\n",
    "#nx.draw(G,pos, alpha = 0.3, node_size= 5)\n",
    "#nx.draw_networkx_labels(G,pos,font_size = 7)\n",
    "#G.get_edge_data(u =828230,v =832208)\n",
    "print()"
   ]
  },
  {
   "cell_type": "code",
   "execution_count": 22,
   "metadata": {
    "collapsed": true
   },
   "outputs": [
    {
     "name": "stdout",
     "output_type": "stream",
     "text": [
      "[819200, 819203, 819204, 819206, 819208, 819210, 819211, 819212, 819215, 819217, 819219, 819220, 819223, 819230, 819232, 819233, 819234, 819235, 819236, 819237, 819239, 819240, 819241, 819242, 819244, 819247, 819248, 819249, 819252, 58, 819260, 819261, 852028, 819262, 819264, 819263, 819265, 819267, 819272, 819273, 819277, 819279, 819280, 819281, 819282, 3768403, 819283, 819286, 819290, 819292, 819293, 819295, 819296, 819300, 819302, 819303, 819311, 819312, 819313, 819314, 819316, 819317, 819318, 819320, 852088, 819321, 819322, 819323, 819326, 819329, 819330, 819332, 819334, 819335, 819339, 819340, 819352, 819353, 819356, 819358, 819359, 819360, 819364, 819371, 819372, 819373, 819374, 819375, 819376, 819383, 819384, 819386, 819387, 819389, 819392, 819393, 819396, 819397, 819399, 819400, 819401, 819402, 819403, 3768521, 819405, 819407, 819408, 819409, 819410, 819413, 819419, 819422, 819424, 819509, 3768663, 819549, 819550, 819551, 819553, 819554, 819555, 819558, 819561, 819562, 819565, 819566, 819567, 819578, 819579, 819580, 819581, 852349, 819583, 819593, 819597, 819598, 819602, 819603, 852376, 819609, 819614, 819617, 852385, 819619, 3768737, 819624, 819625, 819626, 819629, 819632, 819633, 3768753, 819637, 819639, 65977, 819644, 819646, 819647, 819651, 819652, 819653, 819654, 819660, 819661, 819666, 819667, 819668, 819669, 3768790, 472, 819672, 819674, 819675, 819676, 819677, 819680, 819683, 819684, 819685, 819688, 819689, 819691, 819692, 3768815, 819697, 819699, 819700, 819702, 819704, 819707, 819708, 819715, 819718, 819720, 819722, 819724, 819725, 819729, 819731, 819734, 819736, 819738, 819740, 819745, 819749, 819753, 819755, 819756, 819759, 819761, 819763, 819767, 819772, 819774, 819775, 819778, 819783, 819784, 819785, 3768904, 4325962, 3768908, 3768909, 819791, 819793, 819796, 819798, 819800, 819801, 819803, 819810, 819811, 819812, 819814, 819815, 819817, 819821, 819824, 819827, 819829, 819831, 819832, 819835, 819837, 819838, 819839, 819840, 819844, 819845, 819846, 819847, 819848, 819851, 819855, 819857, 819858, 819859, 819864, 819865, 667, 819870, 819878, 819881, 819883, 819886, 819887, 819889, 819895, 819896, 819897, 819898, 819903, 819904, 819908, 819909, 819910, 819911, 819914, 819915, 819918, 819919, 819921, 819922, 819923, 819924, 819925, 819929, 819932, 819936, 819938, 819940, 819941, 819943, 819944, 819945, 819946, 852713, 819956, 819957, 819958, 819959, 819965, 819966, 819967, 819969, 819970, 819971, 819979, 819981, 819986, 819987, 819993, 819994, 819995, 852763, 819998, 819999, 820001, 820005, 820006, 820007, 820010, 820014, 820015, 820016, 852785, 820018, 820019, 820020, 820021, 820022, 820024, 820025, 852793, 820032, 820036, 820042, 820046, 820049, 820052, 820055, 820060, 820062, 820064, 820067, 820069, 820070, 820076, 820079, 820081, 820082, 820085, 820088, 820093, 820094, 820098, 820102, 820104, 820107, 852876, 820112, 820117, 820118, 820120, 820122, 820124, 820125, 820126, 820127, 820128, 820131, 820132, 852902, 820135, 820137, 820138, 820139, 820140, 820142, 820144, 820146, 820149, 820151, 820152, 820159, 820161, 820162, 820163, 820164, 820165, 820168, 820173, 820175, 820177, 820180, 820181, 820187, 820188, 820189, 820191, 820195, 820196, 820199, 820200, 820201, 820202, 820206, 820207, 820211, 820212, 820213, 820217, 820218, 820219, 820223, 820225, 1026, 820227, 820228, 820229, 820233, 820234, 820235, 820236, 820238, 820242, 820245, 820249, 820255, 820261, 820266, 820267, 820268, 820269, 820272, 820273, 820274, 820276, 820278, 820280, 820281, 820282, 820284, 820285, 820288, 820290, 853061, 820294, 787528, 820297, 820298, 820299, 3769417, 820307, 820313, 820314, 820317, 820319, 820324, 820325, 820326, 820327, 820331, 820332, 3769452, 820335, 820338, 820341, 820343, 820345, 820347, 820348, 820349, 820350, 820351, 820354, 820355, 820356, 820358, 820363, 820364, 820366, 820367, 820369, 820370, 820377, 820380, 820383, 820384, 820385, 820387, 820388, 820389, 820391, 820394, 820395, 820397, 820398, 820405, 820406, 820407, 820408, 820409, 820410, 820413, 820414, 820416, 820417, 820418, 820419, 820426, 820427, 820428, 820429, 820430, 820432, 820436, 820438, 820442, 820443, 820446, 820448, 820450, 820454, 820455, 820461, 820463, 820464, 820465, 820468, 820472, 820475, 820477, 820478, 820482, 820484, 820485, 820490, 820491, 820494, 820497, 820499, 820500, 820505, 820507, 820511, 820512, 820513, 820515, 820516, 820517, 820530, 820531, 820532, 820533, 820535, 820536, 820538, 820541, 820545, 820546, 820548, 820549, 820551, 820554, 820555, 820556, 820557, 820559, 820560, 820568, 820572, 820573, 820574, 820576, 820577, 820578, 820580, 820581, 820583, 820584, 820586, 3769707, 853358, 820591, 820594, 820595, 820597, 820598, 820599, 820602, 820605, 820606, 820607, 1408, 820608, 820609, 820611, 820613, 820614, 820615, 820616, 820619, 820621, 820624, 820626, 820628, 820629, 820633, 820635, 820636, 820639, 820640, 820643, 3769765, 820649, 820651, 820655, 820656, 1457, 820661, 820662, 820663, 820664, 820665, 820667, 820670, 820688, 820698, 820699, 820702, 820704, 820705, 820706, 820707, 820713, 820714, 820715, 820716, 820718, 820722, 820723, 820727, 820728, 820729, 820730, 820731, 820732, 4326903, 820739, 820740, 820746, 820747, 820748, 820749, 820750, 820752, 820757, 820758, 3769879, 820759, 820761, 820767, 853536, 820768, 820771, 820775, 820776, 820781, 820782, 820783, 820784, 853552, 820789, 820790, 820791, 820793, 853562, 820798, 820803, 820806, 820809, 820810, 820812, 820814, 820816, 820821, 820822, 820823, 820825, 820827, 820831, 3769951, 820839, 820841, 820842, 820850, 820851, 820853, 820854, 820857, 820858, 820859, 820861, 820864, 820866, 820867, 820869, 820870, 820871, 820873, 820874, 820878, 820879, 853647, 820881, 820882, 820883, 820884, 820887, 820888, 820890, 820891, 820892, 820893, 820894, 820895, 820896, 820898, 820899, 820901, 820908, 820909, 820913, 820914, 820915, 820916, 820917, 820919, 820921, 820924, 820926, 820929, 820933, 820936, 820937, 820938, 820940, 820942, 820944, 820951, 820954, 3770075, 820956, 820957, 820958, 820960, 820961, 820974, 820979, 820980, 820981, 820984, 820985, 820986, 820989, 820994, 821003, 821005, 821006, 3770126, 821008, 821014, 821016, 821017, 821018, 821020, 821025, 821026, 821027, 821028, 821029, 821030, 3770145, 821032, 821036, 821037, 821041, 821042, 821049, 821050, 821052, 821053, 821054, 821055, 821056, 821058, 821059, 821060, 821061, 821062, 821071, 821081, 821082, 821083, 821084, 821094, 821096, 821097, 821098, 821099, 821104, 821105, 821106, 821112, 821113, 821114, 821115, 821116, 821120, 821124, 821130, 821132, 821133, 821134, 821138, 821141, 821143, 821145, 821146, 821147, 821148, 821151, 821152, 821153, 821155, 821158, 821159, 821160, 821161, 821162, 821163, 821164, 821169, 821170, 821174, 821176, 821179, 821182, 3770302, 3770303, 3770304, 821185, 821187, 821189, 821191, 821194, 821195, 821198, 821203, 821209, 821210, 821211, 821212, 821213, 821214, 821216, 821217, 821220, 821221, 821222, 821226, 821228, 821230, 821232, 821233, 821236, 821237, 821239, 821240, 821243, 821244, 821248, 854016, 821251, 821256, 821259, 821265, 821268, 821270, 821272, 821274, 821276, 821279, 821281, 3770404, 821288, 821291, 3770411, 821298, 821303, 821306, 821307, 821308, 821309, 3770431, 821313, 821319, 821320, 821323, 821324, 821325, 821327, 821328, 821329, 821331, 821338, 821339, 821343, 3770464, 821346, 821348, 821349, 821353, 821356, 821357, 821361, 821365, 821367, 3770487, 821374, 821377, 821379, 821381, 821382, 821383, 3770503, 821386, 821388, 821395, 821396, 821397, 821399, 821400, 821402, 821403, 821404, 821405, 821411, 821412, 821413, 821416, 821419, 821420, 821422, 821424, 821425, 821426, 821429, 821431, 821432, 3770557, 821439, 821441, 821444, 821445, 821446, 821449, 821451, 821452, 821453, 821455, 821456, 821460, 821462, 821463, 821464, 821469, 821470, 821471, 3770591, 821473, 821479, 821480, 821484, 821485, 821488, 821490, 821491, 821492, 821493, 821494, 821495, 821496, 821501, 821504, 821507, 821508, 821509, 821513, 821514, 821517, 821518, 821519, 821521, 821523, 821524, 821527, 821531, 821533, 821534, 821536, 821538, 821539, 3770659, 821543, 821544, 821545, 821548, 821553, 821554, 821556, 821563, 821569, 821570, 821573, 821575, 821576, 821577, 821582, 821584, 821587, 821597, 821599, 821601, 821604, 821607, 821609, 821610, 821611, 821612, 821614, 821615, 821620, 821622, 821625, 821629, 821630, 821631, 821634, 821635, 821640, 821644, 821647, 821657, 821661, 821665, 821666, 821667, 821668, 821670, 821672, 821673, 821674, 821675, 821676, 821681, 821685, 821687, 821688, 821689, 821691, 821694, 821697, 821703, 821704, 821705, 821706, 821708, 821712, 821717, 821718, 821719, 821723, 821726, 854494, 821735, 854504, 821737, 821738, 821739, 821740, 821741, 821742, 821743, 821744, 821768, 821769, 821774, 821775, 821780, 821781, 821784, 821786, 821787, 821788, 821796, 821800, 821801, 821805, 821806, 821807, 821810, 821812, 821813, 821815, 821817, 821824, 821826, 821828, 821829, 821834, 821835, 821839, 821846, 821850, 821855, 821856, 3770977, 821860, 821861, 821862, 821863, 821865, 821866, 821868, 821870, 821871, 821874, 821877, 821879, 821880, 821881, 854650, 821885, 821888, 821889, 821891, 821899, 821900, 821901, 821902, 821904, 821907, 821908, 821910, 821911, 821913, 821915, 821919, 821920, 821921, 821922, 821924, 821930, 821933, 821935, 821937, 821939, 821941, 821942, 821946, 821947, 821950, 821951, 821952, 821957, 821960, 821962, 821964, 821965, 2770, 821971, 821970, 821974, 821982, 821983, 821986, 821998, 822000, 822001, 822004, 822011, 822012, 822017, 822018, 822019, 822023, 822024, 822033, 822034, 822036, 822039, 822040, 822041, 822042, 822047, 822048, 822051, 822053, 822054, 822058, 822061, 822062, 822066, 822072, 822074, 822078, 822079, 822080, 822081, 822084, 822085, 822086, 822098, 822105, 822106, 822112, 822115, 822117, 822119, 822136, 822137, 822138, 822139, 822141, 822143, 822148, 822149, 822152, 822157, 822159, 2959, 822170, 822171, 822172, 822173, 822178, 822181, 822184, 822185, 822186, 822189, 822193, 822195, 822196, 822197, 822198, 822199, 822200, 822202, 822203, 822206, 822207, 822208, 822209, 822218, 3020, 822221, 822220, 822231, 822235, 822238, 822239, 822241, 822244, 822246, 822250, 822252, 822258, 822259, 822264, 822266, 822267, 822274, 822277, 822282, 822283, 822284, 822285, 822287, 822293, 822296, 822298, 822299, 822306, 822312, 822315, 822316, 822317, 822318, 822323, 822324, 822326, 822327, 822329, 822331, 822335, 822336, 822337, 822338, 822339, 822341, 822348, 822350, 3771470, 822356, 822359, 822363, 822364, 822365, 822375, 822376, 822378, 822380, 822387, 822388, 822389, 822391, 822396, 822398, 822399, 822401, 822403, 822405, 822406, 822415, 822416, 822418, 822420, 822424, 822427, 822428, 822429, 822432, 822434, 822437, 822444, 822446, 822448, 822453, 3771574, 855224, 822457, 822462, 822465, 822467, 822468, 822473, 822474, 822477, 822480, 822497, 822502, 822503, 822505, 3312, 855284, 822519, 822524, 822525, 822527, 822529, 822540, 822542, 822546, 822547, 855319, 822551, 822556, 822557, 822566, 822567, 822572, 822576, 822579, 822580, 855350, 822584, 822589, 822590, 822593, 822594, 822619, 822677, 3480, 822695, 822709, 822714, 822726, 822732, 822735, 822740, 822767, 855535, 822809, 822833, 4329060, 855767, 397039, 3837, 823057, 823067, 855836, 823150, 823170, 855956, 856032, 823280, 823281, 823287, 823305, 823316, 823322, 823332, 823335, 4329527, 823352, 4155, 823369, 823393, 823396, 823398, 823399, 823405, 823423, 823426, 823438, 823456, 823469, 823478, 823492, 823498, 823508, 823515, 823518, 823531, 823534, 823542, 823546, 823547, 823551, 823553, 823555, 823556, 823557, 823559, 823560, 823571, 823578, 823584, 823585, 823588, 823589, 823594, 823595, 823601, 823602, 823605, 823622, 823623, 823624, 823627, 823629, 823634, 823638, 823641, 823646, 823650, 823651, 823652, 823653, 823655, 823657, 856425, 823660, 823664, 823667, 823668, 823681, 823682, 823700, 823703, 823704, 823706, 823712, 823720, 823721, 823727, 823729, 823730, 823731, 823733, 823740, 823741, 823744, 823748, 823749, 823750, 823751, 823752, 823756, 823759, 823766, 823768, 823773, 823777, 823778, 823779, 823781, 823783, 823792, 823794, 823796, 823802, 823804, 823805, 823808, 823811, 823812, 823813, 823817, 823824, 823826, 823827, 823831, 823832, 823834, 823835, 823836, 856607, 823842, 823843, 823847, 823849, 823850, 823851, 823861, 823862, 823864, 823865, 823875, 823882, 823884, 823891, 823897, 823898, 823901, 823904, 823906, 823911, 823912, 823914, 823916, 823918, 823923, 823924, 823925, 823926, 823932, 4734, 823935, 823934, 823937, 823938, 823939, 823943, 823944, 823948, 823950, 823951, 823953, 823955, 823956, 823959, 823963, 823964, 823965, 823970, 823971, 823975, 823978, 823982, 823984, 823992, 823993, 823994, 824001, 824002, 824010, 824011, 824012, 824014, 824015, 824017, 824019, 824020, 824027, 824029, 824030, 824031, 824034, 824035, 824036, 824044, 824048, 824049, 824050, 824054, 824056, 824060, 824062, 856831, 856835, 824071, 824072, 824073, 824077, 824079, 824080, 824085, 824086, 824087, 824090, 856862, 824105, 824109, 824112, 824114, 824115, 824119, 824120, 824121, 856887, 856891, 824128, 824129, 824130, 824131, 824132, 824137, 824138, 824141, 824142, 824143, 824145, 824146, 824147, 824149, 856918, 824153, 824156, 824157, 824161, 824162, 824165, 824168, 824169, 824170, 824173, 824174, 824181, 824184, 824185, 824188, 824193, 824195, 824198, 824205, 824208, 824214, 824215, 824216, 824220, 824223, 824226, 824228, 824230, 824234, 824238, 824240, 824241, 824242, 824244, 824246, 824247, 824250, 824251, 824253, 824255, 824256, 824257, 824258, 824259, 824260, 824261, 824264, 824268, 824269, 824270, 824272, 824280, 824281, 824282, 824287, 824289, 824291, 824293, 824300, 824302, 824305, 824308, 824309, 824310, 824311, 824314, 824318, 824323, 824326, 824329, 824336, 824337, 824340, 824341, 824342, 824343, 824344, 824345, 824346, 824347, 824348, 824349, 824351, 824353, 824354, 824355, 824358, 824359, 824366, 824368, 824370, 824371, 824372, 824376, 824378, 824379, 824380, 824381, 824383, 824384, 824385, 824390, 824395, 824396, 824399, 824403, 824405, 824407, 824408, 824409, 824410, 824418, 824420, 824422, 824423, 824424, 824425, 824429, 824430, 824441, 824443, 824451, 824454, 824455, 824457, 824458, 824459, 824462, 824465, 824468, 824469, 824470, 824472, 824477, 824478, 824479, 824484, 824485, 824487, 824489, 824493, 824497, 824499, 824500, 824502, 824503, 824505, 824506, 824507, 824509, 824510, 824511, 824512, 824514, 824515, 824518, 824519, 824521, 824522, 824524, 824525, 824526, 824527, 824528, 824529, 824530, 824531, 824534, 824535, 824536, 824539, 824540, 824541, 824542, 824543, 824546, 824548, 824554, 824555, 824556, 824557, 824565, 824566, 824568, 824569, 824570, 824572, 824576, 824579, 824580, 824581, 824584, 824585, 824586, 824587, 824588, 824589, 824590, 824593, 824596, 824597, 824599, 824601, 824602, 824603, 824605, 824609, 824610, 824611, 824612, 824613, 824614, 824615, 824619, 824621, 824626, 824627, 824628, 824630, 824631, 824632, 824636, 824637, 824641, 824647, 824648, 824649, 824650, 824651, 824653, 824654, 824655, 824657, 824658, 824661, 824664, 824665, 824666, 824667, 824669, 824671, 824673, 824674, 824675, 824678, 824679, 824681, 824685, 824687, 824690, 824693, 824694, 824695, 824700, 824702, 824703, 824704, 824709, 824710, 824712, 824714, 824717, 5518, 824718, 824725, 824726, 824727, 824728, 824735, 824739, 824740, 824742, 824743, 824746, 824750, 824760, 824761, 824764, 824765, 824767, 824769, 824773, 824775, 824776, 824777, 824779, 5579, 824781, 824785, 824786, 824788, 824789, 824790, 824793, 824796, 824799, 824801, 824802, 824803, 824804, 824805, 824807, 824808, 824813, 824816, 824819, 824824, 824833, 824835, 824836, 824838, 824839, 824844, 824847, 824849, 824850, 824851, 824852, 824853, 824855, 824857, 824858, 824861, 824862, 824863, 824864, 824865, 824871, 824872, 824874, 824875, 824876, 824880, 824882, 824889, 824890, 824893, 824895, 824896, 824897, 824902, 824906, 824907, 824908, 5710, 824915, 824916, 824919, 824920, 824921, 824922, 824923, 824925, 824929, 824934, 824935, 824936, 824940, 824944, 824952, 824955, 824956, 824957, 824958, 824961, 824963, 824969, 824973, 824974, 824976, 824980, 824981, 824983, 824986, 824988, 825004, 825007, 825014, 825015, 825019, 825020, 825025, 825026, 825030, 825032, 825036, 825037, 825039, 825040, 825042, 825043, 825044, 825047, 825050, 825053, 825054, 825062, 825063, 825066, 825069, 825071, 825072, 825074, 825075, 825077, 825078, 5879, 825084, 825085, 5886, 5887, 5888, 825089, 825090, 825091, 825086, 825094, 825099, 5901, 825104, 825107, 825111, 825116, 825119, 825122, 5925, 825129, 825139, 825142, 825143, 825145, 825147, 825148, 825150, 825153, 825155, 825160, 825161, 825162, 825163, 825164, 825171, 825172, 825178, 825179, 825181, 825183, 825185, 825189, 825190, 825191, 825192, 825194, 825195, 825196, 825201, 825204, 825207, 825208, 825210, 825211, 825217, 825221, 825224, 825226, 825230, 825231, 825233, 825234, 825235, 825237, 825238, 825242, 825243, 825246, 825248, 825251, 825253, 825254, 825257, 825259, 825260, 825262, 825278, 825279, 825280, 825283, 825284, 825285, 825286, 825287, 825288, 825290, 825291, 825294, 825295, 825297, 825298, 825302, 825303, 825304, 825306, 825307, 825310, 825316, 825317, 825319, 825320, 825321, 825323, 825326, 825330, 825331, 825332, 825333, 825335, 825336, 825338, 825344, 825347, 825348, 825349, 825352, 825355, 825356, 825358, 825359, 825360, 825361, 825362, 825364, 825365, 825366, 825368, 825369, 825370, 825374, 825376, 825382, 825383, 825385, 825390, 825392, 825396, 825397, 825398, 825399, 825402, 825403, 825404, 825413, 825414, 825415, 825416, 825417, 825420, 825427, 825430, 825433, 825434, 825435, 825437, 825441, 825443, 825444, 825446, 333932, 825454, 825455, 825458, 825462, 825467, 825468, 825470, 825471, 825473, 825475, 825476, 825478, 825481, 825483, 825484, 825487, 825488, 825489, 825490, 825493, 825494, 825495, 825496, 825497, 825501, 825503, 825505, 825506, 825513, 825515, 825516, 825517, 825521, 825524, 825525, 825529, 825530, 825532, 825648, 825649, 825650, 825653, 825654, 825655, 825660, 825687, 825714, 825715, 825752, 825753, 825775, 825778, 825779, 825780, 825781, 825783, 825785, 825789, 825794, 825797, 825805, 825807, 825809, 825811, 825812, 825814, 825815, 825817, 825820, 825823, 825827, 825828, 825830, 825831, 825835, 825842, 825847, 825855, 825856, 825865, 825866, 825880, 825885, 825888, 825890, 825892, 825896, 825897, 825902, 825935, 825947, 826093, 826148, 826171, 7037, 826263, 826298, 826299, 826300, 826304, 826317, 826364, 826367, 826373, 826375, 826384, 826391, 826404, 826405, 826406, 826407, 826409, 826411, 826418, 826420, 826427, 826438, 826447, 826449, 826456, 826458, 826468, 826469, 826470, 826473, 826474, 826476, 826479, 826480, 826482, 826484, 826488, 826492, 826499, 826505, 826515, 7316, 826516, 7321, 826528, 826530, 7334, 826535, 7336, 826539, 826541, 826542, 7341, 826551, 826554, 826569, 826571, 826572, 826583, 826586, 826589, 826593, 826595, 826599, 826601, 826602, 826604, 826605, 826607, 826609, 826615, 826616, 826624, 826625, 826626, 826632, 826635, 826637, 826639, 826640, 826642, 826644, 826645, 826652, 826653, 826665, 826670, 826671, 826674, 826676, 826680, 826682, 826685, 826690, 826691, 826692, 826696, 826698, 826702, 826708, 826709, 826711, 826712, 826714, 826715, 826716, 826719, 826724, 826726, 826727, 826728, 826730, 826733, 826735, 826739, 826741, 826744, 826746, 826750, 826751, 826752, 826753, 826754, 826761, 826764, 826765, 826771, 826773, 826787, 826789, 826790, 826791, 826793, 826795, 826796, 826798, 826799, 826803, 826807, 826810, 826811, 826812, 826813, 826814, 826816, 826829, 826832, 826833, 826844, 826848, 826849, 826853, 826857, 826858, 826859, 826863, 826869, 826872, 826874, 826875, 826878, 826879, 826884, 826885, 826890, 826892, 826897, 826900, 826907, 826910, 826913, 826915, 826916, 826918, 826932, 826934, 826938, 826941, 826942, 826965, 826967, 826978, 826980, 826982, 826983, 826984, 826985, 826986, 826987, 826996, 826998, 827000, 827001, 827005, 827011, 827012, 827015, 827017, 827019, 827021, 827027, 827028, 827033, 827039, 827040, 827042, 827048, 827049, 827051, 827052, 827054, 827055, 827062, 827063, 827064, 827068, 827072, 827075, 827076, 827077, 827081, 827083, 827085, 827086, 827087, 827088, 827089, 827091, 827093, 827095, 827096, 827099, 827101, 827102, 827103, 827109, 827114, 827116, 827117, 827118, 827119, 10723054, 827121, 827122, 827123, 827124, 827125, 827126, 827127, 10723063, 827131, 827132, 827134, 827135, 827138, 827140, 827141, 827145, 10723081, 827147, 827149, 827153, 827154, 827157, 827159, 827164, 827173, 827174, 827177, 827178, 827179, 827182, 827186, 827187, 10723124, 827191, 827193, 827204, 827205, 827210, 827211, 827213, 827218, 302938, 827226, 827228, 827230, 827239, 827240, 827246, 827247, 827251, 827255, 827258, 827261, 827269, 827272, 827273, 827274, 827275, 827277, 827279, 827296, 827297, 827299, 827301, 827302, 827303, 827305, 827306, 827307, 827311, 827318, 827319, 827321, 827323, 827328, 827330, 827331, 827333, 827335, 827336, 827337, 827338, 827341, 827343, 827346, 827348, 827351, 827354, 827362, 827363, 827364, 827368, 827369, 827371, 827375, 827379, 827381, 827384, 827391, 827392, 827393, 827395, 827397, 827405, 827406, 827410, 827411, 827412, 827416, 827424, 827428, 827431, 827434, 827435, 827436, 827439, 827441, 827442, 827445, 827446, 827454, 827457, 827462, 827463, 827464, 827471, 827472, 827474, 827479, 827480, 827481, 827484, 827486, 827488, 827489, 827490, 827492, 827493, 827494, 8294, 827496, 827497, 827498, 827499, 827500, 827502, 827503, 827505, 827510, 827511, 827513, 827514, 827515, 827520, 827523, 827526, 827527, 827528, 827529, 827531, 827535, 827538, 827541, 827542, 827548, 827549, 8350, 827550, 827555, 827561, 827567, 827568, 827574, 827575, 827576, 827577, 827580, 827581, 827583, 827584, 827591, 827594, 827596, 827597, 827598, 827599, 827601, 827604, 827605, 827607, 827608, 827611, 827612, 827614, 827617, 827622, 827623, 827626, 827630, 827631, 827637, 827638, 8439, 827640, 827641, 827643, 827649, 827655, 827659, 827661, 8467, 827677, 827678, 827679, 827690, 827692, 827695, 827699, 827702, 827706, 827707, 827710, 827713, 827714, 827715, 827725, 827728, 827729, 827732, 827737, 827738, 827740, 827743, 827745, 827747, 827759, 827760, 827761, 827763, 827773, 827774, 827775, 827777, 827784, 827785, 827786, 827787, 827788, 827789, 827792, 827793, 827795, 827822, 827826, 827827, 827831, 827833, 827834, 827835, 827837, 827839, 827841, 827842, 827844, 827845, 827849, 827850, 827851, 827852, 827853, 827854, 827855, 827857, 827860, 827863, 827864, 827867, 827876, 827883, 827884, 827890, 827891, 827892, 827893, 827896, 827898, 827903, 827904, 827905, 827908, 827911, 827912, 827914, 827917, 827921, 827923, 827928, 827930, 827931, 827932, 827933, 827934, 827935, 827938, 827940, 827941, 827943, 827947, 827952, 827956, 827960, 827962, 827965, 827969, 827970, 827977, 827979, 827984, 827990, 827991, 827993, 827994, 827995, 827996, 827998, 827999, 828000, 828001, 828006, 828008, 828009, 828013, 828016, 828019, 828020, 828023, 828025, 828026, 828030, 828032, 828034, 828041, 828042, 828043, 828044, 828045, 828046, 828049, 828050, 828051, 828059, 828060, 828066, 828069, 828070, 828071, 828079, 828081, 828084, 828087, 828088, 828089, 828091, 828092, 828096, 828097, 828099, 828103, 828106, 828111, 828114, 828116, 828118, 828120, 828125, 828126, 828131, 828132, 828134, 8936, 828140, 828144, 828147, 828148, 828149, 828151, 828153, 828155, 828163, 828165, 828166, 828167, 828169, 828170, 828175, 828176, 828179, 828181, 828183, 828188, 828193, 828197, 828198, 828199, 828200, 828205, 828206, 828207, 828208, 828213, 828217, 828219, 828221, 828222, 828229, 828230, 828232, 828235, 828236, 828238, 828241, 828242, 828246, 828248, 828249, 828252, 828254, 828255, 828256, 828258, 828259, 828260, 828263, 9063, 828267, 828268, 828271, 828274, 828280, 828283, 828285, 828287, 828288, 828290, 828292, 828296, 828297, 828302, 828311, 828313, 828314, 828316, 828318, 828319, 828320, 828325, 828331, 828349, 828353, 828357, 828362, 828364, 828365, 828366, 828367, 828368, 828369, 828371, 828374, 828377, 828378, 828381, 828382, 828387, 828388, 828390, 828391, 828392, 828394, 828396, 828400, 828402, 828404, 828406, 828408, 828409, 828412, 828413, 828414, 828416, 828417, 828418, 828420, 828421, 828426, 828428, 828439, 828442, 828444, 828445, 828446, 828456, 828457, 828460, 828461, 828463, 828464, 828465, 828467, 828468, 828473, 828474, 828475, 828477, 828481, 828482, 828484, 828485, 828489, 828492, 828493, 828495, 828498, 828502, 828505, 828506, 828509, 828510, 828511, 828515, 828520, 828522, 828523, 828525, 828526, 828531, 828534, 828536, 828537, 828539, 828541, 828542, 828546, 828548, 828549, 828552, 828553, 828554, 828556, 828558, 828559, 828568, 828570, 828571, 828572, 828575, 828576, 828577, 828579, 828580, 828582, 828585, 828586, 828587, 828590, 828592, 828596, 828598, 828602, 828611, 828613, 828617, 828619, 828623, 828624, 828626, 828627, 828635, 828637, 828639, 828640, 828641, 828642, 828643, 828644, 828649, 828651, 828652, 828653, 828654, 828657, 828658, 828659, 828660, 828661, 828662, 828666, 828668, 828671, 828672, 828673, 828676, 828678, 828679, 828681, 828692, 828697, 828698, 828701, 828702, 828706, 828709, 828713, 828714, 828715, 828716, 828717, 828721, 828723, 828726, 828729, 828732, 828733, 828735, 828737, 828740, 828747, 828749, 828750, 828751, 828756, 828759, 828760, 828761, 828763, 828764, 828765, 828768, 828769, 828770, 828771, 828772, 828777, 828779, 828781, 828782, 828783, 828784, 828785, 828788, 828791, 828792, 828794, 828798, 828799, 828800, 828801, 828805, 828807, 828808, 828809, 828812, 828813, 828814, 828815, 828816, 828817, 828821, 828822, 828824, 828825, 828826, 828831, 828832, 828834, 828835, 828836, 828839, 828840, 828841, 828842, 828843, 828849, 828850, 828851, 828852, 828853, 828854, 828855, 828858, 828859, 828862, 828867, 828868, 828869, 828871, 828872, 828874, 828875, 828881, 828882, 828883, 828889, 828891, 828900, 828901, 828903, 828905, 828907, 828908, 828909, 828910, 828911, 828916, 828918, 828919, 828927, 828929, 828930, 828931, 828933, 828934, 828935, 828936, 828938, 828940, 828942, 828945, 828948, 828953, 828955, 828957, 828961, 828962, 828964, 828965, 828967, 828968, 828969, 828970, 828971, 828972, 828974, 828976, 828977, 828979, 828981, 828982, 828983, 828988, 828990, 828993, 828994, 828996, 828997, 828999, 829004, 829007, 829009, 829012, 829019, 829020, 829022, 829023, 829025, 829027, 829029, 829031, 829034, 829035, 829037, 829038, 829039, 829040, 829043, 829045, 829048, 829054, 829056, 9857, 829058, 829059, 829062, 829064, 829066, 829072, 829073, 829075, 829080, 829087, 829089, 829094, 829099, 829100, 829102, 829103, 829104, 829105, 829106, 829112, 829116, 829119, 829123, 829124, 829125, 829131, 829133, 829134, 829135, 829138, 829139, 829141, 829142, 829143, 829145, 829147, 829149, 829150, 829156, 829157, 829159, 829160, 829163, 829164, 829168, 829172, 829173, 829175, 829179, 829181, 829184, 829185, 829189, 829200, 829201, 829202, 829205, 829207, 829208, 829209, 829210, 829211, 829213, 829217, 829218, 829219, 829220, 829221, 829223, 829233, 829237, 829238, 829240, 829241, 829244, 829245, 829246, 829248, 829252, 829254, 829257, 10059, 829260, 829261, 829262, 829264, 829269, 829270, 829275, 829276, 829277, 829278, 829279, 829282, 829284, 829285, 829286, 829287, 829289, 829290, 829294, 829295, 829296, 829297, 829298, 829299, 829300, 829301, 829308, 829312, 829313, 829315, 829317, 829322, 829325, 829329, 829330, 829331, 829332, 829333, 829334, 829335, 829338, 829344, 829346, 829347, 829350, 829351, 829352, 829358, 829359, 829361, 829362, 829364, 829365, 829366, 829370, 829376, 829377, 829379, 829380, 829382, 829385, 829387, 829388, 829390, 829392, 829394, 829395, 829397, 829399, 829400, 829401, 829404, 829408, 829409, 10210, 829411, 829412, 829414, 829416, 829419, 829420, 829421, 10221, 829424, 829425, 829426, 829427, 829431, 829433, 829435, 829437, 829438, 829440, 829441, 829443, 829444, 829446, 829449, 829456, 829457, 829461, 829462, 829463, 829471, 829473, 829475, 829477, 829480, 829482, 829483, 829484, 829489, 829490, 829493, 829504, 829506, 829508, 829510, 829511, 829518, 829519, 829526, 829531, 829534, 829535, 829536, 829539, 829540, 829541, 829547, 829549, 829550, 829551, 829555, 829556, 829557, 829558, 829562, 829563, 829564, 10367, 829567, 829569, 829568, 829571, 829572, 829574, 829584, 829587, 829588, 829589, 829590, 829591, 829594, 829595, 829596, 829597, 829598, 829604, 829608, 829611, 829613, 829614, 829616, 829618, 829619, 829620, 829622, 829623, 829624, 829626, 829631, 4335808, 829636, 829638, 829639, 829641, 829644, 829645, 829651, 829652, 829654, 829655, 829656, 829657, 829660, 829661, 829662, 829663, 829668, 829676, 829678, 829679, 829681, 829682, 829684, 829685, 829686, 829692, 829695, 829697, 829699, 829702, 829705, 829706, 829707, 829709, 829710, 829712, 829713, 829714, 829715, 829716, 829717, 829720, 829722, 829726, 829727, 829728, 829729, 829730, 829731, 829732, 829733, 829734, 829737, 829739, 829740, 829744, 829745, 829746, 829750, 829751, 829758, 829762, 829764, 829768, 829770, 829773, 829775, 829779, 829781, 829782, 829783, 829785, 829786, 829788, 829789, 829791, 829792, 829793, 829800, 829801, 829805, 829806, 829809, 829811, 829812, 829814, 829821, 829822, 829824, 829825, 829826, 829827, 829828, 829829, 829831, 829833, 829834, 829835, 829836, 829838, 829839, 829840, 829843, 829844, 829845, 829847, 829850, 829851, 829852, 829853, 829854, 829855, 829865, 829867, 829869, 829872, 829874, 829876, 829877, 829878, 829879, 829880, 829882, 829891, 829895, 829899, 829900, 829901, 829902, 829904, 829907, 829908, 829909, 829910, 829913, 829915, 829917, 829918, 829919, 829921, 829922, 829924, 829927, 829929, 829930, 829933, 829934, 829935, 829936, 829941, 829943, 829944, 829945, 829947, 829949, 829950, 829954, 829962, 829969, 829970, 829971, 829972, 829973, 829974, 829978, 829980, 829981, 829982, 829984, 830000, 830001, 830002, 830005, 830008, 830009, 830012, 830015, 830017, 830018, 830019, 830024, 830025, 830027, 830029, 830032, 830033, 830034, 830035, 830036, 404053, 830038, 830045, 830046, 830047, 830048, 830049, 830051, 830052, 830058, 830060, 830062, 830063, 830065, 830071, 830075, 830080, 830081, 830082, 830083, 830084, 830085, 830088, 830090, 830092, 830095, 830108, 830109, 830120, 830124, 830125, 830126, 830127, 830132, 830134, 830136, 830139, 830141, 830144, 830148, 830149, 830153, 830154, 830157, 830159, 830160, 830162, 830164, 830165, 830166, 830167, 830169, 830170, 830173, 11047, 830269, 830273, 830275, 830276, 830278, 830290, 830292, 830293, 830294, 830295, 830297, 830299, 830302, 830303, 830307, 830308, 830311, 830313, 830318, 830320, 830322, 830324, 830325, 830326, 830330, 830334, 830335, 830336, 830337, 830341, 11144, 830349, 830352, 830353, 830354, 830355, 830357, 830361, 830362, 830363, 830364, 830366, 830372, 830374, 830375, 830381, 830382, 830383, 830391, 830392, 830394, 830395, 830398, 830399, 830401, 830402, 830403, 830409, 830415, 830416, 830417, 830424, 830427, 830434, 830438, 830439, 830441, 830444, 830445, 830450, 830451, 830452, 830453, 830454, 830457, 830459, 830460, 830461, 830462, 830463, 830464, 830465, 830467, 830480, 830493, 830494, 830497, 830498, 830499, 830500, 830501, 830502, 830503, 830504, 830511, 830512, 830515, 830517, 830518, 830520, 830522, 830524, 830525, 830527, 830529, 830533, 830538, 830539, 830540, 830541, 830543, 830544, 830545, 830548, 830550, 830553, 830556, 830557, 830558, 830560, 830564, 830566, 830567, 830570, 830573, 830575, 830576, 830577, 830582, 830586, 830587, 830588, 830592, 830594, 830598, 830600, 830601, 830602, 830607, 830609, 830612, 830615, 830616, 830619, 830621, 830622, 830623, 830625, 830631, 830636, 830639, 830641, 830642, 830644, 830645, 830646, 830651, 830661, 830662, 830663, 830666, 830677, 830681, 830683, 830684, 830690, 830693, 830696, 830699, 830701, 830702, 830706, 830707, 830708, 830709, 830710, 830712, 830715, 830724, 830726, 830729, 830730, 830731, 830739, 830742, 830744, 830747, 830750, 830751, 830754, 830756, 830763, 830764, 830765, 830766, 830768, 830770, 830772, 830779, 830782, 830783, 830784, 830785, 830790, 830791, 830792, 830797, 830799, 830800, 830801, 830804, 830805, 830806, 830807, 830809, 830810, 830813, 830818, 830821, 830824, 830825, 830827, 830828, 830832, 830834, 830835, 830837, 830838, 830839, 830840, 830841, 830842, 830843, 830846, 830847, 830850, 830853, 830861, 830865, 830866, 830870, 830875, 830878, 830880, 830881, 830882, 830883, 830884, 830885, 830886, 830888, 830891, 830892, 830893, 830894, 830899, 830900, 830902, 830906, 830908, 830909, 830911, 830912, 830914, 830915, 830917, 830918, 830919, 830920, 830922, 830923, 830926, 830936, 830938, 830939, 830941, 830947, 830948, 830949, 830950, 830951, 830952, 830953, 830959, 830960, 830961, 830965, 830970, 830971, 830972, 830973, 830974, 830977, 830984, 830985, 830986, 830987, 830989, 830990, 830996, 830997, 830999, 831001, 831005, 831010, 831015, 831016, 831020, 831021, 831022, 831023, 831024, 831025, 831027, 831031, 831034, 831037, 831039, 831040, 831042, 831043, 831044, 831046, 831049, 831051, 831053, 831060, 831061, 831062, 831066, 831071, 831074, 831077, 831081, 831087, 831092, 831093, 831097, 831100, 831107, 831108, 831112, 831113, 831114, 831117, 831122, 831123, 831124, 831126, 831127, 831128, 831130, 831132, 831136, 831138, 831143, 831145, 831147, 831150, 831151, 831152, 831155, 831156, 831157, 831158, 831162, 831167, 831168, 831169, 831170, 831171, 831172, 831174, 831181, 831183, 831184, 831185, 831186, 831191, 831193, 831195, 831196, 831197, 831199, 831201, 831202, 831203, 831207, 831209, 831215, 831217, 831218, 831222, 831223, 831224, 831225, 831226, 831227, 831230, 831231, 831232, 831234, 831238, 831241, 831243, 831244, 831248, 831250, 831251, 831252, 831253, 831254, 831256, 831257, 831261, 831264, 831267, 831268, 831270, 831271, 831274, 831275, 831276, 831278, 831282, 831284, 831285, 831288, 831289, 831290, 831293, 831294, 831295, 831297, 831303, 831308, 831311, 831312, 831314, 831315, 831316, 831318, 831319, 831321, 831322, 831324, 831326, 831327, 831328, 831330, 831332, 831339, 831343, 831344, 831345, 831347, 831348, 831349, 831354, 831356, 831358, 831360, 831361, 831365, 831366, 831368, 831369, 831372, 831373, 831375, 831376, 831378, 831381, 831385, 831387, 831392, 831396, 831398, 831399, 831401, 831402, 831403, 831408, 831412, 831416, 831419, 831422, 831424, 831425, 831433, 831435, 831436, 831437, 831440, 831441, 831442, 831443, 831445, 831449, 831453, 831454, 831455, 831457, 831459, 831462, 831463, 831464, 831465, 831470, 831472, 831479, 831481, 831485, 831492, 831493, 831500, 831501, 831508, 831509, 831510, 831513, 831515, 831516, 831518, 831519, 831521, 831522, 831524, 831525, 831530, 831532, 831534, 831541, 831542, 831545, 831546, 831547, 831548, 831551, 831553, 831555, 831558, 831560, 831561, 831562, 831564, 831565, 831569, 831581, 831582, 831583, 831585, 831587, 831588, 831592, 831594, 831595, 831597, 831599, 831604, 831607, 831608, 831609, 831610, 831611, 831615, 831621, 831622, 831626, 831629, 831634, 831635, 831636, 831637, 831645, 831647, 831648, 831649, 831652, 831653, 831654, 831657, 831660, 831666, 831667, 831668, 831670, 831675, 831676, 831677, 831679, 831683, 831684, 831687, 831689, 831690, 831692, 831696, 831700, 831701, 831705, 831708, 831709, 831710, 831718, 831720, 831722, 831723, 831724, 831725, 831726, 831728, 831729, 831733, 831734, 831737, 831738, 831741, 831742, 831745, 831748, 831749, 831756, 831757, 831759, 831765, 831766, 831769, 831774, 831792, 831793, 831794, 831795, 831800, 831802, 831805, 831809, 831810, 831813, 831817, 831818, 831822, 831826, 831828, 831830, 831832, 831836, 831841, 831843, 831847, 831853, 831855, 831856, 831864, 831866, 831867, 831870, 831882, 831884, 831885, 831887, 831889, 831893, 831895, 831896, 831897, 831899, 831900, 831901, 831903, 831904, 831905, 831906, 831907, 831908, 831915, 831919, 831923, 831924, 831928, 831929, 831933, 831935, 831937, 831942, 831944, 831947, 831948, 831956, 831958, 831959, 831960, 831963, 831973, 831974, 831975, 831976, 831978, 831980, 831984, 831986, 831988, 831993, 831998, 831999, 832000, 832001, 832003, 832009, 832014, 832018, 832019, 832024, 832025, 832027, 832032, 832033, 832034, 832035, 832042, 832044, 832048, 832049, 832051, 832052, 832053, 832060, 832061, 832063, 832064, 832065, 832068, 832069, 832071, 832072, 832075, 832076, 832077, 832079, 832082, 832085, 832086, 832088, 832090, 832095, 832096, 832097, 832098, 832099, 832102, 832106, 832109, 832111, 832113, 832114, 832115, 832117, 832118, 832121, 832122, 832123, 832124, 832125, 832127, 832128, 832130, 832135, 832136, 832137, 832138, 832145, 832146, 832147, 832149, 832150, 832151, 832154, 832164, 832170, 832171, 832172, 832173, 832174, 832179, 832185, 832186, 832188, 832192, 832195, 832196, 832204, 832205, 832206, 832208, 832212, 832213, 832214, 832215, 832216, 832217, 832218, 832221, 832224, 832225, 832228, 832237, 832242, 832243, 832245, 832246, 832252, 832254, 832256, 832259, 832260, 832267, 832273, 832274, 832283, 832284, 832288, 832289, 832291, 832293, 832294, 832296, 832297, 832298, 832299, 832301, 832302, 832306, 832315, 832320, 832324, 832325, 832326, 832327, 832328, 832338, 832340, 832341, 832342, 832352, 832353, 832355, 832359, 832363, 832364, 832367, 832370, 832373, 832376, 832377, 832379, 832381, 832386, 832387, 832389, 832390, 832392, 832393, 832395, 832396, 832398, 832405, 832406, 832409, 832411, 832415, 832420, 832421, 832422, 832423, 832424, 832428, 832431, 832432, 832436, 832437, 832438, 832439, 832440, 832446, 832447, 832451, 832453, 832455, 832458, 832459, 832465, 832466, 832467, 832468, 832470, 832473, 832475, 832476, 832477, 832478, 832484, 832486, 832490, 832494, 832496, 832497, 832500, 832503, 832505, 832507, 832511, 832518, 832520, 832523, 832524, 832530, 832533, 832534, 832538, 832539, 832540, 832541, 832542, 832543, 832546, 832547, 832549, 832554, 832555, 832557, 832562, 832563, 832564, 832569, 832577, 832578, 832579, 832581, 832582, 832586, 832587, 4338764, 832588, 832590, 832592, 832593, 832594, 832596, 832597, 832599, 832607, 832610, 832611, 832613, 832618, 832619, 832620, 832621, 832622, 832623, 832624, 832626, 832632, 832634, 832636, 832642, 832643, 832644, 832645, 832648, 832650, 832657, 832658, 832659, 832662, 832663, 832667, 832669, 832686, 832688, 832690, 832693, 832694, 832695, 832697, 832701, 832703, 832705, 832706, 832710, 832713, 832714, 832717, 832718, 832722, 832723, 832724, 832726, 832732, 832733, 832734, 832737, 832741, 832744, 832746, 832751, 832753, 832754, 832756, 832758, 832761, 832763, 832764, 832765, 832766, 832767, 832768, 832770, 832771, 832772, 832773, 832779, 832790, 832791, 832794, 832796, 832797, 832801, 832808, 832814, 832818, 832820, 832824, 832825, 832826, 832827, 832830, 832831, 832832, 832838, 832839, 832843, 832846, 832848, 832849, 832851, 832853, 832857, 832865, 832867, 832872, 832874, 832875, 832878, 832890, 832912, 832914, 832941, 832943, 832950, 832968, 832971, 832975, 832976, 832986, 832990, 832999, 833013, 833026, 833136, 833138, 833203, 4339432, 833300, 833302, 833308, 104118074, 833383, 833436, 833437, 833459, 100775870, 833471, 833475, 833487, 833497, 833500, 833502, 833509, 833518, 833520, 833523, 833524, 833534, 833535, 833541, 833546, 833552, 833556, 833559, 833570, 833573, 833576, 833577, 833584, 6240316, 833607, 833622, 833646, 833655, 833656, 833672, 833676, 833677, 833693, 833700, 833710, 833722, 833728, 833729, 833733, 833738, 833739, 833743, 833744, 833746, 833747, 833750, 833752, 833754, 833755, 833756, 833757, 833758, 833759, 833761, 833763, 833768, 6240488, 6240499, 833782, 833790, 833791, 833794, 833797, 833803, 833804, 833810, 833821, 833828, 833829, 833830, 833835, 833836, 833837, 833840, 833841, 833843, 833844, 833850, 833852, 833854, 833855, 833856, 833863, 833865, 833868, 833871, 833874, 833877, 833880, 833881, 833889, 833891, 833896, 833914, 833921, 833928, 833930, 833936, 833937, 833938, 833945, 833947, 833953, 833954, 833957, 833961, 833962, 833963, 833966, 833969, 833970, 833971, 833972, 833975, 833977, 833981, 833982, 833990, 833996, 833999, 834009, 834014, 834017, 834019, 834020, 834024, 834026, 834028, 834031, 834032, 834033, 834034, 834036, 834037, 6240759, 834040, 834042, 834043, 834044, 834046, 834052, 834056, 834057, 834061, 834063, 834065, 834066, 834067, 834069, 834071, 834073, 834077, 834078, 834081, 834088, 834089, 834090, 834094, 834097, 834103, 834105, 834109, 834111, 834120, 834121, 834122, 834123, 834127, 834133, 834136, 834137, 6240858, 834138, 834139, 834140, 834143, 834150, 834151, 834154, 834158, 834159, 834160, 834162, 834163, 834169, 834173, 834182, 834184, 834185, 834196, 834197, 834199, 834204, 834205, 6240924, 834207, 834208, 834210, 834211, 834212, 834213, 834216, 834224, 834225, 834227, 834229, 834232, 834235, 834241, 834243, 834244, 834246, 834248, 834249, 834250, 834254, 834255, 834259, 834260, 834266, 6240987, 834270, 834272, 834273, 834279, 834283, 834284, 834288, 834290, 834291, 834292, 834293, 834296, 6241019, 834301, 834303, 834304, 834306, 834307, 834312, 834313, 834314, 834316, 834317, 834321, 834323, 834324, 834330, 834334, 834335, 834337, 834339, 834343, 834346, 834347, 834350, 834351, 834352, 834353, 834356, 834358, 834362, 834366, 834367, 834370, 834372, 834374, 834376, 834380, 834381, 834382, 834383, 834384, 834385, 834387, 834389, 834390, 834396, 834398, 834400, 834403, 834405, 834406, 834407, 834411, 834412, 834414, 834417, 834419, 834420, 834421, 834422, 834425, 834426, 834427, 834428, 834430, 834431, 834432, 834434, 834435, 834437, 834439, 834441, 834442, 834443, 834444, 834445, 834447, 834449, 834451, 834452, 6241172, 834454, 834459, 834477, 834479, 834482, 834483, 834486, 6241209, 834492, 834494, 6241216, 834499, 834503, 834507, 834509, 834510, 834517, 834522, 834523, 834527, 834529, 834532, 834534, 834535, 834536, 834537, 834542, 834543, 834545, 834546, 834549, 834555, 834561, 834562, 834564, 834566, 834572, 834575, 834578, 834580, 834585, 834587, 834596, 834599, 834602, 6241326, 834607, 834610, 834614, 834616, 834617, 834618, 834620, 834621, 834622, 834624, 834626, 834627, 834629, 834630, 834637, 834644, 834652, 834659, 834661, 834663, 834666, 834667, 834670, 834672, 834674, 834676, 834678, 834680, 834684, 834686, 834692, 834693, 834700, 834702, 834706, 834707, 834712, 834714, 834718, 834719, 834721, 834722, 834724, 834727, 834728, 834730, 834737, 834738, 834746, 834747, 834750, 834752, 834753, 834754, 834756, 834757, 834758, 834760, 834764, 834765, 834766, 834767, 834768, 834770, 834778, 834784, 834786, 834789, 834791, 834794, 834800, 834802, 834803, 834806, 834807, 834809, 834811, 834815, 834816, 834817, 834818, 834820, 834821, 834823, 834827, 834829, 834831, 834832, 834837, 834838, 834840, 834842, 834843, 834847, 834850, 834864, 834867, 834868, 834869, 834871, 834876, 834877, 834878, 834883, 834886, 834889, 834891, 834892, 834893, 834895, 834896, 834898, 834902, 834904, 834906, 834907, 834912, 834913, 834918, 834920, 834921, 834922, 834923, 834925, 834930, 834932, 834939, 834940, 834947, 834948, 834951, 834952, 834958, 834959, 834960, 834961, 834962, 834965, 834972, 834975, 834978, 834980, 834983, 834990, 834991, 834993, 834996, 835000, 835002, 835005, 835006, 835009, 835010, 835011, 835015, 835016, 835019, 835023, 835025, 835027, 835028, 835032, 835034, 835035, 835039, 835040, 835041, 835045, 835046, 835051, 835052, 835053, 835054, 835056, 835057, 835059, 835062, 835063, 835065, 835066, 835067, 835073, 835074, 835078, 835080, 835083, 835085, 835098, 835100, 835102, 835104, 835105, 835112, 835113, 835115, 835116, 835117, 835120, 835127, 835128, 835129, 835132, 835138, 835139, 835140, 835141, 835151, 835152, 835153, 835154, 835156, 835157, 835159, 835164, 835165, 835166, 835168, 835169, 835174, 835175, 835177, 835178, 835179, 835180, 835183, 835185, 835186, 835189, 835190, 835191, 835192, 835193, 835195, 835196, 835198, 835199, 835202, 835217, 835218, 835219, 835222, 835230, 835231, 835233, 835234, 835240, 835244, 835250, 835251, 835252, 835253, 835260, 835261, 835262, 835264, 835266, 835269, 835272, 835273, 835274, 835276, 835277, 835279, 835280, 835281, 835286, 835288, 835296, 835297, 835298, 835299, 835300, 835301, 835302, 835305, 835306, 835308, 835314, 835317, 835318, 835319, 835320, 835323, 835328, 835329, 835332, 835334, 835337, 835340, 835341, 835342, 835343, 835352, 835360, 835363, 835365, 835373, 835375, 835379, 835382, 835386, 835390, 835392, 835393, 835395, 835396, 835397, 835399, 835400, 835401, 835402, 835409, 835410, 835411, 835413, 835414, 835417, 835420, 835421, 835426, 835427, 835428, 835429, 835431, 835435, 835437, 835438, 835444, 835447, 835457, 835461, 835463, 835464, 835465, 835466, 835469, 835470, 835475, 835478, 835488, 835492, 835493, 835498, 835501, 835504, 835507, 835511, 835514, 835515, 835518, 835519, 81857, 835524, 835526, 835527, 835531, 835532, 835535, 835537, 835539, 835546, 835548, 835549, 835552, 835553, 835554, 835556, 835557, 835565, 835567, 835570, 835571, 835581, 835583, 835585, 835587, 835588, 835589, 835591, 835595, 835598, 835600, 835601, 835603, 835609, 835610, 835611, 835612, 835613, 835615, 835618, 835621, 835622, 835623, 835626, 835631, 835632, 835640, 835641, 2703416, 835643, 835650, 835652, 835657, 835658, 835659, 835660, 835663, 835664, 835670, 835675, 835681, 835689, 835690, 835691, 835693, 835697, 835698, 835699, 835700, 835701, 835702, 835709, 835710, 835711, 835712, 835714, 835715, 835719, 835720, 835721, 835724, 835725, 835726, 835727, 835728, 835730, 835734, 835735, 835736, 835743, 835751, 835752, 835755, 835759, 835761, 835764, 835766, 835769, 835775, 835777, 835778, 835780, 835781, 835786, 835788, 835789, 835791, 835792, 835797, 835799, 835800, 835803, 835807, 835809, 835813, 835814, 835815, 835816, 835821, 835822, 835823, 835824, 835827, 835835, 835839, 835840, 835841, 835842, 835844, 835845, 835848, 835849, 835850, 835856, 835860, 835866, 835868, 835871, 835872, 835875, 835882, 835889, 835890, 835894, 835896, 835897, 835900, 835901, 835902, 835905, 835913, 835915, 835916, 835917, 835918, 835920, 835921, 835926, 835927, 835929, 835930, 835934, 835935, 835936, 835938, 835939, 835941, 835942, 835943, 835946, 835947, 835948, 835951, 835952, 835956, 835960, 835962, 835964, 835966, 835968, 835969, 835971, 835972, 835976, 835979, 835981, 835984, 835986, 835987, 835989, 835990, 835991, 835993, 835997, 836006, 836007, 836011, 836012, 836016, 836018, 836020, 836028, 836032, 836034, 836039, 836040, 836043, 836044, 836047, 836048, 836050, 836051, 836053, 836057, 836062, 836068, 836069, 836074, 836075, 836076, 836081, 836086, 836088, 836089, 836091, 836092, 836093, 836094, 836095, 836100, 836101, 836103, 836107, 836109, 836110, 836111, 836114, 836116, 836117, 836119, 836120, 836121, 836127, 836132, 836134, 836135, 836136, 836138, 836142, 836143, 836154, 836156, 836158, 836161, 836163, 836165, 836166, 836167, 836169, 836174, 836175, 836176, 836178, 836179, 836180, 836181, 836185, 836187, 836188, 836190, 836195, 836196, 836198, 836199, 836200, 836204, 836207, 836209, 836210, 836212, 836213, 836214, 836215, 836217, 836218, 836219, 836222, 836227, 836228, 836235, 836236, 836238, 836241, 836242, 836243, 836244, 836245, 836248, 836250, 836254, 836255, 836259, 836262, 836263, 836268, 836269, 836271, 836273, 836274, 836278, 836279, 836280, 836281, 836284, 836285, 836286, 836287, 836289, 836292, 836296, 836299, 836301, 836304, 836307, 836308, 836310, 836311, 836313, 836317, 836318, 836321, 836323, 836324, 836327, 836329, 836333, 836337, 836340, 836341, 836343, 836344, 836347, 836348, 836350, 836351, 836353, 836356, 836357, 836359, 836360, 836364, 836365, 836367, 836370, 836376, 836377, 836378, 836381, 836382, 836384, 836388, 836390, 836391, 836392, 836395, 836398, 836402, 836406, 836408, 836409, 836410, 836412, 836413, 836415, 836420, 836423, 836425, 836428, 836429, 836431, 836433, 836437, 836440, 836441, 836451, 836452, 100778851, 836455, 836456, 836459, 836463, 836464, 836465, 836466, 836470, 836471, 836472, 836476, 836478, 836480, 836481, 836482, 836484, 836485, 836488, 836491, 836497, 836498, 836499, 836504, 836505, 836506, 836507, 836508, 836509, 836514, 836517, 836518, 836519, 836525, 836526, 836527, 836528, 836533, 836535, 836537, 836538, 836541, 836542, 836547, 836549, 836550, 836551, 836554, 836555, 836556, 836557, 836560, 836561, 836562, 836564, 836573, 836576, 836577, 836582, 836583, 836592, 836595, 836596, 836597, 836599, 836602, 836603, 836607, 836608, 836610, 836613, 836616, 836617, 836620, 836626, 836628, 836629, 836632, 836633, 836634, 836637, 836640, 836643, 836646, 836647, 836648, 836649, 836651, 836652, 836653, 836656, 836657, 836658, 836661, 836665, 836666, 836667, 836668, 836669, 836671, 836673, 836675, 836680, 836685, 836688, 836689, 836690, 836691, 836692, 836693, 836695, 836697, 836699, 836700, 836701, 836706, 836707, 836708, 836709, 836720, 836722, 836723, 836724, 836725, 836726, 836727, 836729, 836730, 836733, 836734, 836737, 836740, 836743, 836745, 836746, 836748, 836750, 836751, 836756, 836757, 836759, 836760, 836762, 836764, 836765, 836767, 836770, 836773, 836776, 836777, 836778, 836779, 836780, 836783, 836788, 836789, 836797, 836798, 836801, 836803, 836805, 836806, 836808, 836809, 836810, 836812, 836817, 836819, 836822, 836827, 836828, 836832, 836840, 836841, 836843, 836845, 836846, 836848, 836849, 836853, 836856, 836860, 836861, 836862, 836863, 836865, 836868, 836871, 836873, 836874, 836878, 836881, 836884, 836886, 836887, 836889, 836893, 836894, 836895, 836897, 836898, 836899, 837023, 837028, 837036, 837040, 837042, 837043, 837046, 837047, 837048, 837051, 837052, 837053, 837054, 837058, 837059, 837061, 837063, 837065, 837068, 837069, 837070, 837071, 837074, 837075, 837076, 837077, 837078, 837082, 837083, 837084, 837087, 837090, 837096, 837098, 837104, 837109, 837111, 837112, 837113, 837116, 17918, 837120, 837122, 837125, 837126, 837128, 837131, 837132, 103630348, 837138, 837140, 837142, 837150, 837151, 837152, 837155, 837157, 837158, 837162, 837164, 837170, 837171, 837178, 837180, 837187, 837188, 837190, 837193, 837195, 837196, 837197, 837199, 837201, 837202, 837205, 837210, 837211, 837216, 837218, 837223, 837225, 837227, 837232, 837233, 837238, 837242, 837243, 837246, 837248, 837249, 837252, 837255, 837256, 837257, 837262, 837264, 837265, 837267, 837268, 837269, 837270, 837271, 837277, 837278, 837279, 837284, 542373, 837288, 837290, 837291, 837292, 837293, 837294, 837296, 837299, 837301, 542391, 837303, 837304, 837305, 837307, 837308, 837306, 837309, 837311, 837313, 837315, 837316, 837318, 837321, 837322, 837325, 837327, 837328, 837332, 837335, 837339, 837341, 837344, 837348, 837349, 837353, 837356, 837357, 837358, 837360, 837362, 837363, 837365, 837366, 837369, 837370, 837371, 837373, 837374, 837375, 837376, 837377, 837378, 837380, 837381, 837384, 837386, 837387, 837391, 837392, 837393, 837399, 837400, 837402, 837403, 837404, 837405, 837408, 837409, 837410, 837413, 837414, 837416, 837417, 837421, 837422, 837423, 837424, 837427, 837428, 837429, 837431, 837432, 837433, 837436, 837438, 837440, 837441, 837443, 837446, 837448, 837452, 837454, 837455, 51024, 837456, 837460, 837462, 837464, 837465, 837466, 837475, 837479, 837480, 837483, 837485, 837486, 837489, 837490, 837491, 837493, 837494, 837497, 837498, 837499, 837505, 837506, 837515, 837516, 837517, 837518, 837519, 837530, 837531, 837532, 837534, 837536, 837538, 837539, 837542, 837543, 837544, 837553, 837555, 837558, 837559, 837560, 837562, 837563, 837566, 837568, 837571, 837574, 837575, 4343753, 837579, 837583, 837587, 837588, 837589, 837591, 837592, 837593, 837594, 837599, 837600, 837601, 837602, 837604, 837606, 837608, 837609, 837610, 837612, 837613, 837616, 837617, 837619, 837621, 837622, 837625, 837627, 837630, 837637, 837638, 837639, 837642, 837643, 837646, 837654, 837659, 837662, 837664, 837665, 837667, 837669, 837673, 837675, 837677, 837680, 837683, 837685, 837686, 837687, 837690, 837691, 837692, 837694, 837697, 837701, 837708, 837712, 837716, 837717, 837719, 837720, 837725, 837726, 837729, 837732, 837733, 837737, 837740, 837741, 837745, 837746, 280691, 837747, 837752, 837755, 837757, 837758, 837763, 837764, 837768, 280717, 837773, 837775, 837776, 837777, 837778, 837780, 837781, 837782, 837785, 837791, 837794, 837797, 837800, 837801, 837803, 837804, 837805, 837807, 837808, 837809, 837818, 837819, 837821, 837823, 837824, 837830, 837831, 837834, 837835, 837837, 837838, 837840, 837843, 837846, 837847, 837848, 837849, 837850, 837852, 837853, 837856, 837859, 837860, 837863, 837867, 837868, 837869, 837871, 837876, 837878, 837886, 837887, 837888, 837890, 837892, 837895, 837898, 837900, 837903, 837904, 837905, 837906, 837912, 837915, 837917, 837918, 837919, 837921, 837924, 837929, 837930, 837933, 837934, 837935, 837937, 18747, 837948, 837949, 837953, 837955, 837956, 837958, 837959, 837960, 837962, 837963, 837964, 837967, 837986, 837987, 837989, 837990, 837991, 837993, 837994, 837995, 837996, 837998, 837999, 838001, 838002, 838006, 838007, 838012, 838013, 838019, 838021, 838023, 838024, 838026, 838028, 838029, 838031, 838033, 838035, 838037, 838038, 838039, 838046, 838048, 280993, 838050, 838052, 838055, 838057, 838058, 838060, 838061, 838063, 838064, 838070, 838072, 838073, 838074, 838077, 838078, 838080, 838083, 838086, 838087, 838088, 838093, 838095, 838096, 838097, 838100, 838103, 838104, 838105, 838106, 838108, 838109, 838114, 838120, 838125, 838127, 838128, 838131, 838136, 838138, 838139, 838140, 838141, 838142, 838143, 838144, 838145, 838150, 838151, 838157, 838158, 838159, 838160, 838161, 838162, 838163, 838168, 838170, 838171, 838174, 838176, 838182, 838184, 838186, 838187, 838193, 838194, 838195, 838198, 838202, 838203, 838204, 838208, 838211, 838212, 838213, 838217, 838219, 838220, 838222, 838223, 838226, 838230, 838233, 838237, 838238, 838243, 838247, 838249, 838250, 838257, 838260, 838261, 838263, 838266, 838267, 838268, 838275, 838278, 838279, 838280, 838281, 838284, 838285, 838289, 838290, 838291, 838294, 838295, 838297, 838300, 838303, 838305, 838306, 838310, 838314, 838316, 838318, 838319, 838324, 838326, 838330, 838331, 838333, 838335, 838338, 838342, 838343, 838345, 838348, 838349, 838352, 838353, 838354, 838355, 838357, 838359, 838362, 838363, 838365, 838367, 838368, 838374, 838377, 838378, 838383, 838384, 838388, 838394, 838395, 838399, 838400, 838401, 838406, 838407, 838413, 838414, 838415, 838418, 838421, 838424, 838425, 838427, 838431, 838433, 838435, 838436, 838438, 838442, 838444, 838445, 838447, 838450, 838452, 838453, 838454, 838455, 838457, 838458, 838460, 838462, 838467, 838469, 838470, 838476, 838481, 838482, 838486, 838487, 838491, 838492, 838501, 838503, 838504, 838505, 838507, 838510, 838512, 838513, 838514, 838515, 838518, 838529, 838535, 838537, 838538, 838540, 838542, 838544, 838552, 838554, 838555, 838557, 838558, 838562, 838563, 838564, 838565, 838567, 838568, 838570, 838571, 838573, 838574, 838580, 19384, 838587, 838590, 838591, 838598, 838599, 838600, 838603, 838604, 838609, 838610, 281555, 838611, 838614, 838621, 838622, 838624, 838630, 838632, 838633, 838636, 838637, 838642, 838643, 543735, 838648, 838647, 838650, 838651, 838652, 838653, 838658, 838659, 838660, 838667, 838668, 838672, 838676, 838677, 838679, 838680, 838681, 2542615, 838683, 838684, 838685, 838687, 838688, 838689, 838690, 838691, 838692, 838694, 838695, 838709, 838710, 838713, 838715, 838716, 838718, 838719, 838721, 1494081, 838723, 838724, 1494082, 838729, 838731, 838733, 838734, 838740, 838742, 838743, 838744, 838757, 838760, 838771, 838774, 838776, 838779, 838780, 838782, 838783, 838784, 281728, 838786, 838789, 838791, 838792, 838793, 838796, 838800, 838801, 838804, 838810, 838812, 838813, 838818, 838820, 838821, 838824, 838827, 838832, 838833, 838834, 838835, 838836, 838837, 838838, 838843, 838847, 838849, 838850, 838851, 838852, 838855, 838856, 838859, 838861, 838863, 838865, 838869, 838870, 838877, 838879, 838881, 838882, 838883, 838884, 838885, 838886, 838887, 838889, 838894, 838899, 838904, 838906, 838907, 838912, 838916, 838917, 838918, 838927, 838931, 838935, 838938, 838939, 838940, 838941, 838946, 838947, 838949, 838950, 838954, 838957, 838964, 838966, 838983, 838985, 838988, 838989, 838992, 838993, 838996, 838997, 839000, 839001, 839009, 839014, 839016, 839017, 839024, 839028, 839031, 839032, 839033, 839035, 839037, 839039, 839040, 839044, 839045, 839046, 839047, 839051, 839057, 839060, 839061, 839062, 839065, 839066, 839073, 839075, 839077, 839079, 839081, 839083, 839089, 839092, 839103, 839104, 839106, 839108, 839109, 839111, 839112, 839115, 839116, 839117, 839118, 839120, 839124, 839128, 839130, 839131, 839133, 839135, 839137, 839140, 839141, 839142, 839143, 839144, 839145, 839152, 839156, 839159, 839163, 839164, 839167, 839168, 839171, 839172, 839173, 839176, 839187, 839188, 839189, 839195, 839197, 839199, 839201, 839202, 839203, 839205, 839206, 839208, 839211, 839215, 839219, 839223, 839226, 839228, 839229, 839231, 839235, 839238, 839241, 839244, 839246, 839248, 839250, 839252, 839253, 839256, 839257, 839259, 839262, 839265, 839267, 839268, 839273, 839274, 839275, 839277, 839278, 839282, 839284, 839286, 839288, 839290, 839293, 839295, 839297, 839299, 839300, 839301, 839304, 839305, 839307, 839311, 839312, 839313, 839315, 839320, 839321, 839322, 839323, 839324, 839329, 839330, 839331, 839332, 839335, 839336, 839337, 839341, 839343, 839345, 839346, 839348, 839349, 839350, 839351, 839353, 839356, 839357, 839362, 839364, 839370, 839371, 839375, 839377, 839378, 839388, 839389, 839392, 839393, 839395, 839396, 839399, 839401, 839405, 839407, 839408, 839409, 839410, 839411, 839415, 839417, 839419, 839422, 839423, 839424, 839429, 839430, 839433, 839436, 839441, 839445, 839446, 839447, 839449, 839450, 839452, 839453, 839455, 839457, 839460, 839468, 839471, 839472, 839476, 839480, 839481, 839482, 839489, 839493, 839495, 839496, 839497, 839499, 839501, 839503, 839505, 839506, 839511, 839513, 839515, 839517, 839521, 839522, 839523, 839527, 839529, 839530, 839533, 839534, 839539, 839540, 839545, 839547, 839548, 839549, 839550, 839552, 839554, 839557, 839561, 839562, 839564, 839566, 839567, 839568, 839570, 839574, 839577, 839578, 839579, 839580, 839581, 839583, 839585, 839587, 839591, 839592, 839593, 839596, 839598, 839599, 839601, 839608, 839610, 839616, 839618, 839619, 839620, 839621, 839623, 839625, 839627, 839629, 839630, 839633, 839635, 839636, 839644, 839652, 839655, 839657, 839661, 839662, 839663, 839665, 839666, 839667, 839668, 839677, 839682, 839684, 839687, 839690, 839698, 839699, 839701, 839705, 839706, 839707, 839708, 12931104, 839714, 839715, 839716, 839717, 839719, 839722, 839723, 839725, 839726, 839729, 839732, 839733, 839736, 839739, 839740, 839743, 839747, 839748, 839749, 839752, 839761, 839771, 839772, 839777, 839778, 839780, 839787, 839789, 839790, 839791, 839794, 839795, 839796, 839797, 839798, 839799, 839800, 839802, 839805, 839807, 839809, 839814, 839816, 839840, 839841, 839844, 839845, 839846, 839847, 839850, 839851, 839853, 839858, 839859, 839863, 839866, 839868, 839869, 839870, 839871, 839874, 839875, 839876, 839877, 839878, 839886, 839887, 839891, 839893, 839900, 839901, 839903, 839906, 839907, 839912, 839913, 839916, 839918, 839920, 839923, 839925, 839927, 839928, 839929, 839933, 839938, 839939, 839942, 839943, 839949, 839953, 839960, 839963, 839965, 839967, 839970, 839972, 839976, 839982, 839983, 839984, 839991, 839994, 839997, 839998, 839999, 840001, 840007, 840011, 840012, 840014, 840016, 840018, 840019, 840020, 840021, 840023, 840024, 840026, 840032, 840034, 840036, 840044, 840050, 840051, 840052, 840059, 840060, 840062, 840063, 840064, 840065, 840068, 840069, 840072, 840073, 840077, 840078, 840081, 840087, 840088, 840098, 840099, 840102, 840105, 840107, 840112, 840113, 840115, 840116, 840123, 840124, 840125, 840127, 840128, 840131, 840133, 840134, 840139, 840141, 840142, 840143, 840145, 840147, 840148, 840152, 840153, 840158, 840164, 840168, 840169, 840171, 840181, 840184, 840194, 840199, 840201, 840202, 840204, 840206, 840207, 840208, 840211, 840217, 840218, 840219, 840223, 840234, 840236, 840240, 840243, 840267, 840271, 840272, 840273, 840297, 840298, 840300, 840310, 840316, 840320, 840324, 840331, 840333, 840336, 840339, 840341, 840345, 840346, 840349, 840360, 840368, 840371, 840379, 840380, 840381, 840382, 840386, 840403, 840410, 840412, 840413, 840423, 840424, 840435, 840438, 840440, 840442, 840446, 840447, 840450, 840452, 840454, 840461, 840471, 840472, 840475, 840476, 840485, 840509, 840510, 840521, 840522, 840530, 840608, 840630, 840799, 840848, 840859, 840861, 840895, 840897, 840898, 840907, 840915, 840916, 840918, 840948, 840953, 840957, 840976, 840977, 840981, 840982, 840987, 840989, 841000, 841013, 841014, 841028, 841029, 841033, 841039, 841044, 841045, 841047, 841056, 841057, 841058, 841061, 841065, 841066, 841072, 841082, 841085, 841089, 841092, 841093, 841095, 841096, 841097, 841099, 841106, 841112, 841113, 841117, 841118, 841122, 841123, 841124, 841125, 841126, 841127, 841128, 841129, 841130, 841132, 841136, 841137, 841141, 841147, 841157, 841160, 841162, 841163, 841164, 841165, 841167, 841169, 841173, 841175, 841177, 841182, 841184, 841185, 841186, 841187, 841198, 841199, 841202, 841218, 841220, 841221, 841222, 841223, 841229, 841232, 841234, 841237, 841241, 841244, 841246, 841247, 841248, 841252, 841256, 841257, 841259, 841262, 841263, 841266, 841268, 841269, 841271, 841272, 841273, 841277, 841281, 841284, 841298, 841301, 841305, 841309, 841312, 841314, 841321, 841324, 841326, 841327, 841333, 841335, 841336, 841337, 841341, 841343, 841346, 841347, 841353, 841365, 841370, 841371, 841372, 841375, 841376, 841380, 841382, 841383, 841384, 841386, 841387, 841391, 841393, 841394, 841395, 841396, 841399, 841400, 841405, 841406, 841407, 841408, 841409, 841410, 841411, 841418, 841420, 841422, 841425, 841427, 841432, 841436, 841439, 841440, 841442, 841446, 841447, 841450, 841451, 841452, 841453, 841454, 841459, 841463, 841464, 841465, 841468, 841472, 841479, 841482, 841483, 841486, 841490, 841492, 841495, 841496, 841504, 841506, 841512, 841517, 841519, 841521, 841528, 841529, 841532, 841533, 841535, 841537, 841540, 841542, 841543, 841552, 841554, 841555, 841557, 841559, 841561, 841570, 841571, 841572, 841575, 841576, 841579, 841580, 841581, 841583, 841584, 841585, 841588, 841590, 841591, 841592, 841594, 841596, 841602, 841605, 841606, 841607, 841608, 841609, 841615, 841616, 841617, 841621, 841623, 841626, 841627, 841629, 841632, 841633, 841636, 841640, 841642, 841645, 841646, 841649, 841652, 841653, 841654, 841658, 841659, 841660, 841665, 841666, 841668, 841670, 841671, 841673, 841680, 841682, 841685, 841686, 841687, 841689, 841692, 841702, 841706, 841707, 841709, 841710, 841717, 841720, 841721, 841722, 841725, 841733, 841735, 841742, 841743, 841747, 841749, 841751, 841756, 841757, 841761, 841763, 841765, 841766, 841771, 841776, 841777, 841778, 841779, 841780, 841784, 841785, 841786, 841787, 841791, 841793, 841798, 841802, 841804, 841810, 841811, 841812, 841813, 841816, 841817, 841820, 841822, 841828, 841829, 841838, 841839, 841840, 841841, 841842, 841844, 841849, 841852, 841853, 841854, 841856, 841857, 841863, 841866, 841868, 841870, 841872, 841873, 841874, 841875, 841876, 841877, 841878, 841881, 841883, 841886, 841896, 841899, 841903, 841910, 841914, 841917, 841918, 841919, 841922, 841923, 841926, 841937, 841941, 841942, 841944, 841947, 841948, 841952, 841958, 841959, 841961, 841962, 841963, 841966, 841968, 841972, 841974, 841975, 841976, 841978, 841981, 841993, 841996, 841999, 842001, 842002, 842004, 842009, 842010, 842014, 842015, 842016, 842022, 842023, 842024, 842025, 842029, 842030, 842031, 842032, 842036, 842038, 842039, 842041, 842043, 842046, 842051, 842052, 842055, 842056, 842058, 842059, 842061, 842062, 842063, 842064, 842065, 842066, 842067, 842068, 842069, 842070, 842072, 842075, 842078, 842081, 842082, 842083, 842086, 842087, 842094, 842095, 842096, 842098, 842107, 842112, 842113, 842116, 842120, 842121, 842124, 842127, 842129, 842130, 842131, 842138, 842142, 842144, 842147, 842151, 842154, 842157, 842162, 842164, 842165, 842166, 842174, 842177, 842178, 842187, 842189, 842195, 842196, 842198, 842202, 842203, 842207, 842208, 842216, 842218, 842220, 842222, 842229, 55802, 842237, 842242, 842243, 842247, 842248, 842251, 842254, 842256, 842257, 842260, 842262, 842263, 23064, 842266, 842268, 842269, 842271, 842274, 842275, 842276, 842278, 842280, 842281, 842283, 842284, 842288, 842292, 842293, 842295, 842298, 842299, 842303, 842311, 842317, 842320, 842330, 842333, 842336, 842337, 842338, 842339, 842344, 842352, 842354, 842356, 842357, 842359, 842360, 842361, 842372, 842374, 842375, 842377, 842380, 842381, 842383, 842385, 842386, 842388, 842393, 842408, 842410, 842411, 842414, 842418, 842421, 842425, 842428, 842431, 842436, 842443, 842446, 842450, 842454, 842455, 842457, 842458, 842462, 842466, 842470, 842471, 842477, 842484, 842492, 842493, 23295, 842496, 842499, 842503, 842508, 842511, 842513, 842516, 842523, 842527, 842530, 842531, 842534, 842536, 842537, 842545, 842549, 842553, 842563, 842564, 842568, 842572, 842573, 842577, 842580, 842582, 842585, 842589, 842597, 842598, 842600, 842601, 842602, 842603, 842605, 842608, 842612, 842613, 842615, 842616, 842617, 842629, 842633, 842637, 842642, 842649, 842650, 842653, 842654, 842656, 842663, 842669, 842670, 842673, 842674, 842683, 842685, 842687, 842688, 842693, 842694, 842696, 842697, 842700, 842708, 842710, 842711, 842713, 842719, 842722, 842724, 842725, 842726, 842728, 842733, 842739, 842741, 842754, 842756, 842759, 842760, 842761, 842763, 842764, 842767, 842770, 842771, 842777, 842779, 842780, 842782, 842783, 842785, 842786, 842787, 842790, 842792, 842793, 842794, 842795, 842798, 842807, 842808, 842809, 842810, 842811, 842817, 842822, 842833, 842835, 547924, 842836, 842838, 842839, 842841, 842845, 842846, 842848, 842849, 842851, 842852, 842854, 842855, 842858, 842859, 842869, 842873, 842875, 842876, 842880, 842883, 842885, 842888, 842890, 842891, 842903, 842904, 842905, 842911, 842921, 842926, 842928, 842930, 842931, 842935, 842938, 842940, 842943, 842944, 842945, 842947, 842948, 842951, 842953, 842954, 842955, 842956, 842957, 842959, 842960, 842961, 842965, 842966, 842968, 842975, 842976, 842983, 842985, 842986, 842992, 842993, 842994, 842995, 842999, 843000, 843001, 843004, 843005, 843008, 843010, 843013, 843016, 843022, 843026, 843028, 843029, 843030, 843037, 843038, 843039, 3890462, 843041, 843043, 3890470, 843051, 843052, 843055, 843057, 843058, 843063, 843068, 843072, 843074, 843075, 843079, 843095, 843096, 843097, 843100, 843106, 843108, 843110, 843113, 843114, 843117, 843121, 843122, 843125, 843129, 843130, 843131, 843133, 843134, 843135, 843137, 843138, 843140, 843141, 843142, 843143, 843144, 843145, 843147, 843148, 843151, 843153, 843159, 843160, 843161, 843165, 843167, 843168, 843169, 843170, 843174, 843177, 843178, 843181, 843182, 843185, 843189, 843194, 843197, 843198, 843210, 843212, 843213, 843215, 843216, 843221, 843224, 843225, 843233, 843236, 843244, 843248, 843249, 843251, 843258, 843262, 843265, 843266, 843271, 843272, 843273, 843274, 843275, 843278, 843282, 843288, 843289, 843292, 843293, 843296, 843298, 843299, 843300, 843303, 843305, 843310, 843313, 843314, 843317, 843319, 843320, 843321, 843323, 843324, 843327, 843329, 843330, 843333, 843334, 843336, 843337, 843340, 843343, 843346, 843350, 843356, 843357, 843364, 843365, 843366, 843367, 843368, 843370, 843371, 843377, 843382, 843385, 843388, 843389, 843395, 843396, 843397, 843398, 843403, 843406, 843407, 843408, 843410, 843412, 843413, 843414, 843415, 843417, 843418, 843420, 843421, 843430, 843431, 843432, 843436, 843442, 843443, 843445, 843449, 843451, 843453, 843454, 843459, 843462, 843463, 843467, 843468, 843469, 843474, 843477, 843478, 843479, 843486, 843489, 843491, 843492, 843497, 843500, 843503, 843507, 843510, 843512, 843513, 843514, 843516, 843517, 843519, 843521, 843524, 843525, 843526, 843528, 843530, 843532, 843534, 843536, 843546, 843547, 843548, 843549, 843550, 843552, 843553, 843559, 843560, 843561, 843562, 843563, 843567, 843568, 843569, 843571, 843575, 843576, 843577, 843578, 843579, 843585, 843587, 843589, 843595, 843600, 843602, 843603, 843605, 843606, 843607, 843609, 843614, 843619, 843621, 843623, 843624, 843631, 843634, 843637, 843639, 843641, 843646, 843652, 843653, 1466246, 843655, 843657, 843658, 843659, 843668, 843670, 843671, 843676, 778141, 843685, 843693, 843698, 843701, 843704, 843707, 843708, 843714, 843716, 843719, 843721, 843723, 843729, 843731, 843733, 843741, 843742, 843744, 843746, 843748, 843752, 843760, 843771, 843777, 843778, 843779, 843782, 843788, 843789, 843790, 843791, 843793, 843797, 843804, 843805, 843807, 843808, 843811, 843813, 843820, 843823, 843827, 843828, 843830, 843832, 843833, 843834, 843835, 843836, 843839, 843840, 843844, 843845, 843847, 843848, 843851, 843855, 843858, 843859, 843861, 843862, 843869, 843870, 843873, 843874, 843875, 843876, 843877, 843878, 843880, 24681, 843882, 843885, 843886, 843887, 843888, 843889, 843890, 843893, 843898, 843899, 843903, 843905, 843908, 843911, 843914, 843915, 843917, 843918, 843919, 843921, 843925, 843927, 843928, 843931, 843932, 843934, 843940, 843943, 843949, 843950, 843951, 843954, 843956, 843959, 843960, 843964, 843965, 843972, 843973, 843975, 843976, 843978, 843983, 843984, 843985, 843987, 843988, 843992, 843993, 843998, 844000, 844005, 844010, 844013, 844015, 844018, 844020, 844022, 844023, 844025, 844027, 844036, 844042, 844046, 844047, 844049, 844050, 844051, 844055, 844057, 844061, 844063, 844066, 844071, 844073, 844074, 844075, 844076, 844080, 844081, 844091, 844092, 844093, 844094, 844096, 844101, 844105, 844107, 844110, 844112, 844117, 844120, 844123, 844124, 844127, 844130, 844133, 844135, 844137, 844142, 844143, 844146, 844150, 844158, 844160, 844163, 844164, 844165, 844166, 844169, 844173, 844174, 844177, 844178, 844179, 844180, 844185, 844187, 844193, 844197, 844199, 844203, 844204, 844206, 844208, 844212, 844213, 844215, 844222, 844223, 844224, 844228, 844231, 844232, 844233, 844237, 844238, 844240, 844241, 844242, 844243, 844245, 844247, 844248, 844252, 844254, 844257, 844259, 844260, 844262, 844263, 844265, 844267, 844268, 844273, 844276, 844277, 844280, 844281, 844285, 844288, 844289, 844291, 844293, 844294, 844295, 844296, 844297, 844299, 844301, 844302, 844304, 844306, 844307, 844308, 844312, 844314, 844317, 844320, 844322, 844323, 844324, 844325, 844328, 844330, 844332, 844333, 844334, 844336, 844340, 844343, 844344, 844345, 844347, 844348, 844350, 844351, 844352, 844355, 844357, 844359, 844361, 844367, 844370, 844375, 844376, 844377, 844379, 844380, 844381, 844382, 844383, 844384, 844385, 844387, 844388, 844390, 844395, 844397, 844398, 844400, 844403, 844404, 844405, 844406, 844409, 844411, 844412, 844415, 844417, 844422, 844423, 844429, 844430, 844431, 844433, 844441, 7922386, 7922519, 7922524, 7922538, 844704, 844706, 844713, 844719, 844721, 844722, 844723, 844727, 844728, 844729, 844730, 844731, 844734, 844750, 844754, 844755, 844757, 844758, 844761, 844763, 844768, 844770, 844771, 844773, 844775, 844783, 844787, 844788, 844789, 844790, 844802, 844805, 844806, 2745418, 2745525, 2745555, 2745562, 2745575, 2745578, 2745592, 2745608, 2745706, 2745709, 2745723, 2745725, 2745726, 2745736, 2745744, 2745753, 2745762, 2745765, 2745766, 2745816, 2745817, 2745818, 2745844, 2745869, 2745872, 2745879, 2745884, 2745885, 2745895, 2745896, 2745945, 2745949, 2745966, 2745981, 2746007, 26374, 2746190, 2746201, 2746209, 59286, 5007668, 5007673, 5007732, 26999, 5007805, 5007827, 5007842, 5007863, 5007884, 27161, 5007938, 5007942, 5008005, 4024971, 5008017, 5008019, 5008021, 5008022, 5008056, 27327, 5008134, 5008140, 5008148, 5008149, 5008173, 5008312, 5729212, 814570, 814572, 814573, 814581, 814629, 814630, 814637, 814641, 814643, 814644, 814646, 814647, 814648, 814649, 814651, 814652, 814655, 814656, 814657, 814661, 814662, 814663, 814665, 814670, 814671, 814673, 814675, 814677, 814681, 814682, 814683, 814686, 814687, 814688, 814691, 814694, 814695, 814697, 814698, 814700, 814701, 814702, 814707, 814708, 814713, 814714, 814717, 814719, 814720, 814724, 814725, 814726, 814728, 814729, 814733, 814735, 814736, 814737, 814738, 814739, 814740, 814741, 814744, 814745, 814747, 814748, 814753, 814754, 814761, 814763, 814766, 814767, 814772, 814775, 814776, 814777, 814780, 814784, 814786, 814787, 814800, 814803, 814805, 814807, 814810, 814811, 814812, 814817, 814818, 814823, 814825, 814828, 814834, 814835, 814836, 814841, 814843, 814844, 814845, 814846, 814848, 814851, 814863, 814872, 814873, 814878, 814879, 814888, 814891, 814893, 814895, 814896, 814898, 814903, 814905, 814906, 814908, 814913, 814915, 814930, 814936, 814938, 814939, 814944, 814946, 814954, 814960, 814962, 814966, 814974, 814975, 814978, 814985, 814988, 814994, 814997, 815004, 815006, 815007, 815008, 815012, 815017, 815022, 815024, 815027, 815030, 815035, 815036, 815037, 815055, 815058, 815060, 815064, 815065, 815069, 815070, 815071, 815074, 815081, 815086, 815100, 815101, 815111, 815112, 815120, 815126, 815134, 815135, 815142, 815145, 815147, 815152, 815155, 815160, 815176, 815177, 815182, 520277, 815209, 815211, 815247, 815269, 815274, 815283, 815287, 618684, 815304, 815329, 815342, 815354, 815374, 815382, 815400, 815406, 815411, 815415, 815422, 3371331, 815456, 815504, 9269685, 815558, 815559, 815612, 815625, 815657, 815699, 815700, 815712, 815800, 815815, 815822, 815823, 815830, 815840, 815842, 815843, 815850, 815862, 815863, 815865, 815880, 815890, 815898, 815907, 815916, 815938, 815959, 815962, 815964, 815972, 815975, 815977, 815978, 815981, 815997, 816013, 816016, 816017, 816019, 816020, 816027, 816032, 816035, 816045, 816055, 816059, 816068, 816074, 816091, 816092, 816100, 816103, 816104, 816110, 816118, 816119, 816121, 816124, 816132, 816133, 816134, 816136, 816137, 816142, 816152, 816156, 816160, 816161, 816165, 816172, 816173, 816175, 816176, 816177, 816178, 29748, 816181, 816186, 816188, 816189, 816190, 816192, 816194, 816196, 816197, 816198, 816205, 816206, 816209, 816215, 816218, 816220, 816223, 816224, 816225, 816230, 816231, 816235, 816242, 816243, 816244, 816246, 816247, 816249, 816257, 816258, 816261, 816263, 816267, 816269, 816270, 816274, 816275, 816276, 816282, 816283, 816285, 816286, 816290, 816291, 816296, 816297, 816298, 816299, 816300, 816303, 816305, 816308, 816310, 816311, 816312, 816314, 816317, 816318, 816321, 816323, 816325, 816327, 816329, 816330, 816334, 816337, 816338, 816339, 816344, 816345, 816346, 816348, 816349, 816350, 816353, 816358, 816361, 816362, 816363, 816364, 816365, 816366, 816370, 816377, 816379, 816382, 816386, 816388, 816389, 816390, 816391, 816394, 816400, 816401, 816403, 816404, 816408, 29979, 816413, 816425, 816428, 816430, 816434, 816436, 816438, 816440, 816443, 816444, 816462, 816464, 816465, 816467, 816468, 816471, 816473, 816475, 816477, 816478, 816483, 816484, 816486, 816492, 816494, 816495, 816502, 816506, 816509, 816511, 816513, 816519, 816522, 816525, 816529, 816530, 816532, 816533, 816536, 816538, 816539, 816545, 816546, 816549, 816550, 816556, 816557, 816562, 816564, 816575, 816576, 816578, 816579, 816580, 816581, 816590, 816595, 816603, 816605, 816607, 816608, 816609, 816613, 816614, 816618, 816621, 816622, 816623, 816624, 816626, 816631, 816633, 816639, 816640, 816641, 816648, 816651, 816652, 816654, 816660, 816662, 816663, 816666, 816667, 816671, 816672, 816676, 816677, 816678, 816679, 816680, 816686, 816689, 816692, 816696, 816697, 816698, 816700, 816703, 816705, 816708, 816719, 816722, 816723, 816726, 816730, 816731, 816737, 816738, 816744, 816745, 816747, 816752, 816753, 816754, 816756, 816757, 816760, 816762, 816768, 816769, 816773, 816774, 816775, 816780, 816781, 816782, 816784, 816787, 816794, 816795, 816797, 816798, 816799, 816804, 816805, 816806, 816807, 816808, 816811, 816812, 816815, 816816, 816819, 816822, 816824, 816826, 816833, 816835, 816836, 816837, 816838, 816839, 816840, 816847, 816849, 816852, 816861, 816862, 816863, 816864, 816867, 816870, 816874, 816875, 816877, 816890, 816892, 816893, 816896, 816897, 816899, 816908, 816909, 816910, 816911, 816915, 816923, 816926, 816928, 816931, 816936, 816937, 816938, 816939, 816940, 816943, 816944, 816946, 816947, 816951, 816952, 816954, 816956, 816957, 816959, 816961, 816962, 816965, 816969, 816973, 816976, 816978, 816979, 816985, 816986, 816990, 816991, 816993, 816994, 816995, 816997, 816999, 817006, 817008, 817013, 817014, 817016, 817017, 817019, 817021, 817022, 817023, 817032, 817039, 817045, 817046, 817047, 817049, 817052, 817055, 817056, 817059, 817066, 817068, 817069, 817074, 817083, 817087, 817089, 817090, 817094, 817099, 817102, 817103, 817106, 817108, 817111, 817114, 817118, 817121, 817123, 817124, 817127, 817130, 817131, 817134, 817136, 817139, 817141, 817144, 817145, 817147, 817148, 817149, 817151, 817152, 817154, 817155, 817157, 817158, 817159, 817161, 817163, 817165, 817167, 817168, 817169, 817170, 817173, 817175, 817180, 817182, 817183, 817187, 817195, 817197, 817198, 817199, 817200, 817205, 817206, 817208, 817211, 817214, 817215, 817217, 817218, 817219, 817221, 817227, 817230, 817231, 817232, 817235, 817236, 817237, 817239, 817240, 817241, 817244, 817245, 817246, 817247, 817248, 817249, 817250, 817252, 817253, 817263, 817264, 817265, 817267, 817272, 817273, 817276, 817278, 817290, 817292, 817293, 817299, 817302, 817304, 817306, 817317, 817323, 817329, 817332, 817334, 817337, 817338, 817340, 817341, 817343, 817344, 817351, 817352, 817355, 817357, 817358, 817362, 817364, 817365, 817366, 817370, 817371, 817375, 817376, 817378, 817380, 817382, 817386, 817393, 817399, 817400, 817402, 817403, 817404, 817409, 817410, 817420, 817423, 817426, 817428, 817429, 817432, 817433, 817437, 817439, 817440, 817441, 817442, 817445, 817448, 817451, 817456, 817457, 817458, 817460, 817461, 817467, 817468, 817470, 817474, 817480, 817481, 817482, 817483, 817484, 817485, 817487, 817488, 817489, 817490, 817491, 817497, 817498, 817499, 817502, 817504, 817506, 817507, 817513, 817515, 817516, 817518, 3766638, 817532, 817538, 817539, 817540, 817541, 817546, 817548, 817553, 817555, 817556, 817557, 817558, 3766682, 817562, 817564, 817565, 817566, 817568, 817569, 817570, 817575, 817576, 817577, 817578, 817582, 817583, 817584, 817585, 817586, 817587, 817589, 817591, 817592, 817593, 817597, 817598, 817599, 817601, 817602, 817603, 817606, 817608, 817609, 817612, 817625, 817628, 817630, 817636, 817637, 817638, 817641, 817642, 817646, 817647, 817648, 817649, 817650, 817656, 817659, 817662, 850430, 817665, 817672, 817673, 817674, 817675, 817676, 817677, 817679, 817680, 817683, 817684, 817685, 817688, 817690, 817694, 817695, 817696, 817697, 817699, 817702, 817705, 817707, 817708, 817711, 817715, 817719, 817721, 817722, 817727, 817728, 817730, 817732, 817736, 817737, 817738, 817744, 817745, 817746, 817748, 817750, 817754, 817756, 817759, 817761, 817762, 817763, 817764, 817766, 817768, 817770, 817775, 817776, 817784, 817785, 817788, 850562, 817799, 817801, 817806, 817807, 817816, 817818, 817820, 817824, 817825, 817827, 817828, 817830, 817831, 817832, 817833, 817835, 817839, 817842, 817845, 817851, 817855, 817857, 817858, 817860, 817866, 817873, 817874, 817876, 817878, 817883, 817884, 817887, 817890, 817892, 817894, 817896, 817897, 817898, 817901, 817903, 817905, 817907, 817910, 817911, 817913, 817915, 817916, 817917, 817919, 817920, 817921, 817923, 850691, 817926, 817927, 817932, 817935, 817936, 817937, 817938, 817943, 817945, 817947, 817948, 817951, 817956, 817958, 817959, 817965, 817966, 817970, 817975, 817976, 817977, 817979, 817980, 817986, 817987, 817996, 818001, 818002, 818005, 818006, 818007, 818008, 818009, 818010, 818011, 818023, 818024, 818025, 818026, 818027, 818029, 818030, 818031, 818033, 818034, 818036, 818037, 818040, 818042, 818048, 818049, 818051, 818055, 818059, 818060, 818061, 818069, 818070, 818076, 818077, 818082, 818083, 818084, 818086, 818091, 818098, 818104, 818106, 818109, 818112, 818115, 818116, 326597, 818117, 818118, 818120, 326601, 818127, 818130, 818132, 818133, 818137, 818138, 818139, 818140, 818148, 818153, 818156, 818157, 818159, 818161, 818162, 818163, 818164, 818166, 818167, 818173, 818174, 818175, 818178, 818179, 818181, 818183, 818186, 818187, 818188, 818189, 818197, 850966, 818199, 818200, 818203, 818204, 818206, 818207, 818212, 818213, 818215, 818216, 818217, 818219, 818220, 818222, 818223, 818224, 818226, 818230, 818231, 818232, 818233, 818234, 851000, 818236, 818237, 818240, 818241, 818244, 818246, 818248, 818250, 818253, 818255, 818257, 818260, 818262, 818264, 818265, 818267, 818269, 818270, 818273, 818274, 818276, 818280, 818281, 818282, 818284, 818288, 818289, 818291, 818292, 818293, 818294, 818295, 3767415, 818298, 818299, 818302, 818303, 818304, 818310, 818311, 818312, 818317, 818319, 818328, 818331, 818332, 818333, 3767452, 818336, 818339, 818340, 818343, 818345, 818346, 818348, 818351, 818371, 818378, 818379, 818380, 818382, 818383, 818387, 818389, 818390, 818391, 818392, 818393, 818395, 818397, 818400, 818402, 818404, 818407, 818408, 818409, 818410, 818411, 818413, 818414, 818416, 818421, 818422, 818425, 818427, 818429, 818431, 818433, 818435, 818436, 818438, 818440, 818443, 818444, 818447, 818448, 818449, 818455, 818457, 818458, 818459, 818463, 818467, 818470, 818471, 818472, 818476, 818479, 818480, 818486, 818487, 818488, 818489, 818491, 818492, 818495, 818496, 818499, 818503, 818505, 818510, 818514, 818516, 818518, 818519, 818520, 818521, 818524, 818529, 818530, 818531, 818533, 818536, 818538, 3767658, 818540, 3767664, 818546, 818549, 818554, 818557, 818558, 818559, 818560, 818561, 818562, 818565, 818566, 818567, 818568, 818570, 818571, 3767694, 818576, 818577, 818580, 818581, 818583, 818584, 818587, 818588, 818589, 818591, 818594, 818596, 818599, 818603, 818605, 818607, 3767728, 818609, 818611, 818613, 818614, 818618, 818619, 818621, 818622, 818624, 818626, 818627, 818628, 818629, 818631, 818634, 818636, 818639, 818640, 818641, 818643, 818644, 818646, 851415, 818649, 818650, 818653, 818654, 818660, 818662, 818669, 818670, 818673, 3767798, 818682, 818685, 818686, 818687, 818691, 818693, 818694, 818697, 818698, 818701, 818702, 818704, 818705, 818706, 818708, 818709, 818710, 818711, 818712, 818713, 818716, 818717, 818718, 818720, 818721, 818722, 818723, 851494, 818727, 818730, 818732, 818733, 818735, 818739, 818741, 818743, 818747, 818751, 818752, 818753, 818754, 818759, 818760, 818761, 818762, 818766, 818767, 818768, 3767888, 818769, 818771, 818772, 818773, 818775, 818781, 818783, 818784, 818787, 818790, 818794, 818797, 818802, 818804, 3767924, 818810, 818812, 818814, 818816, 818821, 818827, 818828, 818829, 818830, 818831, 3767954, 818837, 818839, 818840, 818841, 818842, 818843, 818848, 818849, 818850, 3767968, 818852, 818854, 818856, 818858, 818859, 818860, 818862, 3767983, 818866, 818868, 818870, 851641, 818874, 818877, 818878, 818879, 818881, 818883, 818887, 818888, 851657, 818892, 818895, 851666, 818902, 818903, 818904, 818905, 818908, 818909, 818914, 818915, 818916, 818917, 818918, 818922, 818923, 818928, 818929, 818931, 818934, 818936, 818937, 818938, 818942, 818943, 818947, 818949, 818952, 818958, 818959, 100499220, 818966, 818967, 818970, 818971, 818972, 818973, 818978, 818979, 818980, 818982, 818989, 818992, 819000, 819002, 819003, 819007, 819008, 819009, 819010, 819011, 819014, 819015, 819016, 819017, 819018, 819019, 819021, 819022, 819026, 819028, 819035, 819036, 819039, 819041, 819042, 819043, 819048, 819056, 819057, 819061, 3768181, 819066, 819069, 819070, 819071, 819072, 819073, 819075, 819077, 819079, 819082, 819083, 819088, 819093, 819100, 819102, 819104, 819105, 196513, 819108, 819109, 819111, 819113, 819114, 819115, 819122, 819124, 819125, 819126, 819127, 819128, 819130, 819132, 819136, 819137, 819142, 819143, 819144, 819149, 819150, 819151, 819152, 819153, 819155, 819156, 819161, 819162, 819164, 819166, 819172, 819173, 819174, 819175, 819176, 819177, 819182, 819185, 819187, 819188, 819189, 819190, 819193, 819194, 819195, 819196, 819197, 819199]\n",
      "[6, 14, 34, 6, 1, 170, 1, 2, 3, 1, 1, 22, 2, 2, 1, 1, 10, 6, 5, 1, 15, 1, 17, 21, 4, 4, 6, 5, 1, 1, 5, 5, 2, 10, 2, 1, 1, 16, 3, 2, 4, 9, 15, 1, 5, 14, 1, 14, 43, 17, 13, 1, 25, 6, 5, 1, 19, 2, 22, 1, 1, 1, 2, 8, 4, 4, 3, 3, 3, 1, 1, 10, 28, 2, 2, 2, 1, 2, 6, 18, 14, 3, 5, 2, 4, 30, 6, 34, 3, 50, 11, 1, 2, 13, 1, 15, 2, 2, 1, 1, 21, 6, 11, 14, 3, 1, 1, 1, 1, 6, 38, 2, 1, 11, 2, 11, 3, 2, 1, 1, 1, 2, 3, 4, 8, 27, 12, 1, 4, 1, 1, 2, 3, 6, 5, 3, 2, 1, 2, 1, 8, 1, 1, 2, 1, 2, 5, 10, 2, 1, 42, 4, 2, 2, 1, 7, 6, 1, 2, 12, 6, 2, 5, 2, 1, 3, 7, 2, 1, 1, 1, 6, 1, 2, 23, 1, 1, 6, 3, 1, 2, 1, 3, 1, 3, 6, 49, 4, 3, 4, 2, 1, 13, 1, 2, 3, 5, 3, 4, 4, 1, 17, 55, 1, 1, 6, 2, 5, 1, 1, 2, 2, 2, 4, 3, 2, 12, 2, 5, 1, 14, 1, 1, 16, 4, 2, 14, 1, 1, 4, 31, 2, 6, 10, 3, 26, 3, 27, 6, 1, 12, 6, 3, 2, 27, 16, 8, 1, 1, 6, 382, 4, 3, 1, 32, 3, 1, 11, 2, 1, 1, 5, 1, 3, 1, 1, 7, 6, 1, 2, 2, 1, 1, 2, 1, 67, 2, 28, 5, 1, 3, 2, 9, 1, 3, 17, 1, 5, 4, 13, 12, 4, 15, 1, 2, 2, 1, 6, 1, 5, 28, 33, 2, 1, 33, 1, 3, 5, 1, 3, 1, 1, 1, 1, 4, 6, 32, 51, 12, 2, 21, 1, 1, 42, 7, 1, 5, 2, 4, 1, 2, 1, 7, 2, 6, 1, 69, 1, 2, 1, 2, 3, 3, 1, 1, 3, 1, 1, 4, 13, 7, 6, 1, 4, 11, 2, 19, 1, 8, 1, 1, 6, 3, 13, 4, 2, 3, 4, 1, 2, 1, 22, 1, 17, 2, 1, 8, 3, 17, 1, 4, 1, 1, 2, 8, 2, 2, 1, 3, 1, 11, 2, 1, 3, 1, 1, 1, 28, 1, 3, 1, 7, 1, 7, 4, 2, 2, 2, 1, 22, 3, 10, 1, 2, 4, 2, 2, 8, 8, 1, 263, 62, 1, 1, 2, 11, 2, 14, 3, 2, 1, 3, 5, 1, 3, 4, 6, 1, 2, 11, 68, 1, 11, 2, 3, 8, 2, 11, 1, 32, 3, 13, 3, 1, 9, 50, 18, 1, 4, 12, 2, 9, 18, 29, 1, 11, 35, 1, 2, 10, 1, 1, 1, 2, 2, 36, 68, 12, 2, 4, 3, 1, 2, 1, 1, 5, 2, 35, 1, 7, 4, 8, 1, 2, 1, 534, 8, 3, 11, 1, 2, 29, 1, 1, 3, 2, 1, 1, 4, 15, 1, 9, 2, 1, 2, 1, 3, 22, 3, 3, 1, 2, 1, 6, 5, 5, 7, 1, 1, 1, 6, 18, 2, 6, 1, 1, 1, 3, 1, 19, 2, 3, 1, 3, 124, 3, 6, 21, 1, 3, 1, 12, 2, 5, 1, 8, 2, 44, 15, 3, 2, 2, 2, 1, 5, 3, 10, 15, 13, 3, 1, 18, 3, 1, 4, 3, 1, 29, 49, 2, 3, 1, 1, 1, 1, 6, 9, 2, 1, 9, 6, 8, 1, 3, 1, 27, 30, 1, 7, 1, 4, 23, 2, 1, 4, 1, 1, 4, 1, 33, 2, 5, 1, 16, 1, 2, 3, 68, 1, 2, 1, 1, 2, 5, 5, 1, 1, 1, 4, 1, 4, 3, 3, 1, 3, 35, 2, 8, 1, 2, 1, 3, 42, 5, 17, 3, 3, 234, 1, 2, 1, 2, 7, 4, 3, 1, 40, 1, 2, 21, 2, 2, 12, 2, 3, 1, 6, 1, 5, 2, 5, 2, 2, 13, 1, 1, 50, 1, 1, 1, 2, 19, 1, 1, 59, 9, 1, 4, 5, 4, 2, 34, 1, 4, 2, 1, 6, 1, 1, 1, 13, 1, 1, 51, 11, 2, 2, 1, 6, 9, 3, 2, 63, 5, 1, 1, 3, 10, 1, 1, 2, 2, 1, 2, 2, 5, 3, 2, 49, 16, 2, 10, 1, 3, 3, 3, 3, 2, 9, 13, 11, 2, 10, 1, 51, 1, 1, 16, 9, 8, 2, 20, 1, 244, 6, 3, 1, 3, 1, 3, 52, 1, 4, 3, 1, 5, 8, 9, 3, 1, 1, 32, 3, 19, 1, 1, 6, 9, 44, 16, 6, 22, 9, 1, 9, 10, 7, 4, 1, 1, 2, 3, 77, 1, 50, 1, 3, 1, 8, 225, 1, 2, 6, 1, 9, 5, 7, 20, 3, 4, 1, 1, 3, 3, 15, 6, 42, 2, 1, 8, 6, 1, 3, 1, 15, 6, 1, 2, 1, 2, 2, 2, 15, 20, 2, 2, 4, 2, 4, 11, 10, 3, 37, 8, 3, 1, 2, 2, 8, 7, 3, 17, 1, 1, 1, 23, 1, 3, 84, 1, 16, 2, 2, 4, 1, 2, 5, 9, 1, 4, 18, 1, 1, 2, 49, 3, 1, 6, 1, 57, 1, 1, 4, 1, 20, 1, 37, 14, 5, 28, 16, 2, 2, 1, 7, 7, 5, 3, 1, 10, 1, 2, 7, 2, 5, 1, 2, 2, 1, 7, 2, 5, 2, 1, 3, 6, 32, 8, 4, 1, 4, 2, 8, 7, 1, 3, 1, 2, 12, 1, 5, 14, 1, 1, 3, 6, 1, 72, 3, 2, 16, 1, 1, 6, 4, 6, 3, 2, 15, 2, 9, 1, 1, 5, 2, 1, 4, 1, 4, 1, 2, 9, 1, 137, 1, 16, 10, 25, 1, 5, 1, 5, 6, 19, 1, 31, 4, 4, 1, 1, 3, 4, 1, 6, 2, 6, 5, 1, 1, 2, 9, 2, 1, 17, 1, 2, 13, 1, 13, 5, 1, 1, 1, 14, 1, 16, 1, 3, 19, 3, 1, 5, 5, 1, 2, 1, 12, 1, 3, 3, 7, 5, 85, 3, 2, 2, 15, 7, 2, 2, 2, 9, 9, 9, 12, 7, 2, 1, 1, 8, 4, 7, 3, 1, 11, 9, 9, 4, 1, 1, 1, 22, 1, 2, 3, 26, 9, 3, 32, 1, 37, 2, 1, 1, 12, 6, 1, 1, 20, 30, 4, 2, 1, 1, 3, 1, 33, 1, 1, 63, 69, 31, 2, 28, 6, 1, 9, 1, 7, 7, 32, 12, 1, 3, 7, 14, 5, 4, 2, 1, 1, 8, 2, 1, 1, 4, 3, 10, 2, 10, 1, 9, 7, 1, 1, 17, 1, 2, 4, 2, 5, 2, 2, 7, 3, 1, 23, 3, 1, 8, 3, 1, 1, 3, 2, 2, 30, 3, 7, 49, 44, 5, 1, 1, 3, 10, 10, 30, 1, 6, 5, 11, 6, 2, 3, 1, 7, 1, 4, 1, 5, 3, 20, 4, 2, 1, 37, 1, 2, 1, 3, 1, 1, 13, 1, 2, 17, 6, 1, 2, 1, 1, 4, 1, 1, 1, 12, 3, 9, 19, 8, 1, 18, 2, 1, 3, 1, 1, 76, 3, 4, 4, 37, 1, 7, 3, 20, 1, 3, 5, 5, 3, 18, 49, 1, 8, 3, 1, 17, 8, 3, 12, 2, 2, 15, 1, 1, 3, 7, 2, 7, 3, 1, 10, 1, 3, 17, 1, 2, 3, 2, 13, 1, 16, 9, 30, 1, 1, 11, 6, 21, 1, 3, 1, 31, 6, 7, 10, 3, 8, 1, 1, 3, 152, 1, 27, 11, 1, 7, 2, 6, 1, 4, 18, 83, 2, 1, 2, 1, 2, 2, 2, 1, 1, 18, 8, 1, 1, 1, 1, 22, 2, 13, 3, 1, 4, 7, 7, 1, 2, 27, 1, 1, 16, 1, 1, 3, 2, 18, 1, 1, 8, 3, 4, 2, 1, 1, 3, 9, 4, 1, 1, 1, 2, 3, 12, 2, 1, 2, 2, 41, 5, 16, 6, 2, 1, 11, 13, 8, 74, 2, 2, 46, 9, 3, 1, 4, 7, 2, 111, 6, 4, 1, 2, 1, 7, 1, 1, 1, 33, 4, 1, 1, 1, 13, 28, 1, 1, 5, 2, 6, 26, 1, 1, 5, 8, 14, 2, 1, 4, 1, 43, 1, 1, 1, 1, 1, 2, 67, 1, 2, 34, 1, 4, 1, 1, 1, 12, 1, 12, 1, 1, 8, 10, 1, 2, 1, 13, 1, 2, 1, 1, 1, 1, 3, 2, 1, 1, 1, 20, 6, 35, 1, 1, 1, 22, 2, 2, 24, 1, 2, 2, 6, 5, 1, 5, 22, 3, 2, 1, 5, 127, 1, 5, 1, 1, 5, 2, 7, 2, 3, 2, 1, 1, 3, 1, 2, 15, 12, 2, 4, 3, 3, 1, 5, 1, 10, 2, 3, 6, 3, 1, 7, 1, 1, 2, 3, 1, 2, 65, 2, 7, 1, 4, 2, 9, 2, 23, 2, 2, 5, 1, 8, 2, 175, 5, 2, 13, 1, 1, 8, 7, 2, 3, 1, 2, 1, 11, 2, 1, 3, 1, 2, 1, 2, 16, 1, 26, 22, 15, 22, 11, 2, 1, 1, 7, 17, 1, 10, 4, 85, 8, 2, 1, 5, 5, 1, 5, 3, 5, 2, 10, 12, 1, 1, 1, 2, 1, 14, 10, 5, 13, 1, 1, 4, 5, 1, 5, 2, 3, 5, 17, 5, 314, 27, 4, 3, 9, 1, 17, 1, 2, 1, 1, 6, 1, 13, 2, 2, 1, 9, 1, 2, 1, 29, 4, 11, 28, 85, 15, 2, 1, 5, 28, 1, 1, 6, 1, 4, 40, 3, 3, 15, 1, 1, 50, 8, 4, 3, 3, 1, 2, 12, 108, 1, 3, 9, 95, 6, 1, 2, 3, 1, 1, 5, 1, 2, 9, 1, 23, 2, 12, 1, 2, 1, 4, 4, 1, 1, 9, 1, 80, 1, 1, 1, 4, 39, 1, 7, 2, 2, 13, 1, 2, 3, 2, 1, 8, 1, 1, 3, 24, 9, 1, 4, 1, 21, 18, 1, 3, 19, 11, 9, 45, 1, 6, 12, 4, 1, 2, 16, 1, 1, 1, 1, 42, 18, 12, 14, 1, 1, 1, 1, 1, 2, 3, 1, 12, 17, 30, 8, 2, 1, 2, 6, 1, 1, 32, 1, 9, 20, 3, 15, 1, 2, 8, 2, 22, 1, 1, 1, 3, 1, 4, 8, 5, 7, 1, 5, 9, 1, 13, 3, 3, 28, 1, 1, 1, 1, 1, 4, 1, 4, 2, 6, 119, 2, 10, 5, 6, 31, 8, 7, 1, 1, 2, 3, 5, 1, 10, 11, 4, 3, 1, 1, 1, 45, 1, 2, 2, 14, 4, 8, 11, 1, 3, 12, 1, 37, 6, 6, 33, 1, 8, 13, 1, 10, 3, 1, 5, 1, 1, 4, 3, 8, 11, 8, 16, 15, 3, 10, 1, 12, 1, 22, 10, 4, 1, 1, 4, 13, 2, 2, 2, 1, 1, 60, 3, 1, 1, 1, 1, 17, 5, 8, 2, 5, 1, 1, 1, 7, 1, 1, 2, 3, 2, 24, 6, 1, 2, 14, 1, 9, 2, 22, 9, 2, 4, 15, 2, 28, 13, 51, 4, 3, 2, 14, 12, 11, 2, 5, 7, 14, 5, 5, 37, 9, 1, 1, 1, 7, 1, 4, 1, 1, 28, 12, 1, 7, 5, 1, 2, 1, 1, 13, 1, 4, 15, 2, 1, 3, 11, 3, 1, 1, 6, 5, 2, 2, 5, 1, 1, 4, 46, 3, 7, 11, 1, 5, 5, 1, 1, 3, 2, 2, 1, 1, 1, 24, 22, 2, 4, 1, 3, 4, 1, 2, 1, 1, 1, 21, 3, 5, 1, 2, 1, 1, 11, 4, 6, 1, 5, 4, 19, 3, 2, 1, 12, 3, 2, 2, 5, 1, 14, 2, 5, 1, 1, 1, 34, 4, 1, 1, 1, 2, 5, 6, 4, 3, 1, 2, 1, 8, 5, 1, 1, 1, 10, 12, 2, 4, 2, 1, 11, 2, 8, 3, 7, 2, 4, 2, 6, 3, 2, 24, 44, 1, 3, 5, 2, 3, 15, 1, 2, 2, 7, 2, 3, 6, 2, 1, 4, 12, 18, 16, 1, 9, 1, 1, 23, 16, 165, 3, 1, 6, 1, 4, 2, 2, 15, 1, 15, 1, 6, 3, 3, 2, 1, 8, 2, 1, 9, 2, 2, 20, 1, 8, 1, 6, 1, 1, 5, 24, 1, 3, 2, 3, 3, 6, 2, 1, 11, 6, 11, 1, 42, 1, 12, 2, 91, 1, 2, 7, 3, 22, 1, 3, 1, 2, 3, 7, 3, 8, 3, 2, 1, 2, 10, 10, 26, 5, 14, 178, 5, 3, 1, 32, 1, 4, 1, 7, 77, 8, 1, 3, 1, 1, 3, 3, 7, 1, 5, 2, 3, 2, 1, 4, 18, 1, 16, 1, 3, 2, 19, 1, 4, 104, 4, 7, 1, 1, 8, 1, 51, 2, 4, 1, 14, 2, 1, 1, 1, 1, 11, 5, 1, 1, 6, 15, 21, 7, 8, 2, 2, 1, 2, 1, 7, 1, 9, 3, 1, 1, 1, 7, 1, 7, 3, 4, 4, 1, 1, 1, 11, 6, 16, 25, 6, 4, 3, 14, 2, 23, 1, 34, 1, 6, 1, 6, 21, 216, 4, 1, 5, 2, 4, 1, 6, 7, 27, 3, 1, 1, 2, 5, 2, 5, 3, 2, 3, 21, 3, 13, 5, 1, 1, 2, 38, 1, 3, 4, 1, 1, 2, 2, 4, 1, 5, 7, 2, 8, 1, 2, 1, 1, 22, 2, 4, 11, 8, 6, 1, 2, 3, 2, 2, 1, 3, 6, 10, 1, 3, 5, 1, 19, 19, 4, 2, 12, 3, 5, 7, 3, 20, 9, 47, 4, 1, 4, 1, 8, 34, 19, 15, 7, 3, 7, 13, 8, 2, 10, 3, 8, 3, 20, 5, 9, 1, 3, 2, 26, 2, 2, 1, 4, 2, 27, 39, 9, 8, 1, 38, 7, 1, 15, 1, 6, 5, 13, 84, 6, 37, 9, 20, 1, 3, 9, 1, 5, 9, 1, 1, 1, 1, 4, 7, 1, 1, 79, 4, 5, 3, 17, 2, 4, 3, 3, 1, 9, 6, 2, 2, 38, 1, 2, 1, 12, 1, 2, 1, 8, 1, 1, 27, 219, 2, 1, 3, 5, 8, 9, 9, 7, 2, 2, 1, 4, 13, 2, 1, 2, 4, 33, 6, 2, 1, 2, 3, 15, 3, 2, 10, 1, 1, 3, 26, 1, 1, 1, 1, 1, 24, 44, 2, 1, 1, 7, 4, 4, 1, 4, 6, 2, 1, 1, 22, 2, 4, 1, 7, 1, 1, 8, 30, 4, 5, 1, 8, 1, 1, 1, 3, 1, 4, 13, 5, 20, 2, 2, 22, 3, 15, 10, 4, 4, 147, 11, 7, 5, 5, 11, 10, 10, 5, 20, 1, 1, 1, 10, 1, 1, 1, 3, 2, 10, 9, 9, 1, 29, 7, 13, 1, 2, 1, 1, 11, 7, 9, 3, 14, 12, 1, 1, 4, 8, 1, 2, 1, 16, 12, 2, 5, 1, 2, 10, 6, 3, 3, 8, 1, 67, 2, 4, 8, 1, 4, 1, 1, 2, 2, 7, 3, 1, 1, 3, 3, 47, 7, 25, 6, 6, 5, 25, 1, 3, 1, 16, 2, 1, 1, 3, 1, 3, 8, 4, 1, 3, 1, 1, 15, 1, 1, 1, 2, 1, 8, 1, 2, 11, 2, 9, 1, 1, 4, 5, 6, 23, 1, 2, 242, 3, 29, 2, 1, 22, 37, 49, 2, 81, 5, 1, 1, 23, 1, 4, 4, 14, 23, 16, 4, 4, 1, 1, 5, 1, 2, 14, 3, 1, 8, 1, 10, 1, 6, 4, 2, 3, 26, 15, 1, 1, 1, 2, 2, 2, 1, 1, 96, 1, 23, 2, 3, 5, 1, 1, 4, 4, 6, 17, 24, 1, 1, 11, 10, 1, 3, 6, 1, 18, 1, 14, 13, 2, 1, 1, 9, 4, 2, 59, 4, 1, 24, 1, 1, 2, 10, 2, 7, 15, 4, 6, 1, 3, 7, 16, 2, 31, 3, 3, 1, 12, 1, 3, 36, 4, 15, 11, 1, 2, 4, 6, 34, 2, 8, 3, 1, 6, 1, 5, 3, 2, 5, 6, 1, 2, 4, 27, 2, 2, 1, 1, 1, 5, 12, 17, 23, 9, 8, 1, 2, 31, 5, 3, 1, 23, 2, 1, 41, 1, 12, 3, 10, 56, 1, 18, 1, 2, 2, 87, 1, 8, 25, 13, 29, 1, 4, 1, 8, 11, 1, 4, 2, 3, 10, 4, 6, 2, 13, 22, 1, 1, 8, 3, 20, 1, 160, 17, 1, 2, 6, 1, 1, 2, 3, 1, 3, 23, 6, 19, 3, 1, 9, 31, 1, 1, 4, 18, 4, 7, 4, 1, 1, 7, 35, 6, 3, 1, 3, 184, 1, 3, 2, 14, 8, 2, 1, 6, 6, 1, 1, 1, 1, 3, 1, 29, 5, 3, 43, 1, 1, 3, 1, 2, 2, 10, 1, 1, 3, 16, 1, 57, 2, 1, 4, 44, 14, 15, 14, 2, 34, 26, 4, 2, 2, 29, 1, 5, 1, 292, 1, 3, 1, 1, 7, 3, 1, 47, 6, 1, 1, 1, 2, 1, 4, 1, 2, 20, 4, 5, 1, 1, 2, 6, 10, 17, 3, 1, 1, 5, 28, 1, 7, 1, 4, 5, 1, 12, 9, 1, 6, 1, 1, 7, 3, 1, 17, 17, 2, 8, 37, 1, 2, 1, 12, 2, 7, 14, 2, 40, 3, 1, 4, 30, 3, 1, 4, 13, 4, 1, 127, 16, 18, 1, 11, 2, 1, 1, 1, 3, 6, 23, 6, 1, 6, 4, 1, 1, 1, 12, 13, 5, 7, 2, 1, 5, 4, 4, 5, 1, 1, 7, 2, 11, 1, 3, 38, 3, 1, 1, 4, 1, 1, 2, 1, 6, 2, 3, 1, 7, 29, 1, 1, 7, 1, 2, 6, 1, 3, 2, 166, 5, 4, 2, 5, 89, 3, 1, 3, 3, 24, 1, 2, 23, 10, 19, 12, 1, 1, 7, 2, 8, 1, 17, 7, 1, 24, 3, 3, 1, 5, 1, 7, 2, 11, 7, 36, 1, 9, 2, 1, 13, 25, 1, 2, 4, 1, 4, 1, 1, 1, 4, 1, 1, 10, 4, 5, 1, 1, 1, 6, 1, 60, 15, 5, 2, 5, 1, 16, 10, 5, 6, 2, 3, 1, 2, 4, 5, 5, 1, 13, 58, 16, 17, 1, 3, 5, 26, 1, 17, 29, 9, 1, 2, 1, 89, 12, 29, 1, 28, 1, 1, 2, 9, 8, 14, 8, 21, 33, 24, 1, 96, 4, 2, 4, 2, 1, 8, 2, 1, 7, 14, 32, 9, 3, 5, 74, 15, 11, 17, 1, 2, 18, 1, 3, 8, 6, 42, 1, 1, 1, 4, 3, 1, 3, 16, 13, 1, 14, 3, 10, 10, 1, 1, 1, 7, 5, 1, 10, 10, 3, 2, 2, 20, 4, 1, 2, 7, 17, 2, 1, 3, 2, 2, 2, 2, 19, 1, 28, 1, 5, 3, 7, 9, 2, 8, 5, 28, 89, 3, 5, 2, 6, 1, 146, 15, 2, 1, 9, 2, 3, 3, 6, 7, 3, 1, 9, 1, 11, 11, 4, 5, 6, 60, 1, 19, 3, 1, 2, 43, 1, 1, 16, 1, 1, 6, 4, 7, 62, 14, 5, 13, 4, 1, 5, 6, 1, 11, 3, 1, 2, 22, 4, 1, 64, 9, 1, 44, 4, 5, 20, 20, 1, 4, 176, 14, 2, 1, 1, 1, 4, 1, 46, 1, 1, 145, 1, 5, 5, 1, 2, 1, 5, 2, 3, 1, 7, 2, 5, 1, 1, 2, 3, 3, 3, 1, 3, 7, 3, 1, 1, 1, 11, 1, 38, 1, 1, 11, 8, 1, 3, 3, 1, 2, 1, 6, 1, 2, 2, 1, 3, 45, 1, 1, 3, 1, 2, 1, 5, 1, 2, 1, 8, 1, 18, 15, 3, 2, 4, 1, 5, 8, 1, 1, 1, 2, 10, 1, 26, 16, 6, 2, 3, 26, 5, 3, 1, 2, 1, 3, 1, 26, 2, 1, 4, 10, 10, 1, 4, 2, 2, 4, 65, 32, 8, 2, 5, 5, 3, 1, 3, 1, 5, 7, 16, 31, 1, 1, 3, 220, 2, 45, 25, 13, 17, 20, 2, 53, 6, 5, 2, 1, 49, 7, 1, 1, 1, 2, 1, 49, 9, 7, 1, 1, 1, 2, 3, 1, 2, 3, 8, 10, 4, 9, 1, 21, 2, 1, 1, 1, 9, 1, 1, 2, 1, 1, 10, 43, 2, 8, 12, 4, 1, 5, 1, 19, 4, 1, 15, 1, 7, 144, 65, 25, 1, 1, 1, 37, 2, 2, 5, 8, 1, 176, 335, 4, 1, 3, 2, 4, 2, 4, 16, 13, 2, 3, 6, 3, 3, 6, 1, 1, 2, 64, 1, 3, 1, 18, 41, 1, 1, 3, 6, 2, 1, 2, 1, 1, 4, 2, 16, 3, 2, 3, 2, 2, 1, 1, 2, 8, 1, 15, 5, 13, 4, 45, 3, 2, 10, 1, 3, 2, 1, 11, 1, 1, 24, 6, 1, 3, 7, 2, 3, 33, 3, 3, 18, 1, 11, 1, 1, 1, 10, 5, 3, 1, 2, 2, 4, 1, 2, 73, 1, 32, 1, 1, 19, 6, 3, 1, 1, 1, 6, 18, 1, 1, 3, 1, 9, 1, 2, 3, 2, 3, 2, 3, 22, 3, 3, 1, 1, 2, 2, 1, 1, 3, 1, 1, 7, 22, 11, 2, 1, 3, 70, 15, 1, 2, 3, 4, 7, 3, 5, 1, 1, 18, 1, 1, 1, 13, 7, 1, 5, 3, 1, 52, 23, 2, 1, 6, 2, 1, 10, 1, 2, 3, 14, 1, 6, 87, 1, 44, 6, 1, 8, 3, 6, 5, 7, 2, 8, 23, 3, 95, 73, 40, 1, 11, 17, 3, 9, 7, 3, 13, 3, 1, 2, 5, 2, 2, 3, 1, 4, 2, 2, 1, 15, 3, 9, 1, 3, 2, 28, 7, 46, 12, 3, 12, 7, 22, 3, 16, 8, 4, 1, 4, 1, 16, 3, 4, 2, 6, 154, 6, 168, 13, 8, 15, 1, 2, 3, 1, 7, 1, 1, 1, 10, 5, 2, 1, 2, 14, 2, 1, 13, 12, 1, 2, 29, 2, 5, 4, 2, 6, 2, 2, 37, 2, 5, 9, 17, 2, 4, 1, 1, 1, 1, 15, 6, 2, 1, 46, 4, 10, 1, 12, 1, 15, 22, 1, 10, 2, 1, 1, 4, 5, 3, 9, 14, 17, 7, 16, 1, 4, 5, 8, 1, 4, 1, 11, 10, 5, 1, 35, 5, 39, 1, 21, 1, 7, 38, 4, 4, 81, 1, 27, 1, 11, 1, 9, 1, 1, 8, 1, 2, 2, 33, 6, 3, 3, 308, 1, 20, 8, 25, 2, 10, 19, 1, 7, 8, 1, 1, 2, 7, 41, 1, 2, 13, 1, 1, 2, 4, 18, 1, 5, 3, 3, 2, 8, 1, 2, 1, 3, 3, 2, 3, 2, 6, 11, 4, 79, 5, 6, 1, 2, 1, 6, 3, 2, 2, 7, 7, 4, 1, 3, 28, 4, 26, 40, 14, 1, 10, 1, 2, 3, 6, 6, 16, 1, 1, 1, 18, 1, 46, 8, 2, 1, 2, 1, 1, 3, 2, 2, 5, 5, 9, 7, 20, 3, 1, 2, 1, 2, 2, 4, 9, 1, 7, 1, 4, 1, 1, 1, 3, 4, 1, 11, 1, 1, 4, 3, 4, 2, 2, 75, 2, 1, 10, 2, 1, 4, 5, 1, 3, 3, 6, 7, 7, 1, 7, 1, 5, 13, 1, 1, 1, 2, 3, 30, 1, 17, 5, 2, 3, 65, 7, 9, 1, 13, 13, 4, 3, 3, 100, 2, 2, 47, 12, 1, 6, 4, 8, 1, 3, 9, 8, 2, 9, 13, 3, 6, 4, 2, 2, 4, 2, 1, 2, 1, 12, 47, 2, 3, 13, 1, 20, 2, 3, 4, 2, 8, 1, 2, 4, 19, 50, 6, 3, 2, 1, 3, 1, 360, 1, 1, 2, 1, 1, 1, 3, 5, 1, 13, 3, 1, 1, 4, 1, 15, 8, 5, 1, 8, 1, 10, 11, 3, 54, 13, 3, 1, 1, 37, 20, 2, 1, 1, 8, 1, 5, 12, 2, 28, 1, 1, 1, 29, 3, 7, 1, 24, 3, 1, 44, 24, 1, 9, 8, 3, 4, 1, 5, 4, 8, 2, 1, 16, 1, 2, 1, 1, 6, 33, 53, 2, 1, 23, 1, 4, 3, 12, 3, 2, 2, 121, 2, 2, 1, 1, 2, 1, 6, 1, 4, 1, 5, 4, 4, 4, 2, 9, 26, 15, 5, 10, 11, 3, 9, 3, 2, 10, 1, 9, 6, 23, 2, 3, 1, 3, 1, 3, 1, 2, 1, 2, 2, 7, 1, 61, 2, 6, 11, 2, 12, 2, 6, 3, 1, 3, 1, 1, 29, 7, 6, 1, 13, 1, 2, 2, 3, 2, 5, 3, 1, 10, 4, 66, 1, 11, 7, 8, 6, 19, 27, 2, 1, 2, 2, 10, 5, 1, 2, 16, 1, 8, 5, 6, 2, 1, 1, 4, 1, 1, 32, 1, 3, 3, 6, 6, 2, 7, 16, 2, 10, 1, 10, 1, 3, 3, 23, 2, 3, 49, 10, 1, 15, 6, 9, 2, 4, 33, 2, 2, 3, 2, 6, 5, 11, 1, 6, 1, 14, 1, 4, 1, 3, 1, 2, 9, 43, 1, 198, 1, 16, 2, 14, 1, 3, 3, 1, 1, 3, 2, 15, 5, 1, 5, 5, 1, 32, 9, 35, 3, 5, 1, 2, 1, 233, 2, 9, 10, 2, 4, 1, 2, 19, 13, 2, 24, 1, 1, 5, 6, 4, 1, 7, 31, 5, 4, 3, 3, 12, 6, 2, 1, 13, 1, 4, 14, 2, 6, 3, 1, 3, 1, 1, 10, 46, 6, 33, 2, 32, 2, 14, 3, 10, 9, 1, 1, 6, 3, 13, 6, 1, 1, 11, 1, 12, 1, 22, 1, 1, 23, 17, 14, 5, 3, 3, 2, 4, 1, 2, 2, 3, 1, 1, 1, 2, 2, 1, 1, 2, 2, 1, 3, 1, 1, 1, 1, 2, 10, 38, 3, 1, 19, 2, 2, 2, 3, 9, 1, 3, 7, 6, 4, 12, 11, 1, 6, 1, 10, 58, 5, 16, 1, 1, 7, 1, 2, 1, 3, 4, 1, 3, 51, 1, 2, 4, 4, 1, 1, 6, 3, 3, 30, 3, 8, 112, 53, 1, 2, 3, 3, 1, 1, 63, 1, 12, 1, 5, 6, 4, 34, 1, 4, 1, 4, 8, 1, 1, 1, 1, 2, 1, 42, 2, 39, 3, 92, 1, 7, 3, 2, 1, 1, 1, 1, 6, 54, 12, 3, 3, 38, 1, 1, 2, 1, 2, 12, 3, 2, 4, 1, 2, 5, 3, 3, 1, 2, 51, 1, 5, 1, 1, 14, 3, 1, 4, 23, 1, 6, 4, 9, 1, 23, 2, 6, 2, 11, 76, 1, 1, 2, 2, 1, 9, 7, 1, 5, 1, 1, 6, 30, 1, 2, 4, 3, 8, 1, 1, 4, 7, 1, 1, 15, 1, 4, 1, 9, 25, 9, 6, 25, 2, 1, 4, 11, 1, 1, 7, 2, 15, 16, 9, 18, 11, 4, 1, 50, 17, 1, 1, 9, 10, 1, 21, 1, 7, 8, 9, 1, 17, 1, 2, 10, 4, 3, 6, 3, 4, 1, 2, 23, 3, 32, 13, 1, 1, 91, 3, 1, 3, 2, 3, 12, 1, 26, 2, 4, 1341, 2, 3, 1, 8, 1, 14, 4, 11, 5, 2, 13, 3, 2, 1, 7, 1, 1, 3, 6, 2, 6, 5, 3, 8, 1, 13, 1, 13, 1, 5, 1, 7, 1, 5, 1, 1, 2, 14, 1, 4, 2, 1, 3, 16, 71, 2, 7, 7, 1, 28, 1, 4, 1, 1, 13, 1, 2, 1, 23, 1, 13, 1, 3, 5, 1, 10, 1, 1, 2, 2, 31, 1, 9, 8, 3, 2, 11, 3, 1, 1, 3, 5, 1, 5, 3, 1, 1, 3, 5, 1, 21, 11, 1, 11, 9, 4, 1, 1, 1, 5, 1, 8, 1, 63, 22, 3, 19, 7, 3, 4, 2, 23, 6, 1, 4, 6, 12, 3, 1, 8, 9, 5, 36, 7, 2, 4, 9, 2, 6, 21, 1, 32, 4, 10, 1, 3, 5, 7, 31, 3, 7, 105, 13, 26, 1, 2, 12, 1, 1, 1, 3, 9, 3, 1, 238, 23, 6, 1, 20, 6, 1, 6, 1, 2, 1, 1, 12, 1, 1, 6, 3, 5, 5, 11, 2, 1, 5, 10, 14, 8, 1, 10, 1, 8, 13, 4, 2, 6, 1, 1, 2, 2, 19, 113, 2, 4, 2, 1, 1, 3, 3, 3, 1, 4, 18, 1, 3, 3, 1, 6, 1, 2, 6, 1, 3, 4, 1, 2, 7, 13, 2, 2, 4, 14, 28, 4, 3, 5, 7, 51, 4, 3, 15, 1, 6, 1, 23, 3, 1, 2, 4, 3, 3, 1, 28, 2, 37, 1, 35, 3, 2, 37, 11, 2, 1, 1, 3, 1, 7, 24, 2, 1, 1, 11, 11, 1, 1, 2, 2, 1, 1, 3, 11, 39, 1, 2, 19, 1, 62, 1, 3, 10, 1, 10, 12, 13, 1, 2, 1, 6, 3, 8, 2, 9, 3, 1, 1, 2, 118, 1, 1, 1, 2, 2, 1, 50, 1, 40, 30, 8, 6, 1, 1, 1, 1, 3, 2, 7, 1, 3, 11, 1, 3, 5, 1, 1, 4, 1, 11, 27, 7, 2, 1, 1, 12, 4, 6, 5, 3, 3, 1, 29, 1, 73, 12, 5, 14, 4, 5, 9, 4, 22, 1, 6, 37, 3, 1, 29, 35, 1, 6, 16, 5, 6, 2, 40, 2, 11, 1, 1, 1, 1, 1, 1, 9, 6, 5, 3, 4, 1, 73, 7, 3, 2, 9, 2, 6, 1, 3, 4, 2, 2, 17, 135, 1, 1, 3, 2, 31, 1, 10, 8, 2, 2, 5, 20, 2, 1, 2, 1, 1, 1, 1, 3, 1, 1, 2, 29, 5, 15, 41, 51, 3, 23, 3, 3, 3, 9, 1, 1, 45, 15, 4, 7, 11, 11, 1, 1, 3, 2, 1, 1, 1, 1, 31, 7, 14, 2, 122, 1, 16, 4, 3, 7, 4, 1, 1, 1, 9, 2, 8, 6, 1, 1, 143, 1, 7, 17, 1, 2, 15, 12, 1, 3, 1, 2, 27, 3, 3, 3, 9, 1, 6, 25, 6, 3, 230, 2, 1, 2, 1, 2, 3, 10, 11, 1, 20, 1, 14, 2, 44, 1, 10, 2, 1, 15, 15, 11, 1, 9, 1, 28, 2, 2, 2, 1, 11, 1, 1, 8, 3, 16, 6, 1, 7, 2, 11, 30, 4, 15, 2, 9, 1, 1, 1, 12, 5, 4, 1, 6, 13, 1, 2, 11, 2, 10, 2, 1, 1, 5, 32, 7, 1, 11, 5, 1, 3, 7, 1, 27, 5, 1, 6, 2, 5, 1, 1, 4, 1, 1, 3, 5, 9, 4, 2, 11, 10, 10, 22, 1, 31, 2, 9, 20, 3, 4, 7, 1, 1, 10, 31, 4, 2, 6, 9, 2, 7, 30, 4, 1, 17, 4, 4, 33, 3, 13, 4, 8, 4, 1, 11, 1, 1, 1, 4, 9, 1, 133, 1, 19, 1, 2, 2, 4, 49, 4, 1, 14, 2, 10, 3, 5, 20, 1, 1, 3, 10, 2, 2, 5, 2, 1, 14, 2, 5, 1, 15, 1, 1, 4, 15, 3, 5, 1, 20, 19, 7, 2, 5, 2, 9, 21, 15, 7, 2, 2, 1, 5, 2, 3, 4, 3, 1, 6, 4, 1, 19, 18, 8, 1, 12, 7, 2, 2, 2, 10, 3, 1, 6, 3, 1, 43, 12, 3, 1, 3, 4, 7, 12, 4, 3, 1, 3, 2, 2, 37, 12, 2, 8, 1, 3, 3, 12, 7, 2, 3, 1, 5, 1, 16, 7, 5, 1, 1, 10, 5, 1, 27, 1, 5, 3, 2, 3, 40, 1, 9, 13, 12, 2, 7, 3, 8, 4, 8, 1, 7, 4, 2, 2, 6, 2, 1, 1, 1, 2, 1, 10, 1, 9, 3, 2, 2, 1, 12, 14, 7, 5, 1, 2, 4, 10, 15, 7, 109, 2, 9, 18, 7, 1, 82, 6, 1, 2, 25, 4, 3, 1, 4, 3, 1, 3, 1, 2, 19, 17, 2, 2, 1, 3, 55, 2, 1, 11, 3, 1, 1, 3, 3, 162, 1, 7, 5, 2, 29, 3, 7, 1, 17, 4, 58, 3, 1, 1, 1, 1, 4, 1, 2, 14, 3, 8, 3, 76, 1, 5, 6, 8, 6, 5, 30, 9, 18, 3, 2, 1, 2, 47, 2, 5, 4, 19, 31, 2, 6, 21, 4, 1, 1, 1, 1, 1, 7, 1, 1, 3, 38, 1, 1, 1, 4, 2, 6, 5, 1, 5, 9, 1, 4, 1, 6, 1, 74, 9, 2, 14, 4, 1, 2, 1, 6, 3, 1, 2, 3, 1, 4, 3, 13, 1, 19, 6, 28, 5, 1, 4, 8, 2, 9, 2, 3, 1, 1, 40, 5, 1, 2, 7, 6, 1, 1, 3, 4, 46, 18, 2, 14, 2, 2, 354, 1, 1, 13, 3, 2, 8, 1, 1, 9, 49, 30, 13, 2, 4, 5, 8, 1, 20, 2, 2, 5, 5, 6, 16, 2, 1, 1, 4, 1, 2, 4, 6, 3, 2, 1, 1, 6, 24, 1, 14, 18, 10, 28, 3, 1, 2, 1, 17, 3, 1, 1, 1, 8, 1, 26, 14, 4, 2, 36, 2, 1, 1, 2, 10, 2, 3, 5, 15, 1, 9, 8, 13, 4, 48, 1, 3, 5, 5, 1, 8, 1, 1, 1, 2, 3, 1, 62, 1, 3, 1, 7, 6, 17, 1, 5, 9, 1, 1, 6, 1, 79, 2, 1, 7, 3, 5, 5, 2, 22, 1, 1, 6, 1, 2, 7, 2, 54, 1, 2, 1, 1, 4, 3, 1, 141, 1, 1, 5, 1, 1, 1, 1, 7, 3, 18, 8, 2, 1, 8, 2, 6, 2, 1, 6, 1, 11, 2, 5, 4, 4, 1, 19, 1, 6, 18, 2, 5, 49, 11, 40, 1, 7, 6, 6, 6, 1, 3, 8, 1, 1, 9, 12, 1, 3, 3, 4, 1, 2, 1, 1, 1, 31, 1, 32, 1, 10, 9, 3, 1, 4, 6, 30, 3, 2, 1, 3, 1, 27, 1, 5, 4, 14, 28, 2, 1, 8, 6, 3, 8, 6, 1, 3, 4, 4, 6, 17, 2, 4, 2, 2, 2, 1, 1, 1, 2, 11, 1, 10, 1, 16, 126, 1, 7, 3, 4, 1, 6, 28, 3, 19, 12, 1, 9, 4, 1, 3, 1, 1, 27, 1, 1, 5, 5, 1, 1, 1, 1, 6, 3, 24, 5, 20, 7, 9, 6, 23, 42, 3, 4, 1, 9, 4, 1, 1, 7, 4, 3, 1, 2, 12, 16, 1, 4, 3, 3, 1, 1, 1, 3, 7, 5, 5, 1, 1, 3, 61, 10, 4, 2, 11, 9, 1, 6, 1, 7, 2, 1, 2, 1, 40, 10, 15, 2, 1, 1, 3, 1, 26, 4, 2, 1, 20, 4, 26, 3, 1, 40, 1, 1, 5, 4, 1, 3, 2, 8, 13, 5, 1, 7, 1, 6, 6, 1, 4, 8, 31, 3, 3, 13, 28, 9, 5, 1, 12, 17, 1, 1, 6, 16, 3, 1, 7, 8, 11, 3, 5, 4, 5, 6, 1, 3, 6, 2, 1, 2, 4, 54, 6, 5, 20, 3, 1, 1, 24, 3, 13, 1, 1, 1, 1, 7, 2, 1, 8, 1, 8, 1, 1, 3, 1, 13, 35, 1, 9, 1, 1, 1, 1, 1, 21, 7, 1, 8, 1, 1, 19, 2, 240, 38, 32, 12, 4, 6, 2, 7, 2, 10, 2, 1, 1, 5, 1, 1, 2, 3, 1, 7, 50, 1, 8, 68, 1, 2, 2, 4, 1, 14, 8, 2, 3, 19, 9, 36, 2, 11, 1, 6, 3, 1, 1, 1, 2, 11, 2, 2, 4, 1, 25, 1, 4, 3, 3, 3, 1, 4, 18, 1, 2, 3, 2, 81, 2, 40, 6, 1, 1, 5, 2, 3, 6, 2, 7, 1, 17, 1, 3, 8, 48, 2, 8, 2, 22, 3, 2, 1, 16, 1, 41, 6, 8, 5, 1, 1, 1, 2, 1, 1, 2, 4, 6, 1, 4, 7, 2, 1, 2, 24, 1, 3, 2, 10, 2, 13, 4, 1, 1, 38, 6, 2, 3, 5, 1, 1, 1, 1, 5, 9, 1, 3, 5, 1, 1, 7, 7, 28, 1, 1, 5, 3, 78, 1, 2, 1, 35, 18, 1, 1, 15, 4, 1, 2, 30, 31, 1, 17, 20, 4, 6, 5, 4, 22, 1, 1, 5, 7, 2, 1, 2, 1, 26, 1, 6, 2, 2, 1, 2, 27, 1, 2, 2, 1, 82, 2, 2, 5, 4, 6, 9, 5, 11, 1, 41, 2, 8, 6, 2, 1, 2, 5, 1, 1, 1, 4, 8, 2, 3, 1, 2, 2, 5, 15, 4, 1, 1, 3, 1, 6, 1, 1, 28, 10, 1, 1, 12, 28, 1, 5, 15, 4, 1, 2, 7, 1, 4, 3, 14, 2, 1, 3, 10, 1, 1, 1, 4, 3, 156, 4, 2, 10, 7, 1, 20, 8, 4, 12, 8, 4, 13, 22, 186, 1, 1, 3, 6, 1, 3, 1, 1, 1, 1, 1, 29, 27, 1, 88, 47, 2, 1, 1, 1, 8, 4, 4, 3, 12, 1, 2, 5, 5, 1, 8, 1, 1, 2, 5, 2, 5, 12, 1, 6, 5, 2, 3, 5, 9, 2, 1, 15, 1, 3, 1, 1, 1, 2, 8, 1, 3, 3, 4, 1, 21, 6, 12, 34, 4, 8, 11, 7, 8, 1, 15, 1, 13, 3, 1, 7, 1, 5, 16, 11, 6, 16, 5, 5, 20, 4, 28, 21, 7, 2, 7, 3, 6, 1, 3, 2, 1, 3, 1, 15, 2, 10, 7, 2, 1, 1, 2, 1, 9, 8, 1, 1, 1, 1, 2, 3, 1, 1, 1, 1, 1, 1, 1, 1, 64, 1, 1, 1, 1, 24, 38, 1, 2, 3, 2, 12, 5, 2, 12, 1, 1, 1, 15, 9, 1, 2, 1, 3, 5, 1, 3, 25, 1, 2, 2, 4, 15, 2, 1, 19, 4, 4, 10, 3, 10, 1, 6, 2, 3, 3, 4, 1, 1, 29, 33, 15, 3, 16, 9, 6, 1, 10, 1, 3, 3, 9, 2, 1, 1, 5, 4, 7, 24, 19, 10, 12, 1, 3, 1, 3, 7, 2, 2, 41, 53, 2, 2, 51, 4, 1, 1, 2, 1, 2, 1, 1, 1, 3, 5, 232, 2, 2, 5, 2, 10, 3, 1, 2, 1, 14, 5, 3, 1, 1, 7, 1, 1, 1, 6, 10, 3, 2, 7, 1, 7, 40, 2, 12, 1, 1, 3, 28, 1, 1, 11, 3, 1, 3, 1, 2, 1, 1, 27, 3, 66, 3, 8, 4, 3, 2, 3, 29, 2, 2, 5, 7, 5, 1, 5, 23, 14, 3, 14, 80, 2, 1, 9, 27, 1, 5, 2, 8, 3, 11, 1, 9, 6, 4, 1, 11, 8, 5, 9, 8, 1, 1, 32, 1, 3, 2, 1, 1, 35, 2, 26, 6, 2, 1, 3, 1, 3, 15, 1, 20, 4, 4, 14, 1, 7, 1, 2, 1, 17, 53, 1, 1, 9, 15, 1, 1, 8, 4, 1, 5, 7, 153, 17, 45, 9, 1, 9, 1, 2, 1, 1, 3, 4, 9, 19, 1, 2, 3, 1, 2, 3, 60, 4, 8, 6, 2, 1, 23, 1, 9, 1, 1, 2, 5, 4, 9, 10, 12, 7, 7, 1, 1, 2, 26, 5, 34, 1, 12, 1, 1, 4, 2, 13, 25, 3, 10, 1, 19, 1, 53, 2, 1, 4, 7, 26, 1, 12, 1, 3, 1, 3, 3, 1, 2, 1, 3, 2, 10, 12, 27, 2, 63, 1, 2, 3, 1, 1, 1, 21, 2, 2, 1, 2, 2, 1, 2, 1, 1, 1, 3, 3, 9, 8, 4, 3, 8, 19, 1, 6, 16, 4, 3, 1, 1, 5, 1, 5, 4, 4, 3, 1, 2, 2, 10, 10, 2, 8, 7, 3, 3, 1, 2, 4, 2, 4, 2, 1, 1, 3, 9, 7, 1, 16, 2, 1, 1, 11, 1, 1, 3, 1, 18, 48, 2, 11, 1, 4, 10, 9, 14, 1, 1, 1, 3, 9, 1, 25, 1, 1, 1, 2, 1, 1, 4, 1, 1, 13, 88, 58, 1, 1, 13, 2, 1, 1, 12, 2, 36, 1, 78, 5, 66, 3, 8, 1, 1, 9, 1, 1, 1, 2, 1, 7, 23, 4, 17, 123, 1, 1, 6, 10, 6, 1, 5, 1, 3, 114, 1, 1, 2, 1, 34, 51, 8, 1, 4, 11, 1, 35, 1, 1, 1, 9, 2, 4, 7, 1, 1, 2, 1, 1, 1, 7, 2, 1, 5, 1, 32, 57, 50, 8, 13, 1, 4, 7, 1, 1, 123, 8, 1, 5, 1, 5, 1, 27, 3, 1, 2, 1, 11, 8, 8, 2, 1, 10, 78, 1, 6, 1, 2, 1, 10, 2, 1, 3, 4, 1, 1, 3, 1, 3, 1, 2, 18, 16, 20, 1, 1, 1, 1, 1, 6, 2, 11, 1, 7, 4, 1, 4, 1, 8, 1, 1, 3, 7, 1, 2, 4, 1, 14, 1, 8, 448, 7, 1, 2, 24, 2, 14, 1, 8, 1, 6, 2, 4, 1, 25, 1, 1, 1, 1, 7, 2, 1, 36, 9, 1, 1, 4, 1, 19, 2, 4, 2, 15, 8, 1, 1, 33, 294, 42, 1, 1, 12, 1, 3, 1, 9, 4, 1, 2, 14, 1, 36, 3, 3, 33, 4, 1, 52, 1, 1, 1, 15, 1, 9, 3, 11, 15, 8, 2, 3, 1, 4, 26, 4, 1, 5, 4, 8, 19, 2, 3, 43, 2, 5, 137, 3, 14, 1, 3, 1, 4, 29, 16, 5, 7, 1, 1, 1, 49, 1, 5, 3, 3, 19, 1, 1, 3, 11, 16, 24, 2, 2, 38, 40, 1, 1, 5, 8, 6, 9, 4, 9, 1, 65, 8, 1, 2, 1, 4, 2, 1, 1, 1, 1, 2, 1, 2, 1, 1, 1, 9, 1, 21, 12, 7, 3, 5, 2, 60, 10, 2, 1, 3, 2, 4, 4, 3, 3, 17, 19, 2, 25, 1, 7, 21, 4, 4, 16, 1, 1, 1, 1, 9, 8, 1, 152, 3, 1, 6, 2, 1, 3, 2, 1, 1, 9, 1, 3, 16, 3, 1, 1, 143, 2, 6, 9, 5, 16, 2, 2, 3, 28, 8, 5, 3, 37, 14, 7, 4, 6, 24, 1, 13, 19, 3, 19, 7, 34, 1, 1, 3, 3, 81, 3, 1, 1, 1, 1, 1, 1, 32, 4, 2, 4, 7, 8, 9, 8, 17, 1, 10, 5, 20, 2, 1, 1, 10, 10, 8, 153, 2, 18, 1, 1, 20, 7, 3, 7, 2, 4, 3, 3, 2, 2, 18, 14, 8, 55, 1, 5, 1, 1, 4, 1, 4, 8, 3, 4, 3, 13, 2, 10, 13, 1, 7, 6, 1, 2, 9, 3, 7, 9, 4, 3, 26, 3, 1, 1, 3, 1, 39, 1, 1, 1, 5, 8, 3, 3, 21, 34, 2, 8, 1, 1, 1, 2, 10, 3, 9, 3, 5, 7, 13, 2, 2, 1, 1, 2, 5, 1, 2, 45, 6, 1, 28, 21, 9, 1, 1, 7, 1, 10, 1, 1, 13, 1, 3, 5, 55, 2, 2, 1, 6, 1, 3, 2, 2, 1, 6, 3, 7, 10, 8, 2, 31, 1, 26, 3, 4, 12, 62, 9, 18, 1, 1, 9, 2, 2, 1, 18, 1, 1, 13, 6, 10, 23, 5, 9, 3, 7, 23, 1, 6, 3, 1, 52, 1, 1, 1, 1, 27, 1, 4, 41, 1, 1, 1, 10, 2, 8, 1, 5, 5, 1, 1, 3, 48, 2, 1, 1, 2, 23, 4, 1, 5, 17, 25, 1, 8, 1, 10, 2, 21, 2, 2, 1, 1, 5, 6, 7, 1, 1, 4, 7, 6, 4, 8, 8, 8, 7, 5, 2, 1, 2, 2, 18, 6, 3, 5, 3, 1, 5, 3, 1, 1, 56, 1, 3, 3, 1, 8, 5, 5, 1, 1, 1, 8, 4, 1, 3, 3, 1, 3, 35, 2, 2, 1, 5, 3, 1, 31, 3, 1, 2, 41, 2, 2, 1, 9, 12, 1, 1, 3, 4, 10, 22, 7, 4, 17, 5, 1, 1, 11, 12, 2, 5, 7, 7, 73, 55, 11, 1, 2, 4, 13, 18, 2, 6, 12, 2, 2, 1, 4, 1, 3, 1, 59, 1, 6, 73, 115, 3, 7, 7, 2, 1, 6, 13, 1, 9, 4, 2, 1, 2, 12, 2, 5, 20, 9, 6, 3, 1, 3, 1, 1, 2, 4, 17, 1, 1, 4, 1, 3, 1, 1, 7, 1, 13, 9, 4, 3, 1, 4, 2, 1, 23, 2, 6, 1, 7, 4, 2, 5, 13, 13, 1, 2, 2, 1, 1, 296, 6, 11, 7, 10, 2, 1, 2, 5, 2, 1, 14, 1, 1, 33, 1, 12, 1, 3, 4, 3, 3, 1, 1, 8, 22, 6, 1, 1, 1, 2, 2, 14, 10, 4, 2, 1, 1, 1, 5, 6, 47, 6, 30, 1, 18, 3, 2, 12, 6, 37, 14, 3, 1, 2, 51, 6, 54, 19, 3, 2, 5, 2, 1, 6, 1, 11, 4, 2, 28, 28, 1, 7, 15, 1, 17, 8, 1, 2, 22, 9, 2, 1, 3, 3, 2, 2, 2, 1, 10, 8, 4, 8, 1, 66, 4, 1, 1, 24, 11, 2, 1, 1, 5, 7, 1, 7, 1, 153, 3, 1, 7, 28, 1, 3, 1, 3, 5, 6, 3, 2, 1, 19, 34, 3, 18, 10, 6, 5, 1, 6, 4, 11, 1, 1, 1, 2, 4, 4, 5, 12, 5, 55, 4, 1, 10, 20, 1, 2, 5, 2, 1, 1, 27, 36, 6, 2, 5, 4, 11, 1, 2, 4, 1, 3, 22, 16, 1, 4, 1, 2, 1, 1, 27, 2, 29, 3, 9, 3, 10, 3, 11, 28, 10, 32, 1, 216, 4, 2, 2, 1, 5, 5, 12, 3, 1, 12, 1, 1, 3, 17, 5, 160, 7, 2, 2, 108, 11, 7, 35, 2, 14, 25, 3, 21, 13, 4, 1, 5, 2, 16, 2, 3, 2, 10, 9, 9, 3, 4, 5, 14, 1, 1, 2, 18, 3, 2, 6, 1, 1, 1, 9, 21, 11, 2, 1, 3, 1, 3, 6, 13, 2, 1, 11, 40, 6, 6, 3, 76, 2, 1, 1, 1, 27, 1, 1, 1, 2, 23, 48, 3, 1, 12, 11, 5, 33, 27, 18, 3, 35, 5, 2, 3, 11, 2, 8, 1, 1, 32, 1, 4, 2, 1, 1, 308, 7, 31, 1, 4, 2, 1, 9, 1, 3, 14, 48, 1, 4, 9, 1, 1, 4, 174, 1, 5, 3, 6, 13, 3, 2, 1, 1, 2, 6, 1, 2, 2, 27, 22, 2, 1, 1, 2, 13, 2, 3, 5, 1, 2, 8, 1, 10, 4, 1, 30, 4, 6, 1, 2, 21, 40, 6, 1, 1, 1, 4, 2, 19, 1, 2, 5, 3, 1, 25, 1, 2, 1, 2, 23, 2, 6, 3, 5, 13, 4, 32, 1, 1, 2, 6, 4, 1, 3, 2, 1, 1, 1, 1, 1, 3, 8, 1, 17, 6, 1, 4, 12, 2, 21, 5, 5, 2, 4, 2, 64, 9, 10, 1, 1, 9, 1, 1, 2, 1, 1, 6, 10, 3, 3, 12, 15, 16, 2, 2, 4, 1, 1, 1, 1, 4, 1, 2, 44, 1, 27, 11, 1, 9, 2, 9, 3, 32, 1, 5, 15, 1, 3, 4, 1, 33, 24, 10, 22, 27, 22, 30, 1, 13, 34, 5, 4, 1, 1, 4, 1, 1, 1, 2, 19, 4, 2, 5, 5, 4, 23, 1, 4, 1, 59, 3, 3, 1, 2, 3, 2, 17, 8, 1, 20, 5, 3, 3, 6, 2, 29, 4, 12, 17, 1, 4, 4, 1, 12, 1, 5, 22, 39, 2, 28, 1, 6, 8, 1, 1, 11, 17, 12, 1, 2, 3, 15, 2, 2, 1, 1, 3, 1, 13, 34, 3, 1, 12, 12, 1, 1, 1, 8, 1, 3, 1, 2, 2, 59, 2, 2, 2, 5, 9, 1, 4, 1, 3, 2, 1, 30, 97, 1, 15, 6, 4, 3, 2, 3, 10, 3, 6, 1, 7, 3, 13, 1, 23, 6, 1, 1, 1, 4, 1, 3, 1, 3, 2, 2, 1, 23, 2, 26, 1, 1, 1, 3, 11, 1, 2, 3, 10, 14, 3, 1, 1, 1, 17, 7, 1, 2, 1, 1, 7, 1, 1, 6, 1, 1, 1, 1, 6, 2, 2, 5, 1, 6, 1, 3, 6, 1, 2, 1, 8, 18, 20, 19, 6, 3, 2, 18, 1, 1, 2, 7, 2, 3, 20, 4, 8, 1, 1, 2, 1, 3, 3, 1, 64, 2, 1, 1, 16, 28, 6, 4, 3, 19, 6, 3, 9, 1, 25, 7, 6, 18, 4, 85, 29, 9, 1, 1, 8, 6, 1, 35, 5, 1, 1, 8, 1, 1, 1, 1, 1, 9, 21, 21, 138, 10, 3, 4, 1, 1, 1, 1, 1, 97, 18, 2, 3, 9, 1, 3, 2, 1, 30, 1, 7, 14, 1, 4, 6, 16, 6, 7, 2, 2, 85, 2, 4, 2, 1, 8, 2, 1, 3, 10, 2, 22, 10, 1, 5, 3, 59, 1, 1, 4, 1, 5, 7, 9, 1, 7, 2, 4, 2, 3, 7, 1, 2, 9, 12, 12, 1, 16, 14, 1, 6, 21, 2, 46, 4, 10, 1, 4, 3, 1, 3, 5, 2, 1, 1, 3, 1, 1, 32, 3, 13, 2, 5, 17, 2, 1, 1, 2, 1, 1, 1, 4, 1, 1, 2, 1, 5, 1, 4, 32, 3, 9, 1, 26, 4, 26, 1, 4, 7, 53, 35, 1, 1, 1, 1, 2, 21, 2, 3, 20, 2, 1, 22, 1, 1, 2, 1, 8, 8, 2, 7, 14, 2, 2, 5, 1, 3, 1, 5, 25, 2, 3, 1, 62, 8, 15, 2, 4, 1, 3, 1, 8, 2, 1, 1, 1, 7, 1, 1, 1, 1, 2, 4, 4, 5, 1, 12, 3, 4, 2, 1, 4, 1, 4, 1, 1, 2, 2, 1, 5, 1, 5, 1, 5, 1, 7, 1, 13, 2, 8, 5, 2, 3, 1, 2, 17, 1, 14, 1, 2, 137, 12, 2, 4, 5, 4, 23, 1, 2, 7, 1, 1, 4, 26, 3, 3, 6, 1, 4, 2, 4, 2, 3, 47, 17, 1, 7, 7, 9, 3, 2, 1, 12, 2, 6, 4, 1, 4, 6, 1, 1, 43, 13, 7, 22, 4, 37, 2, 1, 1, 1, 1, 1, 5, 1, 8, 9, 11, 10, 2, 8, 2, 1, 3, 1, 1, 2, 4, 1, 6, 3, 1, 73, 8, 1, 20, 3, 8, 30, 1, 5, 2, 4, 12, 11, 1, 1, 1, 2, 3, 1, 6, 25, 5, 3, 6, 1, 2, 7, 2, 16, 8, 2, 146, 2, 8, 24, 1, 1, 17, 21, 39, 2, 60, 1, 5, 5, 1, 5, 1, 3, 1, 3, 22, 10, 2, 1, 19, 3, 6, 20, 5, 3, 10, 4, 58, 28, 14, 3, 25, 3, 1, 2, 3, 15, 1, 1, 2, 14, 6, 3, 4, 19, 13, 25, 2, 2, 15, 7, 215, 1, 3, 31, 20, 3, 2, 21, 24, 6, 1, 1, 2, 4, 22, 28, 10, 18, 4, 1, 1, 1, 13, 4, 1, 13, 4, 5, 2, 1, 11, 1, 10, 15, 28, 1, 13, 1, 13, 5, 1, 25, 2, 1, 1, 43, 2, 1, 1, 2, 4, 1, 1, 10, 8, 1, 13, 16, 7, 1, 18, 30, 19, 20, 1, 42, 6, 4, 1, 38, 8, 1, 8, 6, 9, 1, 1, 9, 1, 1, 6, 5, 6, 31, 2, 5, 1, 4, 9, 9, 20, 1, 4, 1, 9, 9, 13, 4, 2, 1, 1, 49, 5, 59, 1, 1, 1, 50, 3, 3, 1, 7, 3, 2, 1, 26, 35, 1, 6, 2, 12, 2, 1, 1, 1, 5, 8, 8, 25, 9, 1, 3, 1, 2, 7, 5, 1, 23, 8, 2, 1, 5, 1, 1, 1, 1, 1, 1, 1, 4, 10, 4, 7, 12, 1, 6, 19, 3, 4, 7, 4, 8, 1, 9, 30, 1, 2, 1, 1, 3, 1, 7, 8, 6, 2, 21, 44, 7, 1, 3, 3, 1, 5, 1, 1, 1, 2, 1, 2, 3, 11, 1, 16, 4, 11, 3, 10, 2, 30, 1, 3, 4, 9, 5, 74, 3, 1, 3, 2, 1, 3, 10, 2, 3, 25, 1, 1, 12, 4, 26, 1, 3, 1, 6, 3, 24, 1, 24, 3, 7, 1, 6, 22, 2, 5, 3, 6, 11, 23, 8, 4, 2, 6, 1, 1, 133, 8, 3, 5, 1, 4, 1, 7, 39, 12, 1, 5, 1, 5, 4, 2, 1, 9, 2, 1, 44, 12, 4, 41, 1, 16, 1, 2, 6, 8, 13, 1, 6, 3, 4, 10, 8, 4, 12, 5, 15, 29, 3, 1, 5, 6, 6, 5, 4, 2, 16, 14, 1, 32, 3, 5, 1, 49, 1, 9, 1, 1, 1, 7, 6, 2, 1, 8, 1, 8, 4, 1, 25, 2, 7, 4, 2, 1, 15, 10, 2, 1, 1, 1, 2, 151, 4, 3, 3, 25, 5, 1, 2, 1, 22, 2, 6, 1, 5, 1, 1, 2, 1, 3, 14, 1, 1, 1, 8, 7, 29, 4, 1, 2, 18, 2, 14, 1, 9, 9, 1, 5, 1, 2, 1, 8, 1, 2, 6, 1, 7, 7, 7, 8, 3, 1, 11, 2, 2, 1, 2, 2, 1, 1, 1, 3, 4, 23, 2, 5, 2, 6, 1, 3, 3, 16, 5, 4, 5, 2, 1, 1, 3, 3, 3, 21, 2, 17, 5, 1, 2, 20, 5, 1, 7, 5, 1, 2, 2, 1, 2, 13, 3, 1, 9, 31, 4, 8, 2, 6, 4, 1, 1, 55, 2, 1, 1, 1, 2, 1, 6, 1, 192, 3, 1, 2, 1, 1, 4, 18, 35, 2, 4, 3, 14, 7, 1, 53, 1, 1, 2, 1, 1, 1, 1, 1, 3, 1, 2, 1, 1, 5, 2, 5, 2, 6, 1, 3, 3, 5, 5, 1, 4, 1, 3, 1, 1, 2, 5, 13, 4, 3, 10, 1, 2, 6, 1, 1, 5, 12, 21, 1, 1, 1, 1, 2, 1, 1, 8, 1, 2, 15, 1, 2, 4, 8, 7, 1, 2, 1, 10, 15, 2, 4, 14, 1, 1, 1, 2, 1, 9, 1, 1, 1, 1, 2, 1, 1, 1, 11, 2, 1, 2, 9, 13, 1, 1, 1, 1, 2, 1, 1, 1, 1, 1, 1, 9, 4, 1, 1, 1, 1, 1, 1, 4, 5, 2, 2, 1, 3, 5, 34, 33, 1, 8, 10, 1, 2, 1, 1, 3, 2, 62, 5, 2, 1, 1, 1, 2, 2, 67, 1, 1, 7, 2, 7, 39, 2, 2, 1, 6, 56, 16, 28, 32, 1, 1, 1, 12, 18, 92, 54, 4, 28, 37, 1, 60, 8, 6, 5, 1, 1, 1, 3, 1, 37, 8, 3, 4, 1, 4, 4, 27, 10, 2, 1, 69, 10, 2, 2, 3, 2, 47, 2, 5, 4, 21, 2, 6, 7, 6, 7, 1, 2, 8, 1, 1, 29, 70, 28, 8, 3, 1, 2, 7, 2, 7, 39, 2, 7, 3, 20, 2, 1, 1, 2, 6, 1, 12, 26, 37, 9, 36, 4, 1, 3, 8, 5, 3, 16, 5, 1, 2, 2, 3, 1, 9, 2, 18, 4, 2, 1, 1, 1, 2, 1, 45, 3, 2, 1, 4, 3, 1, 6, 1, 2, 7, 7, 1, 1, 6, 4, 14, 3, 1, 12, 4, 3, 2, 4, 5, 1, 2, 7, 8, 1, 1, 2, 9, 5, 4, 31, 1, 1, 1, 1, 1, 6, 1, 2, 1, 1, 1, 1, 2, 1, 1, 3, 1, 1, 2, 1, 1, 1, 7, 1, 1, 19, 1, 3, 5, 5, 2, 5, 4, 62, 30, 14, 36, 1, 7, 1, 4, 8, 1, 26, 6, 1, 10, 3, 3, 7, 1, 1, 1, 1, 1, 11, 33, 3, 5, 8, 19, 1, 6, 6, 3, 3, 1, 26, 65, 1, 7, 1, 4, 3, 53, 1, 1, 18, 2, 9, 11, 2, 1, 1, 5, 5, 3, 2, 8, 13, 1, 1, 5, 1, 2, 18, 2, 1, 1, 4, 3, 1, 1, 3, 5, 15, 3, 1, 3, 8, 5, 3, 9, 1, 2, 5, 5, 10, 1, 3, 8, 4, 1, 4, 1, 6, 8, 2, 1, 7, 1, 2, 1, 1, 1, 6, 5, 2, 2, 43, 3, 1, 3, 1, 34, 6, 1, 1, 16, 17, 3, 5, 27, 1, 17, 1, 10, 99, 2, 1, 1, 4, 5, 22, 24, 2, 1, 18, 9, 2, 1, 2, 8, 5, 3, 1, 6, 1, 3, 9, 2, 7, 4, 3, 1, 69, 3, 2, 8, 1, 31, 2, 12, 8, 1, 1, 1, 43, 15, 33, 2, 1, 9, 1, 1, 6, 1, 25, 2, 9, 32, 1, 1, 16, 2, 7, 3, 1, 12, 1, 2, 1, 1, 18, 1, 1, 4, 10, 25, 9, 15, 25, 1, 1, 5, 28, 1, 9, 1, 1, 1, 2, 3, 1, 59, 29, 3, 1, 1, 1, 3, 8, 2, 2, 1, 7, 28, 2, 3, 5, 1, 3, 1, 3, 1, 3, 8, 1, 2, 1, 1, 6, 26, 5, 2, 3, 14, 3, 5, 1, 2, 7, 1, 3, 1, 21, 3, 1, 1, 7, 8, 9, 2, 5, 1, 9, 3, 1, 1, 6, 2, 4, 2, 6, 18, 1, 7, 1, 2, 1, 2, 5, 2, 1, 172, 13, 4, 1, 30, 3, 30, 10, 14, 1, 52, 6, 2, 6, 15, 9, 2, 17, 2, 20, 17, 19, 2, 1, 1, 1, 1, 5, 12, 7, 1, 36, 4, 1, 2, 53, 29, 2, 2, 5, 17, 12, 27, 7, 1, 1, 1, 4, 5, 1, 41, 1, 3, 4, 3, 1, 7, 47, 17, 8, 3, 2, 3, 1, 3, 3, 1, 9, 24, 18, 2, 11, 25, 6, 8, 6, 3, 1, 1, 2, 3, 4, 8, 3, 6, 9, 12, 1, 11, 2, 14, 6, 7, 21, 3, 14, 1, 1, 7, 1, 8, 33, 31, 1, 1, 11, 1, 6, 2, 7, 2, 2, 1, 20, 1, 1, 14, 1, 9, 2, 7, 48, 1, 26, 2, 62, 11, 1, 29, 16, 3, 3, 39, 13, 41, 1, 5, 1, 1, 4, 1, 6, 2, 1, 1, 3, 7, 1, 479, 1, 1, 3, 3, 1, 5, 1, 56, 49, 3, 5, 1, 3, 1, 2, 3, 3, 8, 3, 1, 17, 1, 1, 32, 1, 2, 5, 1, 6, 2, 1, 36, 1, 2, 1, 11, 4, 10, 8, 2, 11, 4, 14, 43, 1, 2, 13, 27, 1, 10, 22, 3, 116, 5, 1, 1, 1, 7, 1, 2, 1, 5, 14, 1, 3, 1, 5, 2, 15, 7, 51, 50, 6, 6, 5, 3, 1, 1, 1, 28, 1, 2, 3, 2, 2, 33, 1, 70, 1, 9, 11, 3, 1, 1, 1, 33, 1, 1, 9, 3, 12, 1, 1, 10, 3, 2, 1, 2, 2, 6, 2, 80, 48, 55, 3, 13, 21, 10, 1, 46, 1, 7, 31, 7, 4, 2, 1, 8, 3, 6, 2, 1, 22, 4, 4, 6, 1, 1, 5, 9, 46, 2, 31, 4, 5, 1, 1, 1, 1, 2, 2, 1, 7, 15, 2, 10, 3, 1, 4, 2, 13, 19, 1, 6, 1, 3, 19, 3, 1, 1, 2, 6, 8, 1, 34, 4, 6, 16, 2, 11, 8, 1, 8, 6, 2, 5, 1, 16, 11, 2, 2, 1, 2, 1, 1, 13, 1, 3, 8, 1, 1, 14, 1, 6, 148, 1, 2, 3, 2, 1, 10, 1, 4, 2, 107, 1, 3, 3, 33, 9, 7, 35, 11, 8, 8, 5, 4, 1, 5, 1, 1, 3, 5, 7, 4, 1, 8, 19, 1, 2, 4, 1, 3, 4, 64, 1, 4, 2, 1, 5, 1, 10, 5, 5, 1, 1, 8, 5, 1, 8, 2, 1, 2, 20, 2, 2, 7, 1, 5, 2, 1, 5, 1, 1, 19, 40, 10, 4, 1, 2, 1, 23, 3, 2, 60, 2, 4, 1, 8, 20, 6, 7, 6, 1, 37, 1, 36, 43, 6, 3, 13, 9, 3, 4, 17, 2, 8, 10, 17, 1, 1, 2, 12, 6, 13, 1, 3, 89, 13, 1, 70, 3, 3, 1, 3, 4, 1, 45, 31, 11, 1, 2, 1, 10, 12, 9, 1, 6, 1, 42, 1, 1, 1, 24, 5, 2, 6, 14, 4, 2, 5, 1, 1, 9, 1, 2, 12, 5, 1, 1, 4, 6, 34, 1, 1, 1, 1, 1, 1, 2, 1, 1, 2, 1, 3, 13, 1, 4, 1, 12, 10, 2, 1, 3, 13, 1, 8, 5, 1, 63, 4, 6, 1, 9, 49, 3, 2, 1, 1, 1, 9, 1, 5, 2, 2, 1, 4, 1, 2, 31, 7, 40, 11, 17, 6, 3, 2, 2, 4, 3, 2, 2, 1, 9, 1, 76, 1, 46, 1, 15, 8, 1, 9, 2, 1, 2, 1, 6, 1, 1, 12, 5, 4, 5, 1, 13, 4, 2, 1, 6, 3, 1, 1, 18, 1, 1, 1, 12, 1, 4, 2, 2, 12, 11, 1, 6, 7, 21, 6, 10, 48, 16, 1, 7, 1, 9, 1, 10, 13, 7, 2, 2, 2, 1, 8, 5, 35, 14, 23, 1, 5, 1, 1, 1, 1, 1, 1, 8, 17, 1, 4, 1, 5, 8, 13, 1, 1, 5, 3, 2, 6, 2, 38, 20, 3, 1, 7, 1, 2, 5, 25, 12, 6, 4, 25, 11, 35, 4, 7, 3, 1, 12, 4, 28, 10, 36, 2, 2, 1, 3, 3, 41, 15, 1, 1, 1, 11, 1, 3, 1, 2, 1, 1, 20, 1, 3, 2, 7, 5, 9, 8, 4, 26, 17, 13, 2, 5, 1, 4, 11, 1, 2, 6, 1, 15, 2, 1, 2, 4, 2, 21, 8, 27, 5, 3, 4, 8, 1, 1, 3, 6, 2, 35, 5, 1, 7, 2, 14, 5, 7, 3, 16, 5, 2, 21, 9, 2, 1, 7, 3, 23, 9, 19, 1, 2, 21, 1, 1, 4, 2, 4, 10, 55, 5, 6, 1, 10, 7, 5, 5, 1, 21, 1, 1, 2, 5, 10, 2, 1, 4, 1, 10, 14, 1, 3, 3, 8, 3, 4, 5, 1, 3, 1, 4, 3, 2, 6, 6, 2, 1, 5, 1, 10, 5, 7, 103, 5, 3, 2, 7, 2, 4, 1, 4, 3, 1, 1, 6, 1, 3, 7, 1, 10, 5, 1, 4, 7, 45, 2, 3, 1, 1, 41, 56, 13, 1, 15, 21, 1, 1, 236, 2, 5, 1, 2, 93, 11, 8, 2, 2, 32, 1, 3, 4, 1, 2, 1, 3, 1, 1, 20, 1, 33, 20, 2, 1, 26, 5, 41, 5, 7, 6, 1, 10, 3, 1, 1, 1, 3, 48, 6, 2, 8, 1, 9, 6, 2, 2, 10, 21, 1, 13, 3, 18, 19, 1, 1, 4, 7, 2, 3, 23, 1, 4, 16, 1, 2, 4, 3, 1, 5, 1, 12, 1, 1, 3, 17, 3, 1, 29, 4, 66, 3, 1, 4, 1, 1, 1, 2, 2, 2, 8, 18, 5, 5, 3, 2, 216, 5, 1, 1, 2, 1, 1, 1, 2, 1, 4, 16, 1, 4, 7, 3, 12, 10, 1, 4, 1, 4, 1, 1, 5, 6, 2, 3, 4, 1, 1, 1, 1, 4, 1, 1, 1, 1, 2, 7, 3, 1, 1, 1, 4, 13, 4, 38, 4, 1, 9, 3, 1, 1, 27, 1, 2, 4, 4, 1, 25, 8, 2, 1, 1, 2, 74, 1, 2, 3, 7, 3, 3, 2, 1, 5, 1, 1, 10, 1, 13, 21, 36, 10, 115, 1, 1, 5, 2, 6, 1, 10, 7, 3, 3, 2, 4, 4]\n"
     ]
    }
   ],
   "source": [
    "degrees =[G.degree(gene) for gene in Genes]\n",
    "print(Genes)\n",
    "print(degrees)"
   ]
  },
  {
   "cell_type": "code",
   "execution_count": 120,
   "metadata": {},
   "outputs": [],
   "source": [
    "cumMRR = tempDF.loc[30000]\n",
    "cumMRR = cumMRR.drop(0)\n",
    "sumMRR = list(cumMRR)\n"
   ]
  },
  {
   "cell_type": "code",
   "execution_count": 152,
   "metadata": {},
   "outputs": [
    {
     "data": {
      "text/plain": [
       "Text(0.5, 0, 'Rank')"
      ]
     },
     "execution_count": 152,
     "metadata": {},
     "output_type": "execute_result"
    },
    {
     "data": {
      "image/png": "[encoded data removed]",
      "text/plain": [
       "<Figure size 432x288 with 1 Axes>"
      ]
     },
     "metadata": {
      "needs_background": "light"
     },
     "output_type": "display_data"
    }
   ],
   "source": [
    "plt.loglog(sorted(sumMRR, reverse = True), 'b-', marker='o', markersize = 2)\n",
    "plt.title(\"Degree Rank Plot of ATTED Data\") \n",
    "plt.ylabel(\"Degree\")\n",
    "plt.xlabel(\"Rank\")"
   ]
  },
  {
   "cell_type": "code",
   "execution_count": 125,
   "metadata": {},
   "outputs": [
    {
     "data": {
      "text/plain": [
       "<matplotlib.collections.PathCollection at 0x1e0e7c96a20>"
      ]
     },
     "execution_count": 125,
     "metadata": {},
     "output_type": "execute_result"
    },
    {
     "data": {
      "image/png": "[encoded data removed]",
      "text/plain": [
       "<Figure size 432x288 with 1 Axes>"
      ]
     },
     "metadata": {
      "needs_background": "light"
     },
     "output_type": "display_data"
    }
   ],
   "source": [
    "plt.scatter(overlapGenes,sumMRR)"
   ]
  },
  {
   "cell_type": "code",
   "execution_count": 114,
   "metadata": {},
   "outputs": [
    {
     "data": {
      "text/plain": [
       "Text(0.5, 0, 'Rank')"
      ]
     },
     "execution_count": 114,
     "metadata": {},
     "output_type": "execute_result"
    },
    {
     "data": {
      "image/png": "[encoded data removed]",
      "text/plain": [
       "<Figure size 432x288 with 1 Axes>"
      ]
     },
     "metadata": {
      "needs_background": "light"
     },
     "output_type": "display_data"
    }
   ],
   "source": [
    "plt.loglog(sorted(degrees, reverse = True), 'b-', marker='o', markersize = 2)\n",
    "plt.title(\"Degree Rank Plot of BioGRID Data\") \n",
    "plt.ylabel(\"Degree\")\n",
    "plt.xlabel(\"Rank\")"
   ]
  },
  {
   "cell_type": "code",
   "execution_count": 139,
   "metadata": {},
   "outputs": [
    {
     "name": "stdout",
     "output_type": "stream",
     "text": [
      "Wall time: 10min 46s\n"
     ]
    },
    {
     "data": {
      "image/png": "[encoded data removed]",
      "text/plain": [
       "<Figure size 432x288 with 1 Axes>"
      ]
     },
     "metadata": {},
     "output_type": "display_data"
    }
   ],
   "source": [
    "%%time\n",
    "tG = nx.from_pandas_edgelist(vsGRID, source = 'Entrez Gene Interactor A', target = 'Entrez Gene Interactor B')\n",
    "#pos = nx.kamada_kawai_layout(G)\n",
    "nx.draw(G, alpha = 0.3, node_size= 5)\n",
    "#nx.draw_networkx_labels(G,pos,font_size = 7)"
   ]
  },
  {
   "cell_type": "code",
   "execution_count": 141,
   "metadata": {},
   "outputs": [
    {
     "name": "stdout",
     "output_type": "stream",
     "text": [
      "Wall time: 10min 57s\n"
     ]
    },
    {
     "data": {
      "image/png": "[encoded data removed]",
      "text/plain": [
       "<Figure size 432x288 with 1 Axes>"
      ]
     },
     "metadata": {},
     "output_type": "display_data"
    }
   ],
   "source": [
    "%%time\n",
    "nx.draw(G, alpha=0.4, node_size=2)"
   ]
  },
  {
   "cell_type": "code",
   "execution_count": 129,
   "metadata": {
    "scrolled": true
   },
   "outputs": [
    {
     "data": {
      "text/plain": [
       "'\\nG = nx.gnp_random_graph(100, 0.02)\\n#print(nx.write_edgelist(G))\\ndegree_sequence = sorted([d for n, d in G.degree()], reverse=True)\\n# print \"Degree sequence\", degree_sequence\\ndmax = max(degree_sequence)\\nprint(degree_sequence)\\nplt.loglog(degree_sequence, \\'b-\\', marker=\\'o\\')\\nplt.title(\"Degree rank plot\")\\nplt.ylabel(\"degree\")\\nplt.xlabel(\"rank\")\\n\\n# draw graph in inset\\nplt.axes([0.45, 0.45, 0.45, 0.45])\\nGcc = G.subgraph(sorted(nx.connected_components(G), key=len, reverse=True)[0])\\npos = nx.spring_layout(Gcc)\\nplt.axis(\\'off\\')\\nnx.draw_networkx_nodes(Gcc, pos, node_size=20)\\nnx.draw_networkx_edges(Gcc, pos, alpha=0.4)\\n\\nplt.show()\\n'"
      ]
     },
     "execution_count": 129,
     "metadata": {},
     "output_type": "execute_result"
    }
   ],
   "source": [
    "# Example from Online\n",
    "'''\n",
    "G = nx.gnp_random_graph(100, 0.02)\n",
    "#print(nx.write_edgelist(G))\n",
    "degree_sequence = sorted([d for n, d in G.degree()], reverse=True)\n",
    "# print \"Degree sequence\", degree_sequence\n",
    "dmax = max(degree_sequence)\n",
    "print(degree_sequence)\n",
    "plt.loglog(degree_sequence, 'b-', marker='o')\n",
    "plt.title(\"Degree rank plot\")\n",
    "plt.ylabel(\"degree\")\n",
    "plt.xlabel(\"rank\")\n",
    "\n",
    "# draw graph in inset\n",
    "plt.axes([0.45, 0.45, 0.45, 0.45])\n",
    "Gcc = G.subgraph(sorted(nx.connected_components(G), key=len, reverse=True)[0])\n",
    "pos = nx.spring_layout(Gcc)\n",
    "plt.axis('off')\n",
    "nx.draw_networkx_nodes(Gcc, pos, node_size=20)\n",
    "nx.draw_networkx_edges(Gcc, pos, alpha=0.4)\n",
    "\n",
    "plt.show()\n",
    "'''"
   ]
  },
  {
   "cell_type": "markdown",
   "metadata": {},
   "source": [
    "# Glossary\n",
    "---\n",
    "open() : https://docs.python.org/3/library/functions.html#open  \n",
    "os.path.join : https://www.geeksforgeeks.org/python-os-path-join-method/  \n",
    "os.path.exits: https://www.geeksforgeeks.org/python-os-path-exists-method/  \n",
    "../ takes you one level up  \n",
    "../../ takes you two levels up  \n",
    "~bool gives you opposite of the bool series: ~[F,F,T] is [T,T,F]\n",
    "\n",
    "Sources:\n",
    "https://github.com/yasirs/BioGRID-Nets/blob/master/getNets.py\n",
    "https://github.com/idekerlab/tsri-lecture\n",
    "https://www.slideshare.net/keiono/introduction-to-biological-network-analysis-and-visualization-with-cytoscape-part1"
   ]
  },
  {
   "cell_type": "code",
   "execution_count": 211,
   "metadata": {},
   "outputs": [
    {
     "data": {
      "text/html": [
       "<div>\n",
       "<style scoped>\n",
       "    .dataframe tbody tr th:only-of-type {\n",
       "        vertical-align: middle;\n",
       "    }\n",
       "\n",
       "    .dataframe tbody tr th {\n",
       "        vertical-align: top;\n",
       "    }\n",
       "\n",
       "    .dataframe thead th {\n",
       "        text-align: right;\n",
       "    }\n",
       "</style>\n",
       "<table border=\"1\" class=\"dataframe\">\n",
       "  <thead>\n",
       "    <tr style=\"text-align: right;\">\n",
       "      <th></th>\n",
       "      <th>Entrez Gene Interactor A</th>\n",
       "      <th>Entrez Gene Interactor B</th>\n",
       "    </tr>\n",
       "  </thead>\n",
       "  <tbody>\n",
       "    <tr>\n",
       "      <th>0</th>\n",
       "      <td>828230</td>\n",
       "      <td>832208</td>\n",
       "    </tr>\n",
       "    <tr>\n",
       "      <th>1</th>\n",
       "      <td>828230</td>\n",
       "      <td>821860</td>\n",
       "    </tr>\n",
       "    <tr>\n",
       "      <th>2</th>\n",
       "      <td>836259</td>\n",
       "      <td>818903</td>\n",
       "    </tr>\n",
       "    <tr>\n",
       "      <th>3</th>\n",
       "      <td>836259</td>\n",
       "      <td>825075</td>\n",
       "    </tr>\n",
       "    <tr>\n",
       "      <th>4</th>\n",
       "      <td>836259</td>\n",
       "      <td>836259</td>\n",
       "    </tr>\n",
       "  </tbody>\n",
       "</table>\n",
       "</div>"
      ],
      "text/plain": [
       "   Entrez Gene Interactor A  Entrez Gene Interactor B\n",
       "0                    828230                    832208\n",
       "1                    828230                    821860\n",
       "2                    836259                    818903\n",
       "3                    836259                    825075\n",
       "4                    836259                    836259"
      ]
     },
     "execution_count": 211,
     "metadata": {},
     "output_type": "execute_result"
    }
   ],
   "source": [
    "simplebGRID.head()"
   ]
  },
  {
   "cell_type": "code",
   "execution_count": 1,
   "metadata": {},
   "outputs": [
    {
     "ename": "NameError",
     "evalue": "name 'a' is not defined",
     "output_type": "error",
     "traceback": [
      "\u001b[1;31m---------------------------------------------------------------------------\u001b[0m",
      "\u001b[1;31mNameError\u001b[0m                                 Traceback (most recent call last)",
      "\u001b[1;32m<ipython-input-1-3f786850e387>\u001b[0m in \u001b[0;36m<module>\u001b[1;34m\u001b[0m\n\u001b[1;32m----> 1\u001b[1;33m \u001b[0ma\u001b[0m\u001b[1;33m\u001b[0m\u001b[1;33m\u001b[0m\u001b[0m\n\u001b[0m",
      "\u001b[1;31mNameError\u001b[0m: name 'a' is not defined"
     ]
    }
   ],
   "source": [
    "a"
   ]
  }
 ],
 "metadata": {
  "kernelspec": {
   "display_name": "Python 3",
   "language": "python",
   "name": "python3"
  },
  "language_info": {
   "codemirror_mode": {
    "name": "ipython",
    "version": 3
   },
   "file_extension": ".py",
   "mimetype": "text/x-python",
   "name": "python",
   "nbconvert_exporter": "python",
   "pygments_lexer": "ipython3",
   "version": "3.7.7"
  }
 },
 "nbformat": 4,
 "nbformat_minor": 2
}
