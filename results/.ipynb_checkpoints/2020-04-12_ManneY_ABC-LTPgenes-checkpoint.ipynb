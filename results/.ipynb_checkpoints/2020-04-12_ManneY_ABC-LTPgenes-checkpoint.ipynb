{
 "cells": [
  {
   "cell_type": "code",
   "execution_count": 1,
   "metadata": {},
   "outputs": [
    {
     "name": "stdout",
     "output_type": "stream",
     "text": [
      "Wall time: 6.48 s\n"
     ]
    }
   ],
   "source": [
    "%%time\n",
    "# Import necessary Libraries\n",
    "import os\n",
    "import pandas as pd\n",
    "import numpy as np\n",
    "import networkx as nx\n",
    "import matplotlib.pyplot as plt\n",
    "import seaborn as sns\n",
    "import collections\n",
    "import pickle # used to store cleaned data\n",
    "import numpy.ma as ma # masking for numpy Arrays\n",
    "boolVal = False\n",
    "attedDataName = '../../project_data/Overlapping_GenesMR.p'\n",
    "bioGRIDfileName = '../../project_data/BioGRID_with_ATTEDMR.p'\n",
    "if boolVal:\n",
    "    # Reading in BioGRID as DataFrame\n",
    "    path = os.path.join('C:\\\\Users\\\\ysman\\\\OneDrive\\\\Desktop\\\\project_data\\\\BIOGRID-ORGANISM-Arabidopsis_thaliana_Columbia-3.5.181.tab2.txt')\n",
    "    bioGRID_file = open(path, \"r\") \n",
    "    testFile = open(os.path.join('C:\\\\Users\\\\ysman\\\\OneDrive\\\\Desktop\\\\project_directory\\\\data\\\\test.txt'), 'r')\n",
    "    bioGRID_DF = pd.read_csv(bioGRID_file, sep = '\\t')\n",
    "    # Simplified DataFrame to only include interactions\n",
    "    simplebGRID = bioGRID_DF[['Entrez Gene Interactor A','Entrez Gene Interactor B']]\n",
    "    # Identifying Organisms Present in BioGRID\n",
    "    OrganismTypesA = list(bioGRID_DF['Organism Interactor A'].unique())\n",
    "    OrganismTypesB = list(bioGRID_DF['Organism Interactor B'].unique())\n",
    "    OrganismTypesA.sort()\n",
    "    OrganismTypesB.sort()\n",
    "    OrganismTypes = list(set([*OrganismTypesA, *OrganismTypesB]))\n",
    "    OrganismTypes.sort()\n",
    "    # Use NCBI's Taxonomy Name/ID Status Report - Plug in OrganismTypes and get .txt\n",
    "    organismIDs = pd.read_csv('../../project_data/tax_report.txt', sep = '\\t')\n",
    "    organismIDs.drop(columns = ['|','|.1','|.2', 'code', 'primary taxid'],inplace = True)\n",
    "    # Categorize into different subsets based on organism ID. We know '3702' is Arabidopsis\n",
    "    mask1 = bioGRID_DF['Organism Interactor A'] == 3702\n",
    "    mask2 = bioGRID_DF['Organism Interactor B'] == 3702\n",
    "    onlyArabDF = bioGRID_DF[mask1& mask2]\n",
    "    oneArabDF = bioGRID_DF[~mask1|~mask2]\n",
    "    noArabDF = bioGRID_DF[~mask1 & ~mask2]\n",
    "    # Get list of genes so I can import the necessary ATTED Data. Note that the ATTED data has a text file by Entrez gene ID\n",
    "    # WholeData:\n",
    "    wholeGenesA = list(bioGRID_DF['Entrez Gene Interactor A'].unique())\n",
    "    wholeGenesB = list(bioGRID_DF['Entrez Gene Interactor B'].unique())\n",
    "    wholeGenesA.sort()\n",
    "    wholeGenesB.sort()\n",
    "    wholeGenes = list(set([*wholeGenesA, *wholeGenesB]))\n",
    "    wholeGenes.sort()\n",
    "    # Only Arabidopsis Subset\n",
    "    ArabGenesA = list(onlyArabDF['Entrez Gene Interactor A'].unique())\n",
    "    ArabGenesB = list(onlyArabDF['Entrez Gene Interactor B'].unique())\n",
    "    ArabGenesA.sort()\n",
    "    ArabGenesB.sort()\n",
    "    ArabGenes = list(set([*ArabGenesA, *ArabGenesB]))\n",
    "    ArabGenes.sort()\n",
    "    # Read in only the Overlapping Genes\n",
    "    # Get a list of all genes in ATTED\n",
    "    atted = pd.read_csv('../../project_data/Ath-mB.v17-08.G20819-S16033.rma_combat.mrgeo.d/814630', sep = '\\t', header = None)\n",
    "    atted = atted.sort_values(by = 0)\n",
    "    a1 = np.array(atted[0])\n",
    "    attedGenes = list(a1)\n",
    "    # Reading in of Overlapping Genes\n",
    "    attedpath = 'C:\\\\Users\\\\ysman\\\\OneDrive\\\\Desktop\\\\project_data\\\\Ath-mB.v17-08.G20819-S16033.rma_combat.mrgeo.d\\\\'\n",
    "    overlapGenes = []\n",
    "    for i in range (len(wholeGenes)):\n",
    "        if os.path.exists(attedpath+'{}'.format(wholeGenes[i])):\n",
    "            overlapGenes.append(wholeGenes[i])\n",
    "    DF = {0:attedGenes}\n",
    "    for x in overlapGenes:\n",
    "        tempAtted = pd.read_csv('../../project_data/Ath-mB.v17-08.G20819-S16033.rma_combat.mrgeo.d/{}'.format(x), sep = '\\t', header= None)\n",
    "        tempAtted = tempAtted.sort_values(by = 0)\n",
    "        templist = list(tempAtted[1])\n",
    "        DF.update({x:templist})\n",
    "    attedData = pd.DataFrame(DF,dtype='float64')\n",
    "    attedData = attedData.astype({0:'int'})\n",
    "    attedData = attedData.set_index(0)\n",
    "    pickle.dump(attedData, open(attedDataName, 'wb'))\n",
    "    # Add ATTED MR Values to BioGRID\n",
    "    genesGRID = simplebGRID.loc[:]\n",
    "    genesGRID['MR']=np.zeros(len(genesGRID))\n",
    "    # for gA,gB in zip(toyGRID.iloc[:,0],toyGRID.iloc[:,1]): is a way to iterate through 2 cols at once\n",
    "    for i in range(genesGRID.shape[0]):\n",
    "        gA = genesGRID.loc[i,'Entrez Gene Interactor A']\n",
    "        gB = genesGRID.loc[i,'Entrez Gene Interactor B']\n",
    "        if (gA in attedData.columns) and (gB in attedData.columns): # checks if both genes are part of the overlapping set\n",
    "            mr = attedData.loc[gA,gB]\n",
    "            genesGRID.loc[i,'MR'] = mr\n",
    "        else:\n",
    "            genesGRID.loc[i,'MR'] = np.nan\n",
    "    pickle.dump(genesGRID, open(bioGRIDfileName, 'wb'))\n",
    "    boolVal = False\n",
    "else:\n",
    "    # Load data using pickle\n",
    "    attedData = pickle.load(open(attedDataName, 'rb'))\n",
    "    genesGRID = pickle.load(open(bioGRIDfileName, 'rb'))\n",
    "# Initializes Networkx Graph\n",
    "genesG = nx.Graph()\n",
    "# Adds edges for each interaction\n",
    "for i in range(genesGRID.shape[0]):\n",
    "    genesG.add_edge(genesGRID['Entrez Gene Interactor A'].loc[i], genesGRID['Entrez Gene Interactor B'].loc[i], weight = genesGRID['MR'].loc[i])"
   ]
  },
  {
   "cell_type": "code",
   "execution_count": 2,
   "metadata": {},
   "outputs": [],
   "source": [
    "def nonConvertible(orig,trans): \n",
    "    '''\n",
    "    Checks if all orginal values are in new list of values \n",
    "    and returns the ones that aren't\n",
    "    Inputs: List of original values, list of new values\n",
    "    Output: List of all original values that are not in the new value list\n",
    "    ''' \n",
    "    nc = []\n",
    "    for i in range(len(orig)):\n",
    "        if orig[i] not in trans:\n",
    "            nc.append(orig[i])\n",
    "        else:\n",
    "            continue\n",
    "    return nc"
   ]
  },
  {
   "cell_type": "code",
   "execution_count": 3,
   "metadata": {},
   "outputs": [
    {
     "name": "stdout",
     "output_type": "stream",
     "text": [
      "The non-convertable ABC TAIR IDs are: ['ATMG00110', 'ATMG00900']\n",
      "The non-convertable LTP TAIR IDs are: []\n",
      "Total ABC Genes: 129\n",
      "Total LTP Genes: 85\n"
     ]
    }
   ],
   "source": [
    "# Read In Data \n",
    "ABC_trans = pd.read_csv('../data/convABC_Genes.txt', sep = '\\t')\n",
    "ABC_trans = ABC_trans.rename(columns = {'From':'TAIR_ID','To':'ENTREZ_ID'})\n",
    "ABC_orig = pd.read_excel('../data/ABC_Genes.xls', sheet_name = 'Sheet2')\n",
    "abcAT = sorted(set(list(ABC_trans['TAIR_ID'])))\n",
    "abcEntrez = sorted(set(list(ABC_trans['ENTREZ_ID'])))\n",
    "abcAT_orig = sorted(set(list(ABC_orig['TAIR_ID'])))\n",
    "abc_NC  = nonConvertible(abcAT_orig,abcAT)\n",
    "#print('The non-convertable ABC TAIR-IDs are: {}.'.format(', '.join(abc_NC)))\n",
    "print(f'The non-convertable ABC TAIR IDs are: {abc_NC}')\n",
    "\n",
    "LTP_trans = pd.read_csv('../data/convLTP_Genes.txt', sep = '\\t')\n",
    "LTP_trans = LTP_trans.rename(columns = {'From':'TAIR_ID','To':'ENTREZ_ID'})\n",
    "LTP_orig = pd.read_excel('../data/LTP_Genes.xlsx', sheet_name = 'Sheet1')\n",
    "ltpAT = sorted(set(list(LTP_trans['TAIR_ID'])))\n",
    "ltpEntrez = sorted(set(list(LTP_trans['ENTREZ_ID'])))\n",
    "ltpAT_orig = sorted(set(list(LTP_orig['TAIR_ID'])))\n",
    "ltp_NC  = nonConvertible(ltpAT_orig,ltpAT)\n",
    "#print('The non-convertable LTP TAIR-IDs are: {}.'.format(', '.join(ltp_NC)))\n",
    "print(f'The non-convertable LTP TAIR IDs are: {ltp_NC}')\n",
    "\n",
    "print(f'Total ABC Genes: {len(abcEntrez)}')\n",
    "print(f'Total LTP Genes: {len(ltpEntrez)}')"
   ]
  },
  {
   "cell_type": "code",
   "execution_count": 4,
   "metadata": {},
   "outputs": [],
   "source": [
    "def existing(lst, reference): \n",
    "    '''\n",
    "    Checks if items of lst are in reference, returns a list of existing values\n",
    "    Inputs: List to check, list to cross-reference with\n",
    "    Output: List of all values that also exist in the reference list.\n",
    "    ''' \n",
    "    exists = [] # stores the existing values\n",
    "    NE = [] # stores the non-existing values\n",
    "    for x in lst:\n",
    "        if x in reference:\n",
    "            exists.append(x)\n",
    "        else:\n",
    "            NE.append(x)\n",
    "    return exists, NE"
   ]
  },
  {
   "cell_type": "code",
   "execution_count": 13,
   "metadata": {},
   "outputs": [],
   "source": [
    "def ShortestDistances(Graph,grpA,grpB,dataFrame = True): #using function caused Kernel to crash due to memory\n",
    "    '''\n",
    "    Finds the shortest distances in a graph between all members of group 1 \n",
    "    and all members of group 2 and stores into a dict.\n",
    "    Inputs: Graph to scan, list of group A nodes, list of group B nodes\n",
    "    Output: Returns a pandas dataFrame with group A as columns and group B as rows \n",
    "            and the shortest-distance as the values. \n",
    "            Else, returns a dict with group A as keys and a list of shortest distances \n",
    "            as values (size of list is the length of group B)\n",
    "    '''\n",
    "    graphGenes = list(Graph.nodes)\n",
    "    abc, Uabc = existing(grpA,graphGenes)\n",
    "    ltp, Ultp = existing(grpB,graphGenes)\n",
    "    DF={0:ltp}\n",
    "    for x in abc:\n",
    "        valList = []\n",
    "        for y in ltp:\n",
    "            if (x in graphGenes) and (y in graphGenes): # checks if both genes are part of the overlapping set\n",
    "                val = nx.astar_path_length(Graph, x,y)\n",
    "            else:\n",
    "                val = np.nan\n",
    "            valList.append(val)\n",
    "        DF.update({x:valList})\n",
    "    if dataFrame:\n",
    "        Data = pd.DataFrame(DF,dtype='float64')\n",
    "        Data = Data.astype({0:'int'})\n",
    "        Data = Data.set_index(0)\n",
    "        return Data\n",
    "    else:\n",
    "        return DF"
   ]
  },
  {
   "cell_type": "code",
   "execution_count": 6,
   "metadata": {},
   "outputs": [],
   "source": [
    "# option: filter out nodes with 1 connection\n",
    "# store as a dictionary, dict: \n",
    "def simplifyGraph(grpA, grpB, Graph, kdeg):\n",
    "    '''\n",
    "    Gathers all nodes within kdeg degrees of separation from the given groups.\n",
    "    Inputs: list of group A nodes, list of group B nodes, graph to simplify, int representing\n",
    "            the degree of seperation from the key nodes allow.\n",
    "    Output: subgraph of inputted graph as well as dictionary with each node in the new graph as key\n",
    "            and # of neighboring nodes in group A, # of neighboring nodes in group B, and \n",
    "            list of all neighboring nodes.\n",
    "    '''\n",
    "    keyGenes = sorted(set([*grpA,*grpB]))\n",
    "    i = kdeg\n",
    "    while i >0:\n",
    "        # Stores neighbors at each key gene\n",
    "        neighbors = []\n",
    "        # Loops through all key genes \n",
    "        for gene in keyGenes:\n",
    "            nodes = [n for n in Graph.neighbors(gene)]\n",
    "            neighbors.append(nodes)\n",
    "        neighbors.append(keyGenes)\n",
    "        neighbors = [item for sublist in neighbors for item in sublist]\n",
    "        keyGenes = sorted(set(neighbors))\n",
    "        i-=1\n",
    "    # Creates subgraph\n",
    "    newGraph = Graph.subgraph(keyGenes)\n",
    "    # Iterates through the new nodes and checks if neighbors are in either group A or B\n",
    "    geneDict = {}\n",
    "    for gene in newGraph.nodes:\n",
    "        nodes = [n for n in newGraph.neighbors(gene)]\n",
    "        grpACount = 0\n",
    "        grpBCount = 0\n",
    "        for ngene in nodes:\n",
    "            if ngene in grpA:\n",
    "                grpACount +=1\n",
    "            elif ngene in grpB:\n",
    "                grpBCount +=1\n",
    "        geneDict[gene] = (grpACount,grpBCount, nodes)\n",
    "    return newGraph, geneDict"
   ]
  },
  {
   "cell_type": "code",
   "execution_count": 7,
   "metadata": {},
   "outputs": [
    {
     "name": "stdout",
     "output_type": "stream",
     "text": [
      "The original Graph has 10550 nodes and 48981 edges.\n",
      "Graph-compatible ABC Genes: 75/129\n",
      "Graph-compatible LTP Genes: 14/85\n"
     ]
    }
   ],
   "source": [
    "abc, Uabc = existing(abcEntrez,genesG.nodes)\n",
    "ltp, Ultp = existing(ltpEntrez,genesG.nodes)\n",
    "print(f'The original Graph has {len(genesG.nodes)} nodes and {len(genesG.edges)} edges.')\n",
    "print(f'Graph-compatible ABC Genes: {len(abc)}/{len(abcEntrez)}')\n",
    "print(f'Graph-compatible LTP Genes: {len(ltp)}/{len(ltpEntrez)}')"
   ]
  },
  {
   "cell_type": "code",
   "execution_count": 8,
   "metadata": {},
   "outputs": [
    {
     "name": "stdout",
     "output_type": "stream",
     "text": [
      "The simplified Graph has 399 nodes and 2907 edges.\n"
     ]
    }
   ],
   "source": [
    "simpleG, simpleGDict = simplifyGraph(abc,ltp, genesG,1)\n",
    "print(f'The simplified Graph has {len(simpleG.nodes)} nodes and {len(simpleG.edges)} edges.')"
   ]
  },
  {
   "cell_type": "code",
   "execution_count": 14,
   "metadata": {},
   "outputs": [
    {
     "ename": "KeyboardInterrupt",
     "evalue": "",
     "output_type": "error",
     "traceback": [
      "\u001b[1;31m---------------------------------------------------------------------------\u001b[0m",
      "\u001b[1;31mKeyboardInterrupt\u001b[0m                         Traceback (most recent call last)",
      "\u001b[1;32m<timed exec>\u001b[0m in \u001b[0;36m<module>\u001b[1;34m\u001b[0m\n",
      "\u001b[1;32m<ipython-input-13-b970b03d0135>\u001b[0m in \u001b[0;36mShortestDistances\u001b[1;34m(Graph, grpA, grpB, dataFrame)\u001b[0m\n\u001b[0;32m     17\u001b[0m         \u001b[1;32mfor\u001b[0m \u001b[0my\u001b[0m \u001b[1;32min\u001b[0m \u001b[0mltp\u001b[0m\u001b[1;33m:\u001b[0m\u001b[1;33m\u001b[0m\u001b[1;33m\u001b[0m\u001b[0m\n\u001b[0;32m     18\u001b[0m             \u001b[1;32mif\u001b[0m \u001b[1;33m(\u001b[0m\u001b[0mx\u001b[0m \u001b[1;32min\u001b[0m \u001b[0mgraphGenes\u001b[0m\u001b[1;33m)\u001b[0m \u001b[1;32mand\u001b[0m \u001b[1;33m(\u001b[0m\u001b[0my\u001b[0m \u001b[1;32min\u001b[0m \u001b[0mgraphGenes\u001b[0m\u001b[1;33m)\u001b[0m\u001b[1;33m:\u001b[0m \u001b[1;31m# checks if both genes are part of the overlapping set\u001b[0m\u001b[1;33m\u001b[0m\u001b[1;33m\u001b[0m\u001b[0m\n\u001b[1;32m---> 19\u001b[1;33m                 \u001b[0mval\u001b[0m \u001b[1;33m=\u001b[0m \u001b[0mnx\u001b[0m\u001b[1;33m.\u001b[0m\u001b[0mastar_path_length\u001b[0m\u001b[1;33m(\u001b[0m\u001b[0mGraph\u001b[0m\u001b[1;33m,\u001b[0m \u001b[0mx\u001b[0m\u001b[1;33m,\u001b[0m\u001b[0my\u001b[0m\u001b[1;33m)\u001b[0m\u001b[1;33m\u001b[0m\u001b[1;33m\u001b[0m\u001b[0m\n\u001b[0m\u001b[0;32m     20\u001b[0m             \u001b[1;32melse\u001b[0m\u001b[1;33m:\u001b[0m\u001b[1;33m\u001b[0m\u001b[1;33m\u001b[0m\u001b[0m\n\u001b[0;32m     21\u001b[0m                 \u001b[0mval\u001b[0m \u001b[1;33m=\u001b[0m \u001b[0mnp\u001b[0m\u001b[1;33m.\u001b[0m\u001b[0mnan\u001b[0m\u001b[1;33m\u001b[0m\u001b[1;33m\u001b[0m\u001b[0m\n",
      "\u001b[1;32mC:\\ProgramData\\Anaconda3\\lib\\site-packages\\networkx\\algorithms\\shortest_paths\\astar.py\u001b[0m in \u001b[0;36mastar_path_length\u001b[1;34m(G, source, target, heuristic, weight)\u001b[0m\n\u001b[0;32m    173\u001b[0m         \u001b[1;32mraise\u001b[0m \u001b[0mnx\u001b[0m\u001b[1;33m.\u001b[0m\u001b[0mNodeNotFound\u001b[0m\u001b[1;33m(\u001b[0m\u001b[0mmsg\u001b[0m\u001b[1;33m.\u001b[0m\u001b[0mformat\u001b[0m\u001b[1;33m(\u001b[0m\u001b[0msource\u001b[0m\u001b[1;33m,\u001b[0m \u001b[0mtarget\u001b[0m\u001b[1;33m)\u001b[0m\u001b[1;33m)\u001b[0m\u001b[1;33m\u001b[0m\u001b[1;33m\u001b[0m\u001b[0m\n\u001b[0;32m    174\u001b[0m \u001b[1;33m\u001b[0m\u001b[0m\n\u001b[1;32m--> 175\u001b[1;33m     \u001b[0mpath\u001b[0m \u001b[1;33m=\u001b[0m \u001b[0mastar_path\u001b[0m\u001b[1;33m(\u001b[0m\u001b[0mG\u001b[0m\u001b[1;33m,\u001b[0m \u001b[0msource\u001b[0m\u001b[1;33m,\u001b[0m \u001b[0mtarget\u001b[0m\u001b[1;33m,\u001b[0m \u001b[0mheuristic\u001b[0m\u001b[1;33m,\u001b[0m \u001b[0mweight\u001b[0m\u001b[1;33m)\u001b[0m\u001b[1;33m\u001b[0m\u001b[1;33m\u001b[0m\u001b[0m\n\u001b[0m\u001b[0;32m    176\u001b[0m     \u001b[1;32mreturn\u001b[0m \u001b[0msum\u001b[0m\u001b[1;33m(\u001b[0m\u001b[0mG\u001b[0m\u001b[1;33m[\u001b[0m\u001b[0mu\u001b[0m\u001b[1;33m]\u001b[0m\u001b[1;33m[\u001b[0m\u001b[0mv\u001b[0m\u001b[1;33m]\u001b[0m\u001b[1;33m.\u001b[0m\u001b[0mget\u001b[0m\u001b[1;33m(\u001b[0m\u001b[0mweight\u001b[0m\u001b[1;33m,\u001b[0m \u001b[1;36m1\u001b[0m\u001b[1;33m)\u001b[0m \u001b[1;32mfor\u001b[0m \u001b[0mu\u001b[0m\u001b[1;33m,\u001b[0m \u001b[0mv\u001b[0m \u001b[1;32min\u001b[0m \u001b[0mzip\u001b[0m\u001b[1;33m(\u001b[0m\u001b[0mpath\u001b[0m\u001b[1;33m[\u001b[0m\u001b[1;33m:\u001b[0m\u001b[1;33m-\u001b[0m\u001b[1;36m1\u001b[0m\u001b[1;33m]\u001b[0m\u001b[1;33m,\u001b[0m \u001b[0mpath\u001b[0m\u001b[1;33m[\u001b[0m\u001b[1;36m1\u001b[0m\u001b[1;33m:\u001b[0m\u001b[1;33m]\u001b[0m\u001b[1;33m)\u001b[0m\u001b[1;33m)\u001b[0m\u001b[1;33m\u001b[0m\u001b[1;33m\u001b[0m\u001b[0m\n",
      "\u001b[1;32m<decorator-gen-498>\u001b[0m in \u001b[0;36mastar_path\u001b[1;34m(G, source, target, heuristic, weight)\u001b[0m\n",
      "\u001b[1;32mC:\\ProgramData\\Anaconda3\\lib\\site-packages\\networkx\\utils\\decorators.py\u001b[0m in \u001b[0;36m_not_implemented_for\u001b[1;34m(not_implement_for_func, *args, **kwargs)\u001b[0m\n\u001b[0;32m     80\u001b[0m             \u001b[1;32mraise\u001b[0m \u001b[0mnx\u001b[0m\u001b[1;33m.\u001b[0m\u001b[0mNetworkXNotImplemented\u001b[0m\u001b[1;33m(\u001b[0m\u001b[0mmsg\u001b[0m\u001b[1;33m)\u001b[0m\u001b[1;33m\u001b[0m\u001b[1;33m\u001b[0m\u001b[0m\n\u001b[0;32m     81\u001b[0m         \u001b[1;32melse\u001b[0m\u001b[1;33m:\u001b[0m\u001b[1;33m\u001b[0m\u001b[1;33m\u001b[0m\u001b[0m\n\u001b[1;32m---> 82\u001b[1;33m             \u001b[1;32mreturn\u001b[0m \u001b[0mnot_implement_for_func\u001b[0m\u001b[1;33m(\u001b[0m\u001b[1;33m*\u001b[0m\u001b[0margs\u001b[0m\u001b[1;33m,\u001b[0m \u001b[1;33m**\u001b[0m\u001b[0mkwargs\u001b[0m\u001b[1;33m)\u001b[0m\u001b[1;33m\u001b[0m\u001b[1;33m\u001b[0m\u001b[0m\n\u001b[0m\u001b[0;32m     83\u001b[0m     \u001b[1;32mreturn\u001b[0m \u001b[0m_not_implemented_for\u001b[0m\u001b[1;33m\u001b[0m\u001b[1;33m\u001b[0m\u001b[0m\n\u001b[0;32m     84\u001b[0m \u001b[1;33m\u001b[0m\u001b[0m\n",
      "\u001b[1;32mC:\\ProgramData\\Anaconda3\\lib\\site-packages\\networkx\\algorithms\\shortest_paths\\astar.py\u001b[0m in \u001b[0;36mastar_path\u001b[1;34m(G, source, target, heuristic, weight)\u001b[0m\n\u001b[0;32m    122\u001b[0m         \u001b[0mexplored\u001b[0m\u001b[1;33m[\u001b[0m\u001b[0mcurnode\u001b[0m\u001b[1;33m]\u001b[0m \u001b[1;33m=\u001b[0m \u001b[0mparent\u001b[0m\u001b[1;33m\u001b[0m\u001b[1;33m\u001b[0m\u001b[0m\n\u001b[0;32m    123\u001b[0m \u001b[1;33m\u001b[0m\u001b[0m\n\u001b[1;32m--> 124\u001b[1;33m         \u001b[1;32mfor\u001b[0m \u001b[0mneighbor\u001b[0m\u001b[1;33m,\u001b[0m \u001b[0mw\u001b[0m \u001b[1;32min\u001b[0m \u001b[0mG\u001b[0m\u001b[1;33m[\u001b[0m\u001b[0mcurnode\u001b[0m\u001b[1;33m]\u001b[0m\u001b[1;33m.\u001b[0m\u001b[0mitems\u001b[0m\u001b[1;33m(\u001b[0m\u001b[1;33m)\u001b[0m\u001b[1;33m:\u001b[0m\u001b[1;33m\u001b[0m\u001b[1;33m\u001b[0m\u001b[0m\n\u001b[0m\u001b[0;32m    125\u001b[0m             \u001b[0mncost\u001b[0m \u001b[1;33m=\u001b[0m \u001b[0mdist\u001b[0m \u001b[1;33m+\u001b[0m \u001b[0mw\u001b[0m\u001b[1;33m.\u001b[0m\u001b[0mget\u001b[0m\u001b[1;33m(\u001b[0m\u001b[0mweight\u001b[0m\u001b[1;33m,\u001b[0m \u001b[1;36m1\u001b[0m\u001b[1;33m)\u001b[0m\u001b[1;33m\u001b[0m\u001b[1;33m\u001b[0m\u001b[0m\n\u001b[0;32m    126\u001b[0m             \u001b[1;32mif\u001b[0m \u001b[0mneighbor\u001b[0m \u001b[1;32min\u001b[0m \u001b[0menqueued\u001b[0m\u001b[1;33m:\u001b[0m\u001b[1;33m\u001b[0m\u001b[1;33m\u001b[0m\u001b[0m\n",
      "\u001b[1;32mC:\\ProgramData\\Anaconda3\\lib\\_collections_abc.py\u001b[0m in \u001b[0;36m__iter__\u001b[1;34m(self)\u001b[0m\n\u001b[0;32m    742\u001b[0m     \u001b[1;32mdef\u001b[0m \u001b[0m__iter__\u001b[0m\u001b[1;33m(\u001b[0m\u001b[0mself\u001b[0m\u001b[1;33m)\u001b[0m\u001b[1;33m:\u001b[0m\u001b[1;33m\u001b[0m\u001b[1;33m\u001b[0m\u001b[0m\n\u001b[0;32m    743\u001b[0m         \u001b[1;32mfor\u001b[0m \u001b[0mkey\u001b[0m \u001b[1;32min\u001b[0m \u001b[0mself\u001b[0m\u001b[1;33m.\u001b[0m\u001b[0m_mapping\u001b[0m\u001b[1;33m:\u001b[0m\u001b[1;33m\u001b[0m\u001b[1;33m\u001b[0m\u001b[0m\n\u001b[1;32m--> 744\u001b[1;33m             \u001b[1;32myield\u001b[0m \u001b[1;33m(\u001b[0m\u001b[0mkey\u001b[0m\u001b[1;33m,\u001b[0m \u001b[0mself\u001b[0m\u001b[1;33m.\u001b[0m\u001b[0m_mapping\u001b[0m\u001b[1;33m[\u001b[0m\u001b[0mkey\u001b[0m\u001b[1;33m]\u001b[0m\u001b[1;33m)\u001b[0m\u001b[1;33m\u001b[0m\u001b[1;33m\u001b[0m\u001b[0m\n\u001b[0m\u001b[0;32m    745\u001b[0m \u001b[1;33m\u001b[0m\u001b[0m\n\u001b[0;32m    746\u001b[0m \u001b[0mItemsView\u001b[0m\u001b[1;33m.\u001b[0m\u001b[0mregister\u001b[0m\u001b[1;33m(\u001b[0m\u001b[0mdict_items\u001b[0m\u001b[1;33m)\u001b[0m\u001b[1;33m\u001b[0m\u001b[1;33m\u001b[0m\u001b[0m\n",
      "\u001b[1;32mC:\\ProgramData\\Anaconda3\\lib\\site-packages\\networkx\\classes\\coreviews.py\u001b[0m in \u001b[0;36m__getitem__\u001b[1;34m(self, key)\u001b[0m\n\u001b[0;32m     51\u001b[0m         \u001b[1;32mreturn\u001b[0m \u001b[0miter\u001b[0m\u001b[1;33m(\u001b[0m\u001b[0mself\u001b[0m\u001b[1;33m.\u001b[0m\u001b[0m_atlas\u001b[0m\u001b[1;33m)\u001b[0m\u001b[1;33m\u001b[0m\u001b[1;33m\u001b[0m\u001b[0m\n\u001b[0;32m     52\u001b[0m \u001b[1;33m\u001b[0m\u001b[0m\n\u001b[1;32m---> 53\u001b[1;33m     \u001b[1;32mdef\u001b[0m \u001b[0m__getitem__\u001b[0m\u001b[1;33m(\u001b[0m\u001b[0mself\u001b[0m\u001b[1;33m,\u001b[0m \u001b[0mkey\u001b[0m\u001b[1;33m)\u001b[0m\u001b[1;33m:\u001b[0m\u001b[1;33m\u001b[0m\u001b[1;33m\u001b[0m\u001b[0m\n\u001b[0m\u001b[0;32m     54\u001b[0m         \u001b[1;32mreturn\u001b[0m \u001b[0mself\u001b[0m\u001b[1;33m.\u001b[0m\u001b[0m_atlas\u001b[0m\u001b[1;33m[\u001b[0m\u001b[0mkey\u001b[0m\u001b[1;33m]\u001b[0m\u001b[1;33m\u001b[0m\u001b[1;33m\u001b[0m\u001b[0m\n\u001b[0;32m     55\u001b[0m \u001b[1;33m\u001b[0m\u001b[0m\n",
      "\u001b[1;31mKeyboardInterrupt\u001b[0m: "
     ]
    }
   ],
   "source": [
    "%%time\n",
    "abc_ltp_shortDist = ShortestDistances(simpleG,abcEntrez,ltpEntrez, False)"
   ]
  },
  {
   "cell_type": "code",
   "execution_count": null,
   "metadata": {},
   "outputs": [],
   "source": [
    "%%time\n",
    "nx.astar_path_length(simpleG,abc[0],ltp[0])"
   ]
  },
  {
   "cell_type": "code",
   "execution_count": null,
   "metadata": {},
   "outputs": [],
   "source": []
  }
 ],
 "metadata": {
  "kernelspec": {
   "display_name": "Python 3",
   "language": "python",
   "name": "python3"
  },
  "language_info": {
   "codemirror_mode": {
    "name": "ipython",
    "version": 3
   },
   "file_extension": ".py",
   "mimetype": "text/x-python",
   "name": "python",
   "nbconvert_exporter": "python",
   "pygments_lexer": "ipython3",
   "version": "3.7.7"
  }
 },
 "nbformat": 4,
 "nbformat_minor": 4
}
