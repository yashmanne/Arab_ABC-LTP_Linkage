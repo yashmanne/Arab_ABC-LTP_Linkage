{
 "cells": [
  {
   "cell_type": "code",
   "execution_count": 1,
   "metadata": {},
   "outputs": [
    {
     "name": "stdout",
     "output_type": "stream",
     "text": [
      "ATTED-compatible ABC Genes: 103/129\n",
      "ATTED-compatible LTP Genes: 55/85\n",
      "Wall time: 23.5 s\n"
     ]
    }
   ],
   "source": [
    "%%time\n",
    "# Import necessary Libraries\n",
    "import os\n",
    "import pandas as pd\n",
    "import numpy as np\n",
    "import networkx as nx\n",
    "import matplotlib.pyplot as plt\n",
    "import seaborn as sns\n",
    "import collections\n",
    "import pickle # used to store cleaned data\n",
    "import numpy.ma as ma # masking for numpy Arrays\n",
    "boolVal = False\n",
    "attedDataName = '../../project_data/Overlapping_GenesMR.p'\n",
    "bioGRIDfileName = '../../project_data/BioGRID_with_ATTEDMR.p'\n",
    "wholeAttedDataName = '../../project_data/AllAttedGenesMR.p'\n",
    "AbcLtpDataName = '../../project_data/AbcLtpMRData.p'\n",
    "\n",
    "if boolVal:\n",
    "    # Reading in BioGRID as DataFrame\n",
    "    bioGRID_file = '../../project_data/BIOGRID-ORGANISM-Arabidopsis_thaliana_Columbia-3.5.181.tab2.txt'\n",
    "    bioGRID_DF = pd.read_csv(bioGRID_file, sep = '\\t')\n",
    "    # Simplified DataFrame to only include interactions\n",
    "    simplebGRID = bioGRID_DF[['Entrez Gene Interactor A','Entrez Gene Interactor B']]\n",
    "    # Identifying Organisms Present in BioGRID\n",
    "    OrganismTypesA = list(bioGRID_DF['Organism Interactor A'].unique())\n",
    "    OrganismTypesB = list(bioGRID_DF['Organism Interactor B'].unique())\n",
    "    OrganismTypesA.sort()\n",
    "    OrganismTypesB.sort()\n",
    "    OrganismTypes = list(set([*OrganismTypesA, *OrganismTypesB]))\n",
    "    OrganismTypes.sort()\n",
    "    # Use NCBI's Taxonomy Name/ID Status Report - Plug in OrganismTypes and get .txt\n",
    "    organismIDs = pd.read_csv('../../project_data/tax_report.txt', sep = '\\t')\n",
    "    organismIDs.drop(columns = ['|','|.1','|.2', 'code', 'primary taxid'],inplace = True)\n",
    "    # Categorize into different subsets based on organism ID. We know '3702' is Arabidopsis\n",
    "    mask1 = bioGRID_DF['Organism Interactor A'] == 3702\n",
    "    mask2 = bioGRID_DF['Organism Interactor B'] == 3702\n",
    "    onlyArabDF = bioGRID_DF[mask1& mask2]\n",
    "    oneArabDF = bioGRID_DF[~mask1|~mask2]\n",
    "    noArabDF = bioGRID_DF[~mask1 & ~mask2]\n",
    "    # Get list of genes so I can import the necessary ATTED Data. Note that the ATTED data has a text file by Entrez gene ID\n",
    "    # WholeData:\n",
    "    wholeGenesA = list(bioGRID_DF['Entrez Gene Interactor A'].unique())\n",
    "    wholeGenesB = list(bioGRID_DF['Entrez Gene Interactor B'].unique())\n",
    "    wholeGenesA.sort()\n",
    "    wholeGenesB.sort()\n",
    "    wholeGenes = list(set([*wholeGenesA, *wholeGenesB]))\n",
    "    wholeGenes.sort()\n",
    "    # Only Arabidopsis Subset\n",
    "    ArabGenesA = list(onlyArabDF['Entrez Gene Interactor A'].unique())\n",
    "    ArabGenesB = list(onlyArabDF['Entrez Gene Interactor B'].unique())\n",
    "    ArabGenesA.sort()\n",
    "    ArabGenesB.sort()\n",
    "    ArabGenes = list(set([*ArabGenesA, *ArabGenesB]))\n",
    "    ArabGenes.sort()\n",
    "    # Read in only the Overlapping Genes\n",
    "    # Get a list of all genes in ATTED\n",
    "    atted = pd.read_csv('../../project_data/Ath-mB.v17-08.G20819-S16033.rma_combat.mrgeo.d/814630', sep = '\\t', header = None)\n",
    "    atted = atted.sort_values(by = 0)\n",
    "    a1 = np.array(atted[0])\n",
    "    attedGenes = list(a1)\n",
    "    # Reading in of Overlapping Genes\n",
    "    attedpath = 'C:\\\\Users\\\\ysman\\\\OneDrive\\\\Desktop\\\\project_data\\\\Ath-mB.v17-08.G20819-S16033.rma_combat.mrgeo.d\\\\'\n",
    "    overlapGenes = []\n",
    "    for i in range (len(wholeGenes)):\n",
    "        if os.path.exists(attedpath+'{}'.format(wholeGenes[i])):\n",
    "            overlapGenes.append(wholeGenes[i])\n",
    "    DF = {0:attedGenes}\n",
    "    for x in overlapGenes:\n",
    "        tempAtted = pd.read_csv('../../project_data/Ath-mB.v17-08.G20819-S16033.rma_combat.mrgeo.d/{}'.format(x), sep = '\\t', header= None)\n",
    "        tempAtted = tempAtted.sort_values(by = 0)\n",
    "        templist = list(tempAtted[1])\n",
    "        DF.update({x:templist})\n",
    "    attedData = pd.DataFrame(DF,dtype='float64')\n",
    "    attedData = attedData.astype({0:'int'})\n",
    "    attedData = attedData.set_index(0)\n",
    "    pickle.dump(attedData, open(attedDataName, 'wb'))\n",
    "    # Add ATTED MR Values to BioGRID\n",
    "    genesGRID = simplebGRID.loc[:]\n",
    "    genesGRID['MR']=np.zeros(len(genesGRID))\n",
    "    # for gA,gB in zip(toyGRID.iloc[:,0],toyGRID.iloc[:,1]): is a way to iterate through 2 cols at once\n",
    "    for i in range(genesGRID.shape[0]):\n",
    "        gA = genesGRID.loc[i,'Entrez Gene Interactor A']\n",
    "        gB = genesGRID.loc[i,'Entrez Gene Interactor B']\n",
    "        if (gA in attedData.columns) and (gB in attedData.columns): # checks if both genes are part of the overlapping set\n",
    "            mr = attedData.loc[gA,gB]\n",
    "            genesGRID.loc[i,'MR'] = mr\n",
    "        else:\n",
    "            genesGRID.loc[i,'MR'] = np.nan\n",
    "    pickle.dump(genesGRID, open(bioGRIDfileName, 'wb'))\n",
    "    # Create a DataFrame of all MR values in the ATTED data\n",
    "    aDF = {0:attedGenes}\n",
    "    for x in attedGenes:\n",
    "        tempAtted = pd.read_csv('../../project_data/Ath-mB.v17-08.G20819-S16033.rma_combat.mrgeo.d/{}'.format(x), sep = '\\t', header= None)\n",
    "        tempAtted = tempAtted.sort_values(by = 0)\n",
    "        templist = list(tempAtted[1])\n",
    "        aDF.update({x:templist})\n",
    "    wholeAttedData = pd.DataFrame(aDF,dtype='float64')\n",
    "    wholeAttedData = wholeAttedData.astype({0:'int'})\n",
    "    wholeAttedData = wholeAttedData.set_index(0)\n",
    "    pickle.dump(wholeAttedData, open(wholeAttedDataName, 'wb'))\n",
    "    \n",
    "    boolVal = False\n",
    "else:\n",
    "    # Load data using pickle\n",
    "    attedData = pickle.load(open(attedDataName, 'rb'))\n",
    "    genesGRID = pickle.load(open(bioGRIDfileName, 'rb'))\n",
    "    wholeAttedData = pickle.load((open(wholeAttedDataName, 'rb')))\n",
    "# Initializes Networkx Graph\n",
    "genesG = nx.Graph()\n",
    "# Adds edges for each interaction\n",
    "for i in range(genesGRID.shape[0]):\n",
    "    genesG.add_edge(genesGRID['Entrez Gene Interactor A'].loc[i], genesGRID['Entrez Gene Interactor B'].loc[i], weight = genesGRID['MR'].loc[i])\n",
    "\n",
    "def nonConvertible(orig,trans): \n",
    "    '''\n",
    "    Checks if all orginal values are in new list of values \n",
    "    and returns the ones that aren't\n",
    "    Inputs: List of original values, list of new values\n",
    "    Output: List of all original values that are not in the new value list\n",
    "    ''' \n",
    "    nc = []\n",
    "    for i in range(len(orig)):\n",
    "        if orig[i] not in trans:\n",
    "            nc.append(orig[i])\n",
    "        else:\n",
    "            continue\n",
    "    return nc\n",
    "\n",
    "def existing(lst, reference): \n",
    "    '''\n",
    "    Checks if items of lst are in reference, returns a list of existing values\n",
    "    Inputs: List to check, list to cross-reference with\n",
    "    Output: List of all values that also exist in the reference list.\n",
    "    ''' \n",
    "    exists = [] # stores the existing values\n",
    "    NE = [] # stores the non-existing values\n",
    "    for x in lst:\n",
    "        if x in reference:\n",
    "            exists.append(x)\n",
    "        else:\n",
    "            NE.append(x)\n",
    "    return exists, NE\n",
    "\n",
    "def ShortestDistances(Graph,grpA,grpB,dataFrame = True): #using function caused Kernel to crash due to memory\n",
    "    '''\n",
    "    Finds the shortest distances in a graph between all members of group 1 \n",
    "    and all members of group 2 and stores into a dict.\n",
    "    Inputs: Graph to scan, list of group A nodes, list of group B nodes\n",
    "    Output: Returns a pandas dataFrame with group A as columns and group B as rows \n",
    "            and the shortest-distance as the values. \n",
    "            Else, returns a dict with group A as keys and a list of shortest distances \n",
    "            as values (size of list is the length of group B)\n",
    "    '''\n",
    "    graphGenes = list(Graph.nodes)\n",
    "    abc, Uabc = existing(grpA,graphGenes)\n",
    "    ltp, Ultp = existing(grpB,graphGenes)\n",
    "    DF={0:ltp}\n",
    "    for x in abc:\n",
    "        valList = []\n",
    "        for y in ltp:\n",
    "            if (x in graphGenes) and (y in graphGenes): # checks if both genes are part of the overlapping set\n",
    "                val = nx.astar_path_length(Graph, x,y)\n",
    "            else:\n",
    "                val = np.nan\n",
    "            valList.append(val)\n",
    "        DF.update({x:valList})\n",
    "    if dataFrame:\n",
    "        Data = pd.DataFrame(DF,dtype='float64')\n",
    "        Data = Data.astype({0:'int'})\n",
    "        Data = Data.set_index(0)\n",
    "        return Data\n",
    "    else:\n",
    "        return DF\n",
    "# option: filter out nodes with 1 connection\n",
    "# store as a dictionary, dict: \n",
    "def simplifyGraph(grpA, grpB, Graph, kdeg):\n",
    "    '''\n",
    "    Gathers all nodes within kdeg degrees of separation from the given groups.\n",
    "    Inputs: list of group A nodes, list of group B nodes, graph to simplify, int representing\n",
    "            the degree of seperation from the key nodes allow.\n",
    "    Output: subgraph of inputted graph as well as dictionary with each node in the new graph as key\n",
    "            and # of neighboring nodes in group A, # of neighboring nodes in group B, and \n",
    "            list of all neighboring nodes.\n",
    "    '''\n",
    "    keyGenes = sorted(set([*grpA,*grpB]))\n",
    "    i = kdeg\n",
    "    while i >0:\n",
    "        # Stores neighbors at each key gene\n",
    "        neighbors = []\n",
    "        # Loops through all key genes \n",
    "        for gene in keyGenes:\n",
    "            nodes = [n for n in Graph.neighbors(gene)]\n",
    "            neighbors.append(nodes)\n",
    "        neighbors.append(keyGenes)\n",
    "        neighbors = [item for sublist in neighbors for item in sublist]\n",
    "        keyGenes = sorted(set(neighbors))\n",
    "        i-=1\n",
    "    # Creates subgraph\n",
    "    newGraph = Graph.subgraph(keyGenes)\n",
    "    # Iterates through the new nodes and checks if neighbors are in either group A or B\n",
    "    geneDict = {}\n",
    "    for gene in newGraph.nodes:\n",
    "        nodes = [n for n in newGraph.neighbors(gene)]\n",
    "        grpACount = 0\n",
    "        grpBCount = 0\n",
    "        for ngene in nodes:\n",
    "            if ngene in grpA:\n",
    "                grpACount +=1\n",
    "            elif ngene in grpB:\n",
    "                grpBCount +=1\n",
    "        geneDict[gene] = (grpACount,grpBCount, nodes)\n",
    "    return newGraph, geneDict\n",
    "\n",
    "# Read In Data \n",
    "ABC_trans = pd.read_csv('../data/convABC_Genes.txt', sep = '\\t')\n",
    "ABC_trans = ABC_trans.rename(columns = {'From':'TAIR_ID','To':'ENTREZ_ID'})\n",
    "ABC_orig = pd.read_excel('../data/ABC_Genes.xls', sheet_name = 'Sheet2')\n",
    "abcAT = sorted(set(list(ABC_trans['TAIR_ID'])))\n",
    "abcEntrez = sorted(set(list(ABC_trans['ENTREZ_ID'])))\n",
    "abcAT_orig = sorted(set(list(ABC_orig['TAIR_ID'])))\n",
    "abc_NC  = nonConvertible(abcAT_orig,abcAT)\n",
    "LTP_trans = pd.read_csv('../data/convLTP_Genes.txt', sep = '\\t')\n",
    "LTP_trans = LTP_trans.rename(columns = {'From':'TAIR_ID','To':'ENTREZ_ID'})\n",
    "LTP_orig = pd.read_excel('../data/LTP_Genes.xlsx', sheet_name = 'Sheet1')\n",
    "ltpAT = sorted(set(list(LTP_trans['TAIR_ID'])))\n",
    "ltpEntrez = sorted(set(list(LTP_trans['ENTREZ_ID'])))\n",
    "ltpAT_orig = sorted(set(list(LTP_orig['TAIR_ID'])))\n",
    "ltp_NC  = nonConvertible(ltpAT_orig,ltpAT)\n",
    "abc, Uabc = existing(abcEntrez,genesG.nodes)\n",
    "ltp, Ultp = existing(ltpEntrez,genesG.nodes)\n",
    "\n",
    "# Create MR values for all ABC and LTP genes in ATTED set.\n",
    "newBool = False\n",
    "attedAbc, attedUabc = existing(abcEntrez, wholeAttedData.columns)\n",
    "attedLtp, attedUltp = existing(ltpEntrez, wholeAttedData.columns)\n",
    "if newBool:\n",
    "    mrDF = {0: attedLtp}\n",
    "    for abc in attedAbc:\n",
    "        tempMRs = []\n",
    "        for ltp in attedLtp:\n",
    "            if (abc in wholeAttedData.columns) and (ltp in wholeAttedData.columns):\n",
    "                tempMR = wholeAttedData.loc[abc,ltp]\n",
    "            tempMRs.append(tempMR)\n",
    "        mrDF[abc] = tempMRs\n",
    "    AbcLtpData = pd.DataFrame(mrDF,dtype='float64')\n",
    "    AbcLtpData = AbcLtpData.astype({0:'int'})\n",
    "    AbcLtpData = AbcLtpData.set_index(0)\n",
    "    pickle.dump(AbcLtpData, open(AbcLtpDataName, 'wb'))\n",
    "    newBool = False\n",
    "else:\n",
    "    AbcLtpData = pickle.load((open(AbcLtpDataName, 'rb')))\n",
    "\n",
    "# Run Shortest Path & store as pickle files\n",
    "simpleShortDistFileName = '../../project_data/simplifiedShortestDistances.p'\n",
    "shortDistFileName = '../../project_data/shortestDistances.p'\n",
    "'''\n",
    "simpleG, simpleGDict = simplifyGraph(abc,ltp, genesG,1)\n",
    "simple_abc_ltp_shortDist = ShortestDistances(genesG,abcEntrez,ltpEntrez, True)\n",
    "pickle.dump(abc_ltp_shortDist, open(shortDistFileName, 'wb'))\n",
    "simple_abc_ltp_shortDist = ShortestDistances(simpleG,abcEntrez,ltpEntrez, True)\n",
    "pickle.dump(simple_abc_ltp_shortDist, open(simpleShortDistFileName, 'wb'))\n",
    "'''\n",
    "print(f'ATTED-compatible ABC Genes: {len(attedAbc)}/{len(abcEntrez)}')\n",
    "print(f'ATTED-compatible LTP Genes: {len(attedLtp)}/{len(ltpEntrez)}')"
   ]
  },
  {
   "cell_type": "code",
   "execution_count": 3,
   "metadata": {},
   "outputs": [
    {
     "data": {
      "text/html": [
       "<div>\n",
       "<style scoped>\n",
       "    .dataframe tbody tr th:only-of-type {\n",
       "        vertical-align: middle;\n",
       "    }\n",
       "\n",
       "    .dataframe tbody tr th {\n",
       "        vertical-align: top;\n",
       "    }\n",
       "\n",
       "    .dataframe thead th {\n",
       "        text-align: right;\n",
       "    }\n",
       "</style>\n",
       "<table border=\"1\" class=\"dataframe\">\n",
       "  <thead>\n",
       "    <tr style=\"text-align: right;\">\n",
       "      <th></th>\n",
       "      <th>Entrez Gene Interactor A</th>\n",
       "      <th>Entrez Gene Interactor B</th>\n",
       "      <th>MR</th>\n",
       "    </tr>\n",
       "  </thead>\n",
       "  <tbody>\n",
       "    <tr>\n",
       "      <th>0</th>\n",
       "      <td>828230</td>\n",
       "      <td>832208</td>\n",
       "      <td>269.13</td>\n",
       "    </tr>\n",
       "    <tr>\n",
       "      <th>1</th>\n",
       "      <td>828230</td>\n",
       "      <td>821860</td>\n",
       "      <td>1067.96</td>\n",
       "    </tr>\n",
       "    <tr>\n",
       "      <th>2</th>\n",
       "      <td>836259</td>\n",
       "      <td>818903</td>\n",
       "      <td>17306.01</td>\n",
       "    </tr>\n",
       "    <tr>\n",
       "      <th>3</th>\n",
       "      <td>836259</td>\n",
       "      <td>825075</td>\n",
       "      <td>20073.00</td>\n",
       "    </tr>\n",
       "    <tr>\n",
       "      <th>4</th>\n",
       "      <td>836259</td>\n",
       "      <td>836259</td>\n",
       "      <td>0.00</td>\n",
       "    </tr>\n",
       "    <tr>\n",
       "      <th>...</th>\n",
       "      <td>...</td>\n",
       "      <td>...</td>\n",
       "      <td>...</td>\n",
       "    </tr>\n",
       "    <tr>\n",
       "      <th>56193</th>\n",
       "      <td>838388</td>\n",
       "      <td>827028</td>\n",
       "      <td>94.99</td>\n",
       "    </tr>\n",
       "    <tr>\n",
       "      <th>56194</th>\n",
       "      <td>838388</td>\n",
       "      <td>821921</td>\n",
       "      <td>10774.35</td>\n",
       "    </tr>\n",
       "    <tr>\n",
       "      <th>56195</th>\n",
       "      <td>838388</td>\n",
       "      <td>828889</td>\n",
       "      <td>16288.84</td>\n",
       "    </tr>\n",
       "    <tr>\n",
       "      <th>56196</th>\n",
       "      <td>838388</td>\n",
       "      <td>836652</td>\n",
       "      <td>3316.84</td>\n",
       "    </tr>\n",
       "    <tr>\n",
       "      <th>56197</th>\n",
       "      <td>10367</td>\n",
       "      <td>829835</td>\n",
       "      <td>NaN</td>\n",
       "    </tr>\n",
       "  </tbody>\n",
       "</table>\n",
       "<p>56198 rows × 3 columns</p>\n",
       "</div>"
      ],
      "text/plain": [
       "       Entrez Gene Interactor A  Entrez Gene Interactor B        MR\n",
       "0                        828230                    832208    269.13\n",
       "1                        828230                    821860   1067.96\n",
       "2                        836259                    818903  17306.01\n",
       "3                        836259                    825075  20073.00\n",
       "4                        836259                    836259      0.00\n",
       "...                         ...                       ...       ...\n",
       "56193                    838388                    827028     94.99\n",
       "56194                    838388                    821921  10774.35\n",
       "56195                    838388                    828889  16288.84\n",
       "56196                    838388                    836652   3316.84\n",
       "56197                     10367                    829835       NaN\n",
       "\n",
       "[56198 rows x 3 columns]"
      ]
     },
     "execution_count": 3,
     "metadata": {},
     "output_type": "execute_result"
    }
   ],
   "source": [
    "genesGRID"
   ]
  },
  {
   "cell_type": "code",
   "execution_count": 6,
   "metadata": {},
   "outputs": [
    {
     "data": {
      "text/plain": [
       "48981"
      ]
     },
     "execution_count": 6,
     "metadata": {},
     "output_type": "execute_result"
    }
   ],
   "source": [
    "len(set(genesG.edges()))"
   ]
  },
  {
   "cell_type": "code",
   "execution_count": 33,
   "metadata": {
    "scrolled": true
   },
   "outputs": [
    {
     "data": {
      "text/html": [
       "<div>\n",
       "<style scoped>\n",
       "    .dataframe tbody tr th:only-of-type {\n",
       "        vertical-align: middle;\n",
       "    }\n",
       "\n",
       "    .dataframe tbody tr th {\n",
       "        vertical-align: top;\n",
       "    }\n",
       "\n",
       "    .dataframe thead th {\n",
       "        text-align: right;\n",
       "    }\n",
       "</style>\n",
       "<table border=\"1\" class=\"dataframe\">\n",
       "  <thead>\n",
       "    <tr style=\"text-align: right;\">\n",
       "      <th></th>\n",
       "      <th>814660</th>\n",
       "      <th>815414</th>\n",
       "      <th>815846</th>\n",
       "      <th>817232</th>\n",
       "      <th>817351</th>\n",
       "      <th>817544</th>\n",
       "      <th>818031</th>\n",
       "      <th>818211</th>\n",
       "      <th>818265</th>\n",
       "      <th>818275</th>\n",
       "      <th>...</th>\n",
       "      <th>841761</th>\n",
       "      <th>841775</th>\n",
       "      <th>841876</th>\n",
       "      <th>842281</th>\n",
       "      <th>842763</th>\n",
       "      <th>842852</th>\n",
       "      <th>843013</th>\n",
       "      <th>843122</th>\n",
       "      <th>843398</th>\n",
       "      <th>843527</th>\n",
       "    </tr>\n",
       "    <tr>\n",
       "      <th>0</th>\n",
       "      <th></th>\n",
       "      <th></th>\n",
       "      <th></th>\n",
       "      <th></th>\n",
       "      <th></th>\n",
       "      <th></th>\n",
       "      <th></th>\n",
       "      <th></th>\n",
       "      <th></th>\n",
       "      <th></th>\n",
       "      <th></th>\n",
       "      <th></th>\n",
       "      <th></th>\n",
       "      <th></th>\n",
       "      <th></th>\n",
       "      <th></th>\n",
       "      <th></th>\n",
       "      <th></th>\n",
       "      <th></th>\n",
       "      <th></th>\n",
       "      <th></th>\n",
       "    </tr>\n",
       "  </thead>\n",
       "  <tbody>\n",
       "    <tr>\n",
       "      <th>815994</th>\n",
       "      <td>2140.84</td>\n",
       "      <td>4590.38</td>\n",
       "      <td>2952.89</td>\n",
       "      <td>232.41</td>\n",
       "      <td>7515.29</td>\n",
       "      <td>11137.42</td>\n",
       "      <td>15541.52</td>\n",
       "      <td>19171.69</td>\n",
       "      <td>4846.70</td>\n",
       "      <td>7809.72</td>\n",
       "      <td>...</td>\n",
       "      <td>18145.46</td>\n",
       "      <td>9985.99</td>\n",
       "      <td>819.80</td>\n",
       "      <td>15302.60</td>\n",
       "      <td>16988.04</td>\n",
       "      <td>2574.78</td>\n",
       "      <td>17122.69</td>\n",
       "      <td>4803.20</td>\n",
       "      <td>2227.71</td>\n",
       "      <td>16872.34</td>\n",
       "    </tr>\n",
       "    <tr>\n",
       "      <th>816022</th>\n",
       "      <td>12592.33</td>\n",
       "      <td>9639.99</td>\n",
       "      <td>10091.00</td>\n",
       "      <td>15010.24</td>\n",
       "      <td>14611.32</td>\n",
       "      <td>3450.57</td>\n",
       "      <td>16207.66</td>\n",
       "      <td>17142.84</td>\n",
       "      <td>18684.08</td>\n",
       "      <td>646.41</td>\n",
       "      <td>...</td>\n",
       "      <td>3341.93</td>\n",
       "      <td>10974.43</td>\n",
       "      <td>13964.91</td>\n",
       "      <td>13200.80</td>\n",
       "      <td>17598.92</td>\n",
       "      <td>18614.13</td>\n",
       "      <td>3122.28</td>\n",
       "      <td>13523.59</td>\n",
       "      <td>11654.36</td>\n",
       "      <td>12990.09</td>\n",
       "    </tr>\n",
       "    <tr>\n",
       "      <th>816352</th>\n",
       "      <td>20379.43</td>\n",
       "      <td>13865.64</td>\n",
       "      <td>19550.99</td>\n",
       "      <td>19288.25</td>\n",
       "      <td>15563.17</td>\n",
       "      <td>12858.78</td>\n",
       "      <td>4862.30</td>\n",
       "      <td>1402.08</td>\n",
       "      <td>8925.40</td>\n",
       "      <td>11132.99</td>\n",
       "      <td>...</td>\n",
       "      <td>139.44</td>\n",
       "      <td>9693.23</td>\n",
       "      <td>19534.00</td>\n",
       "      <td>8655.75</td>\n",
       "      <td>15372.33</td>\n",
       "      <td>19086.77</td>\n",
       "      <td>3190.90</td>\n",
       "      <td>910.37</td>\n",
       "      <td>18061.91</td>\n",
       "      <td>1832.80</td>\n",
       "    </tr>\n",
       "    <tr>\n",
       "      <th>817255</th>\n",
       "      <td>7932.24</td>\n",
       "      <td>3995.69</td>\n",
       "      <td>3345.01</td>\n",
       "      <td>2602.29</td>\n",
       "      <td>5251.46</td>\n",
       "      <td>15654.74</td>\n",
       "      <td>16998.01</td>\n",
       "      <td>20079.92</td>\n",
       "      <td>4069.37</td>\n",
       "      <td>11111.13</td>\n",
       "      <td>...</td>\n",
       "      <td>14353.08</td>\n",
       "      <td>16605.73</td>\n",
       "      <td>1989.09</td>\n",
       "      <td>20458.25</td>\n",
       "      <td>10087.99</td>\n",
       "      <td>4715.58</td>\n",
       "      <td>14433.90</td>\n",
       "      <td>7484.44</td>\n",
       "      <td>6402.09</td>\n",
       "      <td>16328.64</td>\n",
       "    </tr>\n",
       "    <tr>\n",
       "      <th>817912</th>\n",
       "      <td>18739.37</td>\n",
       "      <td>14779.56</td>\n",
       "      <td>18555.45</td>\n",
       "      <td>18297.69</td>\n",
       "      <td>13843.45</td>\n",
       "      <td>19754.03</td>\n",
       "      <td>10894.70</td>\n",
       "      <td>6046.07</td>\n",
       "      <td>4244.11</td>\n",
       "      <td>19052.52</td>\n",
       "      <td>...</td>\n",
       "      <td>11751.07</td>\n",
       "      <td>5353.98</td>\n",
       "      <td>17876.68</td>\n",
       "      <td>6323.32</td>\n",
       "      <td>10619.05</td>\n",
       "      <td>4098.81</td>\n",
       "      <td>13232.89</td>\n",
       "      <td>134.06</td>\n",
       "      <td>20446.01</td>\n",
       "      <td>4466.86</td>\n",
       "    </tr>\n",
       "  </tbody>\n",
       "</table>\n",
       "<p>5 rows × 103 columns</p>\n",
       "</div>"
      ],
      "text/plain": [
       "          814660    815414    815846    817232    817351    817544    818031  \\\n",
       "0                                                                              \n",
       "815994   2140.84   4590.38   2952.89    232.41   7515.29  11137.42  15541.52   \n",
       "816022  12592.33   9639.99  10091.00  15010.24  14611.32   3450.57  16207.66   \n",
       "816352  20379.43  13865.64  19550.99  19288.25  15563.17  12858.78   4862.30   \n",
       "817255   7932.24   3995.69   3345.01   2602.29   5251.46  15654.74  16998.01   \n",
       "817912  18739.37  14779.56  18555.45  18297.69  13843.45  19754.03  10894.70   \n",
       "\n",
       "          818211    818265    818275  ...    841761    841775    841876  \\\n",
       "0                                     ...                                 \n",
       "815994  19171.69   4846.70   7809.72  ...  18145.46   9985.99    819.80   \n",
       "816022  17142.84  18684.08    646.41  ...   3341.93  10974.43  13964.91   \n",
       "816352   1402.08   8925.40  11132.99  ...    139.44   9693.23  19534.00   \n",
       "817255  20079.92   4069.37  11111.13  ...  14353.08  16605.73   1989.09   \n",
       "817912   6046.07   4244.11  19052.52  ...  11751.07   5353.98  17876.68   \n",
       "\n",
       "          842281    842763    842852    843013    843122    843398    843527  \n",
       "0                                                                             \n",
       "815994  15302.60  16988.04   2574.78  17122.69   4803.20   2227.71  16872.34  \n",
       "816022  13200.80  17598.92  18614.13   3122.28  13523.59  11654.36  12990.09  \n",
       "816352   8655.75  15372.33  19086.77   3190.90    910.37  18061.91   1832.80  \n",
       "817255  20458.25  10087.99   4715.58  14433.90   7484.44   6402.09  16328.64  \n",
       "817912   6323.32  10619.05   4098.81  13232.89    134.06  20446.01   4466.86  \n",
       "\n",
       "[5 rows x 103 columns]"
      ]
     },
     "execution_count": 33,
     "metadata": {},
     "output_type": "execute_result"
    }
   ],
   "source": [
    "AbcLtpData.head()"
   ]
  },
  {
   "cell_type": "code",
   "execution_count": 88,
   "metadata": {},
   "outputs": [],
   "source": [
    "def GetTopGenes(cutoff, attedAbc = attedAbc, attedLtp = attedLtp, wholeAttedData=wholeAttedData):\n",
    "    '''\n",
    "    Gathers all ABC/LTP gene interactions with MR values less than cutoff .\n",
    "    Inputs: MR cutoff, list of Atted-compatible ABC genes, list of Atted-compatible LTP genes,\n",
    "            ATTED Co-expression MR matrix.\n",
    "    Output: list of tuples for each ABC/LTP interaction and dict with ABC genes as keys\n",
    "            and LTP genes as values.\n",
    "    '''\n",
    "    closeGenes = []\n",
    "    topGenes = {}\n",
    "    for abc in attedAbc:\n",
    "        closeLTPs = []\n",
    "        for ltp in attedLtp:\n",
    "            if wholeAttedData.loc[abc,ltp]<cutoff:\n",
    "                closeGenes.append((abc,ltp))\n",
    "                closeLTPs.append((ltp,wholeAttedData.loc[abc,ltp]))\n",
    "        topGenes[abc] = closeLTPs\n",
    "    numIter = len(closeGenes)\n",
    "    uniqueGenes = sorted(set([gene for genes in closeGenes for gene in genes]))\n",
    "    numUgenes = len(uniqueGenes)\n",
    "    print(f'There are {numIter} interactions when applying a cutoff of less than {cutoff}.')\n",
    "    print(f'There are {numUgenes} unique genes interacting with the given cutoff of less than {cutoff}.')\n",
    "    return closeGenes,topGenes,uniqueGenes\n"
   ]
  },
  {
   "cell_type": "code",
   "execution_count": 89,
   "metadata": {},
   "outputs": [
    {
     "name": "stdout",
     "output_type": "stream",
     "text": [
      "There are 7 interactions when applying a cutoff of less than 10.\n",
      "There are 11 unique genes interacting with the given cutoff of less than 10.\n"
     ]
    },
    {
     "data": {
      "text/plain": [
       "dict_values([[], [], [], [], [], [], [], [], [], [], [], [(820024, 7.03)], [], [], [], [], [], [], [], [], [], [], [], [], [], [], [], [], [], [], [], [], [], [], [], [], [], [], [], [], [], [], [(837046, 4.61)], [], [], [], [], [], [], [], [], [], [], [], [], [], [], [], [], [], [], [], [], [], [(819426, 9.94), (831237, 4.58)], [], [], [(831237, 9.15)], [], [], [], [], [], [], [], [], [], [], [], [], [], [(839688, 6.66)], [], [], [], [], [], [], [], [], [], [], [], [(837046, 7.26)], [], [], [], [], [], [], [], [], []])"
      ]
     },
     "execution_count": 89,
     "metadata": {},
     "output_type": "execute_result"
    }
   ],
   "source": [
    "closeGenes,topGenes,uniqueGenes = GetTopGenes(10)\n",
    "topGenes.values()"
   ]
  },
  {
   "cell_type": "code",
   "execution_count": 90,
   "metadata": {},
   "outputs": [
    {
     "name": "stdout",
     "output_type": "stream",
     "text": [
      "There are 75 interactions when applying a cutoff of less than 100.\n",
      "There are 52 unique genes interacting with the given cutoff of less than 100.\n"
     ]
    },
    {
     "data": {
      "text/plain": [
       "dict_values([[], [], [], [(823481, 37.2), (839688, 67.84), (841970, 49.99)], [], [], [], [], [], [(840520, 66.44), (843690, 92.66)], [], [(820024, 7.03), (841970, 98.02)], [(816352, 49.57), (819425, 71.86), (819426, 40.64), (825024, 62.36), (831237, 50.43), (837046, 40.65)], [(818435, 39.56), (830121, 62.74)], [], [], [], [], [], [], [(830121, 59.42)], [(824322, 62.6)], [], [(819038, 60.14), (821833, 74.33)], [], [(818435, 87.07)], [], [], [], [], [], [], [], [], [], [], [], [(830121, 21.28)], [], [], [(816352, 78.41), (819425, 28.74), (819426, 16.57), (821833, 84.42), (825024, 73.69), (831237, 24.66), (837046, 25.04)], [], [(819426, 79.29), (821833, 50.97), (831237, 12.17), (837046, 4.61)], [(827138, 71.73)], [(820024, 18.8), (841970, 98.09)], [(815994, 82.96)], [], [], [], [(822242, 75.36)], [], [], [], [], [], [], [(818436, 22.26), (823481, 15.73), (839688, 10.41), (841970, 25.8)], [], [], [], [], [], [], [], [(816352, 57.13), (819425, 12.86), (819426, 9.94), (821833, 22.01), (825024, 60.67), (831237, 4.58), (837046, 12.29)], [], [], [(816352, 82.73), (819425, 27.88), (819426, 21.19), (821833, 91.3), (825024, 63.08), (831237, 9.15), (837046, 17.98)], [], [], [], [], [], [(840520, 54.19)], [], [], [], [(843361, 96.5)], [], [(821829, 65.65), (827182, 63.56)], [(830121, 75.49)], [(818436, 16.11), (823481, 11.33), (839688, 6.66), (841970, 13.64)], [], [], [], [], [], [(839688, 85.61)], [], [], [], [(820024, 23.57)], [(815994, 14.53), (818436, 36.49), (823481, 21.7), (839688, 29.71), (841970, 23.24)], [(819425, 37.57), (819426, 33.93), (831237, 12.95), (837046, 7.26)], [], [], [], [], [], [], [], [], []])"
      ]
     },
     "execution_count": 90,
     "metadata": {},
     "output_type": "execute_result"
    }
   ],
   "source": [
    "closeGenes,topGenes,uniqueGenes = GetTopGenes(100)\n",
    "topGenes.values()"
   ]
  },
  {
   "cell_type": "code",
   "execution_count": 92,
   "metadata": {},
   "outputs": [],
   "source": [
    "eAbcLTP,uAbcLTP = existing(uniqueGenes,genesG.nodes)"
   ]
  },
  {
   "cell_type": "code",
   "execution_count": 95,
   "metadata": {},
   "outputs": [
    {
     "data": {
      "text/plain": [
       "24"
      ]
     },
     "execution_count": 95,
     "metadata": {},
     "output_type": "execute_result"
    }
   ],
   "source": [
    "len(uAbcLTP)"
   ]
  },
  {
   "cell_type": "code",
   "execution_count": 8,
   "metadata": {},
   "outputs": [
    {
     "data": {
      "text/html": [
       "<div>\n",
       "<style scoped>\n",
       "    .dataframe tbody tr th:only-of-type {\n",
       "        vertical-align: middle;\n",
       "    }\n",
       "\n",
       "    .dataframe tbody tr th {\n",
       "        vertical-align: top;\n",
       "    }\n",
       "\n",
       "    .dataframe thead th {\n",
       "        text-align: right;\n",
       "    }\n",
       "</style>\n",
       "<table border=\"1\" class=\"dataframe\">\n",
       "  <thead>\n",
       "    <tr style=\"text-align: right;\">\n",
       "      <th></th>\n",
       "      <th>814630</th>\n",
       "      <th>814636</th>\n",
       "      <th>814637</th>\n",
       "      <th>814638</th>\n",
       "      <th>814639</th>\n",
       "      <th>814640</th>\n",
       "      <th>814641</th>\n",
       "      <th>814642</th>\n",
       "      <th>814643</th>\n",
       "      <th>814644</th>\n",
       "      <th>...</th>\n",
       "      <th>6241421</th>\n",
       "      <th>7922308</th>\n",
       "      <th>7922320</th>\n",
       "      <th>7922354</th>\n",
       "      <th>7922367</th>\n",
       "      <th>7922380</th>\n",
       "      <th>7922387</th>\n",
       "      <th>7922407</th>\n",
       "      <th>7922469</th>\n",
       "      <th>7922506</th>\n",
       "    </tr>\n",
       "    <tr>\n",
       "      <th>0</th>\n",
       "      <th></th>\n",
       "      <th></th>\n",
       "      <th></th>\n",
       "      <th></th>\n",
       "      <th></th>\n",
       "      <th></th>\n",
       "      <th></th>\n",
       "      <th></th>\n",
       "      <th></th>\n",
       "      <th></th>\n",
       "      <th></th>\n",
       "      <th></th>\n",
       "      <th></th>\n",
       "      <th></th>\n",
       "      <th></th>\n",
       "      <th></th>\n",
       "      <th></th>\n",
       "      <th></th>\n",
       "      <th></th>\n",
       "      <th></th>\n",
       "      <th></th>\n",
       "    </tr>\n",
       "  </thead>\n",
       "  <tbody>\n",
       "    <tr>\n",
       "      <th>814630</th>\n",
       "      <td>0.00</td>\n",
       "      <td>318.41</td>\n",
       "      <td>13293.00</td>\n",
       "      <td>2012.21</td>\n",
       "      <td>391.97</td>\n",
       "      <td>11331.02</td>\n",
       "      <td>3853.85</td>\n",
       "      <td>7880.17</td>\n",
       "      <td>1178.08</td>\n",
       "      <td>11468.52</td>\n",
       "      <td>...</td>\n",
       "      <td>17696.05</td>\n",
       "      <td>3605.59</td>\n",
       "      <td>4653.87</td>\n",
       "      <td>2051.40</td>\n",
       "      <td>7714.35</td>\n",
       "      <td>3934.08</td>\n",
       "      <td>14314.08</td>\n",
       "      <td>7890.92</td>\n",
       "      <td>3637.87</td>\n",
       "      <td>17100.19</td>\n",
       "    </tr>\n",
       "    <tr>\n",
       "      <th>814636</th>\n",
       "      <td>318.41</td>\n",
       "      <td>0.00</td>\n",
       "      <td>1345.84</td>\n",
       "      <td>1377.79</td>\n",
       "      <td>1889.77</td>\n",
       "      <td>14446.29</td>\n",
       "      <td>3478.57</td>\n",
       "      <td>8718.75</td>\n",
       "      <td>1796.04</td>\n",
       "      <td>160.36</td>\n",
       "      <td>...</td>\n",
       "      <td>11608.16</td>\n",
       "      <td>7950.30</td>\n",
       "      <td>14414.01</td>\n",
       "      <td>1690.06</td>\n",
       "      <td>3638.52</td>\n",
       "      <td>9984.43</td>\n",
       "      <td>11806.58</td>\n",
       "      <td>3793.40</td>\n",
       "      <td>16087.01</td>\n",
       "      <td>12688.37</td>\n",
       "    </tr>\n",
       "    <tr>\n",
       "      <th>814637</th>\n",
       "      <td>13293.00</td>\n",
       "      <td>1345.84</td>\n",
       "      <td>0.00</td>\n",
       "      <td>6477.10</td>\n",
       "      <td>10638.69</td>\n",
       "      <td>9296.57</td>\n",
       "      <td>2975.28</td>\n",
       "      <td>4171.17</td>\n",
       "      <td>3094.54</td>\n",
       "      <td>3910.94</td>\n",
       "      <td>...</td>\n",
       "      <td>17976.84</td>\n",
       "      <td>5015.14</td>\n",
       "      <td>18482.80</td>\n",
       "      <td>9746.35</td>\n",
       "      <td>9631.91</td>\n",
       "      <td>12540.97</td>\n",
       "      <td>15917.68</td>\n",
       "      <td>1697.09</td>\n",
       "      <td>18218.43</td>\n",
       "      <td>18214.14</td>\n",
       "    </tr>\n",
       "    <tr>\n",
       "      <th>814638</th>\n",
       "      <td>2012.21</td>\n",
       "      <td>1377.79</td>\n",
       "      <td>6477.10</td>\n",
       "      <td>0.00</td>\n",
       "      <td>3905.41</td>\n",
       "      <td>5605.78</td>\n",
       "      <td>4150.36</td>\n",
       "      <td>19312.80</td>\n",
       "      <td>11929.09</td>\n",
       "      <td>10871.97</td>\n",
       "      <td>...</td>\n",
       "      <td>11698.43</td>\n",
       "      <td>3922.02</td>\n",
       "      <td>14997.43</td>\n",
       "      <td>513.91</td>\n",
       "      <td>2788.69</td>\n",
       "      <td>8006.93</td>\n",
       "      <td>11377.17</td>\n",
       "      <td>7071.96</td>\n",
       "      <td>11773.61</td>\n",
       "      <td>14089.66</td>\n",
       "    </tr>\n",
       "    <tr>\n",
       "      <th>814639</th>\n",
       "      <td>391.97</td>\n",
       "      <td>1889.77</td>\n",
       "      <td>10638.69</td>\n",
       "      <td>3905.41</td>\n",
       "      <td>0.00</td>\n",
       "      <td>20465.04</td>\n",
       "      <td>7853.09</td>\n",
       "      <td>5410.87</td>\n",
       "      <td>7441.45</td>\n",
       "      <td>8371.53</td>\n",
       "      <td>...</td>\n",
       "      <td>17244.83</td>\n",
       "      <td>7837.21</td>\n",
       "      <td>4526.14</td>\n",
       "      <td>1320.52</td>\n",
       "      <td>7760.51</td>\n",
       "      <td>4547.20</td>\n",
       "      <td>12653.59</td>\n",
       "      <td>14010.25</td>\n",
       "      <td>4374.40</td>\n",
       "      <td>10338.20</td>\n",
       "    </tr>\n",
       "    <tr>\n",
       "      <th>...</th>\n",
       "      <td>...</td>\n",
       "      <td>...</td>\n",
       "      <td>...</td>\n",
       "      <td>...</td>\n",
       "      <td>...</td>\n",
       "      <td>...</td>\n",
       "      <td>...</td>\n",
       "      <td>...</td>\n",
       "      <td>...</td>\n",
       "      <td>...</td>\n",
       "      <td>...</td>\n",
       "      <td>...</td>\n",
       "      <td>...</td>\n",
       "      <td>...</td>\n",
       "      <td>...</td>\n",
       "      <td>...</td>\n",
       "      <td>...</td>\n",
       "      <td>...</td>\n",
       "      <td>...</td>\n",
       "      <td>...</td>\n",
       "      <td>...</td>\n",
       "    </tr>\n",
       "    <tr>\n",
       "      <th>7922380</th>\n",
       "      <td>3934.08</td>\n",
       "      <td>9984.43</td>\n",
       "      <td>12540.97</td>\n",
       "      <td>8006.93</td>\n",
       "      <td>4547.20</td>\n",
       "      <td>17371.67</td>\n",
       "      <td>631.42</td>\n",
       "      <td>1888.21</td>\n",
       "      <td>3311.72</td>\n",
       "      <td>8173.86</td>\n",
       "      <td>...</td>\n",
       "      <td>17521.06</td>\n",
       "      <td>16038.41</td>\n",
       "      <td>9396.83</td>\n",
       "      <td>7235.10</td>\n",
       "      <td>3366.48</td>\n",
       "      <td>0.00</td>\n",
       "      <td>16379.67</td>\n",
       "      <td>7694.77</td>\n",
       "      <td>13140.85</td>\n",
       "      <td>15830.29</td>\n",
       "    </tr>\n",
       "    <tr>\n",
       "      <th>7922387</th>\n",
       "      <td>14314.08</td>\n",
       "      <td>11806.58</td>\n",
       "      <td>15917.68</td>\n",
       "      <td>11377.17</td>\n",
       "      <td>12653.59</td>\n",
       "      <td>7841.20</td>\n",
       "      <td>17139.09</td>\n",
       "      <td>6722.74</td>\n",
       "      <td>18110.16</td>\n",
       "      <td>16954.06</td>\n",
       "      <td>...</td>\n",
       "      <td>814.96</td>\n",
       "      <td>14075.79</td>\n",
       "      <td>7235.50</td>\n",
       "      <td>6280.56</td>\n",
       "      <td>9099.61</td>\n",
       "      <td>16379.67</td>\n",
       "      <td>0.00</td>\n",
       "      <td>14838.13</td>\n",
       "      <td>5761.01</td>\n",
       "      <td>3270.21</td>\n",
       "    </tr>\n",
       "    <tr>\n",
       "      <th>7922407</th>\n",
       "      <td>7890.92</td>\n",
       "      <td>3793.40</td>\n",
       "      <td>1697.09</td>\n",
       "      <td>7071.96</td>\n",
       "      <td>14010.25</td>\n",
       "      <td>1383.36</td>\n",
       "      <td>2597.53</td>\n",
       "      <td>3198.43</td>\n",
       "      <td>7402.64</td>\n",
       "      <td>7025.40</td>\n",
       "      <td>...</td>\n",
       "      <td>11818.49</td>\n",
       "      <td>15207.90</td>\n",
       "      <td>20313.68</td>\n",
       "      <td>6916.04</td>\n",
       "      <td>6162.04</td>\n",
       "      <td>7694.77</td>\n",
       "      <td>14838.13</td>\n",
       "      <td>0.00</td>\n",
       "      <td>14232.89</td>\n",
       "      <td>14371.92</td>\n",
       "    </tr>\n",
       "    <tr>\n",
       "      <th>7922469</th>\n",
       "      <td>3637.87</td>\n",
       "      <td>16087.01</td>\n",
       "      <td>18218.43</td>\n",
       "      <td>11773.61</td>\n",
       "      <td>4374.40</td>\n",
       "      <td>9735.51</td>\n",
       "      <td>18409.24</td>\n",
       "      <td>4778.62</td>\n",
       "      <td>19299.30</td>\n",
       "      <td>20135.36</td>\n",
       "      <td>...</td>\n",
       "      <td>4896.79</td>\n",
       "      <td>5750.12</td>\n",
       "      <td>809.63</td>\n",
       "      <td>7578.26</td>\n",
       "      <td>16382.78</td>\n",
       "      <td>13140.85</td>\n",
       "      <td>5761.01</td>\n",
       "      <td>14232.89</td>\n",
       "      <td>0.00</td>\n",
       "      <td>5648.56</td>\n",
       "    </tr>\n",
       "    <tr>\n",
       "      <th>7922506</th>\n",
       "      <td>17100.19</td>\n",
       "      <td>12688.37</td>\n",
       "      <td>18214.14</td>\n",
       "      <td>14089.66</td>\n",
       "      <td>10338.20</td>\n",
       "      <td>15798.11</td>\n",
       "      <td>13952.84</td>\n",
       "      <td>14163.79</td>\n",
       "      <td>17175.50</td>\n",
       "      <td>11877.87</td>\n",
       "      <td>...</td>\n",
       "      <td>2807.37</td>\n",
       "      <td>10232.28</td>\n",
       "      <td>5263.64</td>\n",
       "      <td>11884.46</td>\n",
       "      <td>11401.15</td>\n",
       "      <td>15830.29</td>\n",
       "      <td>3270.21</td>\n",
       "      <td>14371.92</td>\n",
       "      <td>5648.56</td>\n",
       "      <td>0.00</td>\n",
       "    </tr>\n",
       "  </tbody>\n",
       "</table>\n",
       "<p>20819 rows × 20819 columns</p>\n",
       "</div>"
      ],
      "text/plain": [
       "          814630    814636    814637    814638    814639    814640    814641   \\\n",
       "0                                                                               \n",
       "814630       0.00    318.41  13293.00   2012.21    391.97  11331.02   3853.85   \n",
       "814636     318.41      0.00   1345.84   1377.79   1889.77  14446.29   3478.57   \n",
       "814637   13293.00   1345.84      0.00   6477.10  10638.69   9296.57   2975.28   \n",
       "814638    2012.21   1377.79   6477.10      0.00   3905.41   5605.78   4150.36   \n",
       "814639     391.97   1889.77  10638.69   3905.41      0.00  20465.04   7853.09   \n",
       "...           ...       ...       ...       ...       ...       ...       ...   \n",
       "7922380   3934.08   9984.43  12540.97   8006.93   4547.20  17371.67    631.42   \n",
       "7922387  14314.08  11806.58  15917.68  11377.17  12653.59   7841.20  17139.09   \n",
       "7922407   7890.92   3793.40   1697.09   7071.96  14010.25   1383.36   2597.53   \n",
       "7922469   3637.87  16087.01  18218.43  11773.61   4374.40   9735.51  18409.24   \n",
       "7922506  17100.19  12688.37  18214.14  14089.66  10338.20  15798.11  13952.84   \n",
       "\n",
       "          814642    814643    814644   ...   6241421   7922308   7922320  \\\n",
       "0                                      ...                                 \n",
       "814630    7880.17   1178.08  11468.52  ...  17696.05   3605.59   4653.87   \n",
       "814636    8718.75   1796.04    160.36  ...  11608.16   7950.30  14414.01   \n",
       "814637    4171.17   3094.54   3910.94  ...  17976.84   5015.14  18482.80   \n",
       "814638   19312.80  11929.09  10871.97  ...  11698.43   3922.02  14997.43   \n",
       "814639    5410.87   7441.45   8371.53  ...  17244.83   7837.21   4526.14   \n",
       "...           ...       ...       ...  ...       ...       ...       ...   \n",
       "7922380   1888.21   3311.72   8173.86  ...  17521.06  16038.41   9396.83   \n",
       "7922387   6722.74  18110.16  16954.06  ...    814.96  14075.79   7235.50   \n",
       "7922407   3198.43   7402.64   7025.40  ...  11818.49  15207.90  20313.68   \n",
       "7922469   4778.62  19299.30  20135.36  ...   4896.79   5750.12    809.63   \n",
       "7922506  14163.79  17175.50  11877.87  ...   2807.37  10232.28   5263.64   \n",
       "\n",
       "          7922354   7922367   7922380   7922387   7922407   7922469   7922506  \n",
       "0                                                                              \n",
       "814630    2051.40   7714.35   3934.08  14314.08   7890.92   3637.87  17100.19  \n",
       "814636    1690.06   3638.52   9984.43  11806.58   3793.40  16087.01  12688.37  \n",
       "814637    9746.35   9631.91  12540.97  15917.68   1697.09  18218.43  18214.14  \n",
       "814638     513.91   2788.69   8006.93  11377.17   7071.96  11773.61  14089.66  \n",
       "814639    1320.52   7760.51   4547.20  12653.59  14010.25   4374.40  10338.20  \n",
       "...           ...       ...       ...       ...       ...       ...       ...  \n",
       "7922380   7235.10   3366.48      0.00  16379.67   7694.77  13140.85  15830.29  \n",
       "7922387   6280.56   9099.61  16379.67      0.00  14838.13   5761.01   3270.21  \n",
       "7922407   6916.04   6162.04   7694.77  14838.13      0.00  14232.89  14371.92  \n",
       "7922469   7578.26  16382.78  13140.85   5761.01  14232.89      0.00   5648.56  \n",
       "7922506  11884.46  11401.15  15830.29   3270.21  14371.92   5648.56      0.00  \n",
       "\n",
       "[20819 rows x 20819 columns]"
      ]
     },
     "execution_count": 8,
     "metadata": {},
     "output_type": "execute_result"
    }
   ],
   "source": [
    "wholeAttedData"
   ]
  },
  {
   "cell_type": "markdown",
   "metadata": {},
   "source": [
    "## Whole ATTED"
   ]
  },
  {
   "cell_type": "code",
   "execution_count": 29,
   "metadata": {},
   "outputs": [],
   "source": [
    "# ATTED Degree-Rank based on MR\n",
    "sumMR_WA = wholeAttedData.sum()\n",
    "sumMR_WA = list(sumMR_A)\n",
    "rank_sumMR_WA = sorted(sumMR_A, reverse = True)\n",
    "# ATTED Degree-Count based on MR\n",
    "binsize = 1000000\n",
    "binMRW= (np.array(sumMR_WA)/binsize).astype('int')\n",
    "attedCountW = collections.Counter(binMRW) \n",
    "MR_WA, cnt_WA = zip(*attedCountW.items())\n",
    "n_binsW = len(MR_WA)"
   ]
  },
  {
   "cell_type": "code",
   "execution_count": 30,
   "metadata": {},
   "outputs": [
    {
     "data": {
      "text/plain": [
       "Text(0, 0.5, 'Count')"
      ]
     },
     "execution_count": 30,
     "metadata": {},
     "output_type": "execute_result"
    },
    {
     "data": {
      "image/png": "[encoded data removed]",
      "text/plain": [
       "<Figure size 432x288 with 1 Axes>"
      ]
     },
     "metadata": {},
     "output_type": "display_data"
    }
   ],
   "source": [
    "# Visualize MR distribution of ATTED (pseduo histogram)\n",
    "sns.set_style('whitegrid')\n",
    "plt.scatter(MR_WA,cnt_WA)\n",
    "plt.title('Whole ATTED Cumulative Mutual Rank (N_bins = {})'.format(n_binsW))\n",
    "plt.xlabel('Cumulative Mutual Rank (x10^{:.0f})'.format(np.log10(binsize)))\n",
    "plt.ylabel('Count')"
   ]
  },
  {
   "cell_type": "code",
   "execution_count": 31,
   "metadata": {},
   "outputs": [
    {
     "data": {
      "text/plain": [
       "Text(0, 0.5, 'Count')"
      ]
     },
     "execution_count": 31,
     "metadata": {},
     "output_type": "execute_result"
    },
    {
     "data": {
      "image/png": "[encoded data removed]",
      "text/plain": [
       "<Figure size 432x288 with 1 Axes>"
      ]
     },
     "metadata": {},
     "output_type": "display_data"
    }
   ],
   "source": [
    "# Visualize MR distribution of ATTED (Histogram)\n",
    "plt.hist(np.array(sumMR_WA)/1000000, bins = np.arange(194,240,1))\n",
    "plt.title('Whole ATTED Cumulative Mutual Rank (N_bins = {})'.format(n_binsW))\n",
    "plt.xlabel('Cumulative Mutual Rank (x10^{:.0f})'.format(np.log10(binsize)))\n",
    "plt.ylabel('Count')"
   ]
  },
  {
   "cell_type": "code",
   "execution_count": 32,
   "metadata": {},
   "outputs": [
    {
     "data": {
      "text/plain": [
       "Text(0.5, 0, 'Rank')"
      ]
     },
     "execution_count": 32,
     "metadata": {},
     "output_type": "execute_result"
    },
    {
     "data": {
      "image/png": "[encoded data removed]",
      "text/plain": [
       "<Figure size 432x288 with 1 Axes>"
      ]
     },
     "metadata": {},
     "output_type": "display_data"
    }
   ],
   "source": [
    "sns.set_style('ticks')\n",
    "plt.loglog(rank_sumMR_WA, 'b-', marker='o', markersize = 2)\n",
    "plt.title(\"cMR-Rank Plot of Whole ATTED Data\") \n",
    "plt.ylabel(\"Cumulative Mutual Rank (cMR)\")\n",
    "plt.xlabel(\"Rank\")"
   ]
  },
  {
   "cell_type": "markdown",
   "metadata": {},
   "source": [
    "## Overlapping ATTED"
   ]
  },
  {
   "cell_type": "code",
   "execution_count": 20,
   "metadata": {},
   "outputs": [],
   "source": [
    "# ATTED Degree-Rank based on MR\n",
    "sumMR_A = attedData.sum()\n",
    "sumMR_A = list(sumMR_A)\n",
    "rank_sumMR_A = sorted(sumMR_A, reverse = True)\n",
    "# ATTED Degree-Count based on MR\n",
    "binsize = 1000000\n",
    "binMR= (np.array(sumMR_A)/binsize).astype('int')\n",
    "attedCount = collections.Counter(binMR) \n",
    "MR_A, cnt_A = zip(*attedCount.items())\n",
    "n_bins = len(MR_A)"
   ]
  },
  {
   "cell_type": "code",
   "execution_count": 21,
   "metadata": {},
   "outputs": [
    {
     "data": {
      "text/plain": [
       "Text(0, 0.5, 'Count')"
      ]
     },
     "execution_count": 21,
     "metadata": {},
     "output_type": "execute_result"
    },
    {
     "data": {
      "image/png": "[encoded data removed]",
      "text/plain": [
       "<Figure size 432x288 with 1 Axes>"
      ]
     },
     "metadata": {},
     "output_type": "display_data"
    }
   ],
   "source": [
    "# Visualize MR distribution of ATTED (pseduo histogram)\n",
    "sns.set_style('whitegrid')\n",
    "plt.scatter(MR_A,cnt_A)\n",
    "plt.title('Whole ATTED Cumulative Mutual Rank (N_bins = {})'.format(n_bins))\n",
    "plt.xlabel('Cumulative Mutual Rank (x10^{:.0f})'.format(np.log10(binsize)))\n",
    "plt.ylabel('Count')"
   ]
  },
  {
   "cell_type": "code",
   "execution_count": 24,
   "metadata": {},
   "outputs": [
    {
     "data": {
      "text/plain": [
       "Text(0, 0.5, 'Count')"
      ]
     },
     "execution_count": 24,
     "metadata": {},
     "output_type": "execute_result"
    },
    {
     "data": {
      "image/png": "[encoded data removed]",
      "text/plain": [
       "<Figure size 432x288 with 1 Axes>"
      ]
     },
     "metadata": {},
     "output_type": "display_data"
    }
   ],
   "source": [
    "# Visualize MR distribution of ATTED (Histogram)\n",
    "plt.hist(np.array(sumMR_A)/1000000, bins = np.arange(194,240,1))\n",
    "plt.title('Whole ATTED Cumulative Mutual Rank (N_bins = {})'.format(n_bins))\n",
    "plt.xlabel('Cumulative Mutual Rank (x10^{:.0f})'.format(np.log10(binsize)))\n",
    "plt.ylabel('Count')"
   ]
  },
  {
   "cell_type": "code",
   "execution_count": 33,
   "metadata": {},
   "outputs": [
    {
     "data": {
      "text/plain": [
       "Text(0.5, 0, 'Rank')"
      ]
     },
     "execution_count": 33,
     "metadata": {},
     "output_type": "execute_result"
    },
    {
     "data": {
      "image/png": "[encoded data removed]",
      "text/plain": [
       "<Figure size 432x288 with 1 Axes>"
      ]
     },
     "metadata": {},
     "output_type": "display_data"
    }
   ],
   "source": [
    "sns.set_style('ticks')\n",
    "plt.loglog(rank_sumMR_A, 'b-', marker='o', markersize = 2)\n",
    "plt.title(\"cMR-Rank Plot of Whole ATTED Data\") \n",
    "plt.ylabel(\"Cumulative Mutual Rank (cMR)\")\n",
    "plt.xlabel(\"Rank\")"
   ]
  },
  {
   "cell_type": "markdown",
   "metadata": {},
   "source": [
    "## BioGRID"
   ]
  },
  {
   "cell_type": "code",
   "execution_count": 34,
   "metadata": {},
   "outputs": [],
   "source": [
    "# BioGRID Degree-Rank based on MR\n",
    "deg_Bio = [genesG.degree(gene) for gene in genesG.nodes] \n",
    "rank_deg_bio = sorted(deg_Bio, reverse = True)\n",
    "# BioGRID Degree-Count\n",
    "deg_Bio_count = collections.Counter(deg_Bio)\n",
    "deg_B,cnt_B = zip(*deg_Bio_count.items())"
   ]
  },
  {
   "cell_type": "code",
   "execution_count": 35,
   "metadata": {},
   "outputs": [
    {
     "data": {
      "text/plain": [
       "Text(0, 0.5, 'Gene Count')"
      ]
     },
     "execution_count": 35,
     "metadata": {},
     "output_type": "execute_result"
    },
    {
     "data": {
      "image/png": "[encoded data removed]",
      "text/plain": [
       "<Figure size 432x288 with 1 Axes>"
      ]
     },
     "metadata": {},
     "output_type": "display_data"
    }
   ],
   "source": [
    "# Visualize degree distribution of BioGRID (psuedo bar plot)\n",
    "sns.set_style('whitegrid')\n",
    "sns.axes_style('ticks')\n",
    "plt.scatter(deg_B,cnt_B)\n",
    "plt.title('BioGRID Degrees')\n",
    "plt.xlabel('Gene Degree')\n",
    "plt.ylabel('Gene Count')"
   ]
  },
  {
   "cell_type": "code",
   "execution_count": 54,
   "metadata": {},
   "outputs": [
    {
     "data": {
      "image/png": "[encoded data removed]",
      "text/plain": [
       "<Figure size 1008x288 with 3 Axes>"
      ]
     },
     "metadata": {},
     "output_type": "display_data"
    }
   ],
   "source": [
    "# Histogram Separated into 3 sections to see\n",
    "fig, axs = plt.subplots(1, 3, figsize=(14, 4))\n",
    "for i in range(3):\n",
    "    axs[i].hist(deg_Bio, bins = np.arange(0,1500,10))\n",
    "    axs[i].set_title('BioGRID Degrees')\n",
    "    axs[i].set_xlabel('Gene Degree')\n",
    "    axs[i].set_ylabel('Gene Count')\n",
    "axs[0].set_xlim(0,50)\n",
    "axs[1].set_xlim(50,100)\n",
    "axs[1].set_ylim(0,100)\n",
    "axs[2].set_xlim(100,1400)\n",
    "axs[2].set_ylim(0,10)\n",
    "plt.tight_layout()"
   ]
  },
  {
   "cell_type": "code",
   "execution_count": 90,
   "metadata": {},
   "outputs": [
    {
     "data": {
      "text/plain": [
       "Text(0.5, 0, 'Rank')"
      ]
     },
     "execution_count": 90,
     "metadata": {},
     "output_type": "execute_result"
    },
    {
     "data": {
      "image/png": "[encoded data removed]",
      "text/plain": [
       "<Figure size 432x288 with 1 Axes>"
      ]
     },
     "metadata": {},
     "output_type": "display_data"
    }
   ],
   "source": [
    "sns.set_style('ticks')\n",
    "plt.loglog(rank_deg_bio, 'b-', marker='o', markersize = 2)\n",
    "plt.title(\"Degree Rank Plot of BioGRID Data\") \n",
    "plt.ylabel(\"Degree\")\n",
    "plt.xlabel(\"Rank\")"
   ]
  },
  {
   "cell_type": "code",
   "execution_count": 97,
   "metadata": {},
   "outputs": [],
   "source": [
    "# BioGRID ABC Degree-Rank based on MR\n",
    "deg_BioABC = [genesG.degree(gene) for gene in abc] \n",
    "rank_deg_bioABC = sorted(deg_BioABC, reverse = True)\n",
    "# BioGRID ABC Degree-Count\n",
    "deg_Bio_countABC = collections.Counter(deg_BioABC)\n",
    "deg_BABC,cnt_BABC = zip(*deg_Bio_countABC.items())\n",
    "\n",
    "# BioGRID LTP Degree-Rank based on MR\n",
    "deg_BioLTP = [genesG.degree(gene) for gene in ltp] \n",
    "rank_deg_bioLTP = sorted(deg_BioLTP, reverse = True)\n",
    "# BioGRID LTP Degree-Count\n",
    "deg_Bio_countLTP = collections.Counter(deg_BioLTP)\n",
    "deg_BLTP,cnt_BLTP = zip(*deg_Bio_countLTP.items())\n",
    "\n",
    "# BioGRID Both ABC,LTP Degree-Rank based on MR\n",
    "deg_BioB = [genesG.degree(gene) for gene in abc+ltp] \n",
    "rank_deg_bioB = sorted(deg_BioB, reverse = True)\n",
    "# BioGRID Both ABC,LTP Degree-Count\n",
    "deg_Bio_countB = collections.Counter(deg_BioB)\n",
    "deg_BB,cnt_BB = zip(*deg_Bio_countB.items())"
   ]
  },
  {
   "cell_type": "code",
   "execution_count": 102,
   "metadata": {},
   "outputs": [
    {
     "data": {
      "image/png": "[encoded data removed]",
      "text/plain": [
       "<Figure size 1008x288 with 3 Axes>"
      ]
     },
     "metadata": {},
     "output_type": "display_data"
    }
   ],
   "source": [
    "# Visualize degree distribution of BioGRID (psuedo bar plot)\n",
    "fig, axs = plt.subplots(1, 3, figsize=(14, 4))\n",
    "sns.set_style('whitegrid')\n",
    "sns.axes_style('ticks')\n",
    "axs[0].scatter(deg_BABC,cnt_BABC)\n",
    "axs[0].set_title('BioGRID Degrees (ABC Genes)')\n",
    "axs[0].set_xlabel('Gene Degree')\n",
    "axs[0].set_ylabel('Gene Count')\n",
    "axs[1].scatter(deg_BLTP,cnt_BLTP)\n",
    "axs[1].set_title('BioGRID Degrees (LTP Genes)')\n",
    "axs[1].set_xlabel('Gene Degree')\n",
    "axs[1].set_ylabel('Gene Count')\n",
    "axs[2].scatter(deg_BB,cnt_BB)\n",
    "axs[2].set_title('BioGRID Degrees (ABC+LTP Genes)')\n",
    "axs[2].set_xlabel('Gene Degree')\n",
    "axs[2].set_ylabel('Gene Count')\n",
    "plt.tight_layout()"
   ]
  },
  {
   "cell_type": "code",
   "execution_count": 105,
   "metadata": {},
   "outputs": [
    {
     "data": {
      "image/png": "[encoded data removed]",
      "text/plain": [
       "<Figure size 1008x288 with 3 Axes>"
      ]
     },
     "metadata": {},
     "output_type": "display_data"
    }
   ],
   "source": [
    "# Histogram Separated into 3 sections to see\n",
    "fig, axs = plt.subplots(1, 3, figsize=(14, 4))\n",
    "sns.set_style('whitegrid')\n",
    "sns.axes_style('ticks')\n",
    "axs[0].hist(deg_BioABC, bins = np.arange(0,71,10))\n",
    "axs[0].set_title('BioGRID Degrees (ABC Genes)')\n",
    "axs[0].set_xlabel('Gene Degree')\n",
    "axs[0].set_ylabel('Gene Count')\n",
    "axs[1].hist(deg_BioLTP, bins = np.arange(0,20,5))\n",
    "axs[1].set_title('BioGRID Degrees (LTP Genes)')\n",
    "axs[1].set_xlabel('Gene Degree')\n",
    "axs[1].set_ylabel('Gene Count')\n",
    "axs[2].hist(deg_BioB, bins = np.arange(0,71,10))\n",
    "axs[2].set_title('BioGRID Degrees (ABC+LTP Genes)')\n",
    "axs[2].set_xlabel('Gene Degree')\n",
    "axs[2].set_ylabel('Gene Count')\n",
    "plt.tight_layout()"
   ]
  },
  {
   "cell_type": "code",
   "execution_count": 110,
   "metadata": {},
   "outputs": [
    {
     "data": {
      "image/png": "[encoded data removed]",
      "text/plain": [
       "<Figure size 1008x288 with 3 Axes>"
      ]
     },
     "metadata": {},
     "output_type": "display_data"
    }
   ],
   "source": [
    "fig, axs = plt.subplots(1, 3, figsize=(14, 4))\n",
    "sns.axes_style('ticks')\n",
    "axs[0].loglog(rank_deg_bioABC, 'b-', marker='o', markersize = 2)\n",
    "axs[0].set_title('BioGRID Degree Rank (ABC Genes)')\n",
    "axs[0].set_xlabel('Gene Rank')\n",
    "axs[0].set_ylabel('Gene Degree')\n",
    "axs[1].loglog(rank_deg_bioLTP, 'b-', marker='o', markersize = 2)\n",
    "axs[1].set_title('BioGRID Degree Rank (LTP Genes)')\n",
    "axs[1].set_xlabel('Gene Rank')\n",
    "axs[1].set_ylabel('Gene Degree')\n",
    "axs[2].loglog(rank_deg_bioB, 'b-', marker='o', markersize = 2)\n",
    "axs[2].set_title('BioGRID Degree Rank (ABC+LTP Genes)')\n",
    "axs[2].set_xlabel('Gene Rank')\n",
    "axs[2].set_ylabel('Gene Degree')\n",
    "plt.tight_layout()"
   ]
  }
 ],
 "metadata": {
  "kernelspec": {
   "display_name": "Python 3",
   "language": "python",
   "name": "python3"
  },
  "language_info": {
   "codemirror_mode": {
    "name": "ipython",
    "version": 3
   },
   "file_extension": ".py",
   "mimetype": "text/x-python",
   "name": "python",
   "nbconvert_exporter": "python",
   "pygments_lexer": "ipython3",
   "version": "3.7.7"
  }
 },
 "nbformat": 4,
 "nbformat_minor": 4
}
